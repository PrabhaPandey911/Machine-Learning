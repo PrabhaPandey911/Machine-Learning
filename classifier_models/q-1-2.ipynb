{
 "cells": [
  {
   "cell_type": "code",
   "execution_count": 81,
   "metadata": {},
   "outputs": [],
   "source": [
    "from __future__ import division\n",
    "import numpy as np\n",
    "import pandas as pd\n",
    "import sys\n",
    "import math\n",
    "filename=\"./LoanDataset/data.csv\""
   ]
  },
  {
   "cell_type": "code",
   "execution_count": 82,
   "metadata": {},
   "outputs": [],
   "source": [
    "colnames=['id','age','experience','income','zipcode','family_size','spending','education_level','mortgage_value','loan_status','security_account','CD_account','internet_banking','credit_card'] \n",
    "data = pd.read_csv(filename, names=colnames,skipinitialspace=True)\n",
    "cat=['credit_card','internet_banking','CD_account','security_account','education_level','loan_status']\n",
    "num=['age','experience','income','family_size','spending','mortgage_value','loan_status']"
   ]
  },
  {
   "cell_type": "code",
   "execution_count": 83,
   "metadata": {},
   "outputs": [
    {
     "name": "stdout",
     "output_type": "stream",
     "text": [
      "['age', 'experience', 'income', 'family_size', 'spending', 'education_level', 'mortgage_value', 'loan_status', 'security_account', 'CD_account', 'internet_banking', 'credit_card']\n"
     ]
    }
   ],
   "source": [
    "data.pop('zipcode') #dropping zipcode and id columns\n",
    "data.pop('id')\n",
    "data = data.drop(data.index[:1])\n",
    "print list(data)"
   ]
  },
  {
   "cell_type": "code",
   "execution_count": 84,
   "metadata": {},
   "outputs": [],
   "source": [
    "data = data.sample(frac=1)\n",
    "train, validate = np.split(data, [int(.8*len(data))])\n",
    "numerical=pd.DataFrame(train,columns=num)\n",
    "categorical=pd.DataFrame(train,columns=cat)"
   ]
  },
  {
   "cell_type": "code",
   "execution_count": 85,
   "metadata": {},
   "outputs": [],
   "source": [
    "def categorical_probability(df):\n",
    "    probability={}\n",
    "    total_yes_count=df.loan_status.value_counts()[1]\n",
    "    total_no_count=df.loan_status.value_counts()[0]\n",
    "    for i in df.columns:\n",
    "        if i!='loan_status':\n",
    "            l={}\n",
    "            yescount={}\n",
    "            nocount={}\n",
    "            for index,rows in df.iterrows():\n",
    "                if rows[i] in l.keys():\n",
    "                    l[rows[i]]+=1\n",
    "                    if rows['loan_status']==0:\n",
    "                        if rows[i] in nocount.keys():\n",
    "                            nocount[rows[i]]+=1\n",
    "                        else:\n",
    "                            nocount[rows[i]]=1\n",
    "                    else:\n",
    "                        if rows[i] in yescount.keys():\n",
    "                            yescount[rows[i]]+=1\n",
    "                        else:\n",
    "                            yescount[rows[i]]=1\n",
    "                else:\n",
    "                    l[rows[i]]=1\n",
    "                    if rows['loan_status']==0:\n",
    "                        if rows[i] in nocount.keys():\n",
    "                            nocount[rows[i]]+=1\n",
    "                        else:\n",
    "                            nocount[rows[i]]=1\n",
    "                    else:\n",
    "                        if rows[i] in yescount.keys():\n",
    "                            yescount[rows[i]]+=1\n",
    "                        else:\n",
    "                            yescount[rows[i]]=1\n",
    "            for i2 in yescount.keys():\n",
    "                probability[(i,(i2,1))]=(yescount[i2]/total_yes_count)\n",
    "            for i3 in nocount.keys():\n",
    "                probability[(i,(i3,0))]=(nocount[i3]/total_no_count )\n",
    "    return probability\n",
    "\n",
    "# categorical_dict=categorical_probability(categorical)\n",
    "#structure of probability dictionary=>\n",
    "#key=(attribute_name,(attribute_value,loan_status_value))\n",
    "#value=probability coressponding to given key "
   ]
  },
  {
   "cell_type": "code",
   "execution_count": 86,
   "metadata": {},
   "outputs": [],
   "source": [
    "def numerical_probability(df):\n",
    "    mean={}\n",
    "    standard_deviation={}\n",
    "    for i in df.columns:\n",
    "        if i!='loan_status':\n",
    "            mean[(i,0)]=train[train['loan_status']==0][i].mean()\n",
    "            mean[(i,1)]=train[train['loan_status']==1][i].mean()\n",
    "            standard_deviation[(i,0)]=train[train['loan_status']==0][i].std()\n",
    "            standard_deviation[(i,1)]=train[train['loan_status']==1][i].std()\n",
    "    return mean,standard_deviation\n",
    "# numerical_dict=numerical_probability(numerical)"
   ]
  },
  {
   "cell_type": "code",
   "execution_count": 87,
   "metadata": {},
   "outputs": [],
   "source": [
    "def gaussian_dist(w,sigma,mean):\n",
    "    x=(w-mean)**2\n",
    "    x=x/(2*sigma*sigma)\n",
    "    x=0-x\n",
    "    y=math.exp(x)\n",
    "    deno=math.sqrt(2*(math.pi))\n",
    "    deno=deno*sigma\n",
    "    return y/deno\n"
   ]
  },
  {
   "cell_type": "code",
   "execution_count": 88,
   "metadata": {},
   "outputs": [],
   "source": [
    "temp_mean,temp_sd=numerical_probability(numerical)\n",
    "temp_dict=categorical_probability(categorical)\n",
    "\n",
    "def predict(row,columns,temp_mean,temp_sd,temp_dict):\n",
    "    no=1\n",
    "    yes=1\n",
    "    total_yes_count=train.loan_status.value_counts()[1]\n",
    "    total_no_count=train.loan_status.value_counts()[0]\n",
    "    for i in columns:\n",
    "        if i!='loan_status':\n",
    "            if i in numerical:\n",
    "                mean_val_yes=temp_mean[(i,1)]\n",
    "                sd_val_yes=temp_sd[(i,1)]\n",
    "                mean_val_no=temp_mean[(i,0)]\n",
    "                sd_val_no=temp_sd[(i,0)]\n",
    "                w=row[i]\n",
    "                f1=gaussian_dist(w,sd_val_yes,mean_val_yes)\n",
    "                f0=gaussian_dist(w,sd_val_no,mean_val_no)\n",
    "                no*=f0\n",
    "                yes*=f1\n",
    "            else:\n",
    "                probability1=temp_dict[(i,(row[i],1))]\n",
    "                probability0=temp_dict[(i,(row[i],0))]\n",
    "                no*=probability0\n",
    "                yes*=probability1\n",
    "    yes*=(total_yes_count/len(train))\n",
    "    no*=(total_no_count/len(train))\n",
    "    if yes>no:\n",
    "        return 1\n",
    "    else:\n",
    "        return 0           "
   ]
  },
  {
   "cell_type": "markdown",
   "metadata": {},
   "source": [
    "# Observation"
   ]
  },
  {
   "cell_type": "code",
   "execution_count": 89,
   "metadata": {},
   "outputs": [
    {
     "name": "stdout",
     "output_type": "stream",
     "text": [
      "True Positive:  51\n",
      "True Negative:  763\n",
      "False Positive:  52\n",
      "False Negative:  34\n"
     ]
    },
    {
     "data": {
      "text/plain": [
       "0.9044444444444445"
      ]
     },
     "execution_count": 89,
     "metadata": {},
     "output_type": "execute_result"
    }
   ],
   "source": [
    "def calculate_accuracy(df,temp_mean,temp_sd,temp_dict):\n",
    "    tp=0\n",
    "    tn=0\n",
    "    fp=0\n",
    "    fn=0\n",
    "    for index,row in df.iterrows():\n",
    "        pred=predict(row,df.columns,temp_mean,temp_sd,temp_dict)\n",
    "        if row['loan_status']==1 and pred==1:\n",
    "            tp+=1\n",
    "        if row['loan_status']==0 and pred==0:\n",
    "            tn+=1\n",
    "        if row['loan_status']==1 and pred==0:\n",
    "            fn+=1\n",
    "        if row['loan_status']==0 and pred==1:\n",
    "            fp+=1\n",
    "    accuracy=float(tp+tn)/(tp+tn+fp+fn)\n",
    "    print \"True Positive: \",tp\n",
    "    print \"True Negative: \",tn\n",
    "    print \"False Positive: \",fp\n",
    "    print \"False Negative: \",fn\n",
    "    return accuracy\n",
    "calculate_accuracy(validate,temp_mean,temp_sd,temp_dict)"
   ]
  },
  {
   "cell_type": "code",
   "execution_count": 90,
   "metadata": {},
   "outputs": [
    {
     "name": "stdout",
     "output_type": "stream",
     "text": [
      "Test File: ./test_loan.csv\n",
      "0\n",
      "0\n",
      "0\n",
      "0\n",
      "0\n",
      "0\n",
      "0\n",
      "0\n",
      "1\n",
      "0\n"
     ]
    }
   ],
   "source": [
    "testfile=raw_input(\"Test File: \")\n",
    "colnames1=['age','experience','income','zipcode','family_size','spending','education_level','mortgage_value','security_account','CD_account','internet_banking','credit_card']\n",
    "coltemp=['age','experience','income','family_size','spending','education_level','mortgage_value','security_account','CD_account','internet_banking','credit_card']\n",
    "test = pd.read_csv(testfile, names=colnames1)#,skipinitialspace=True)\n",
    "test.pop('zipcode') \n",
    "\n",
    "\n",
    "for index,row in test.iterrows():\n",
    "    print predict(row,coltemp,temp_mean,temp_sd,temp_dict)"
   ]
  }
 ],
 "metadata": {
  "kernelspec": {
   "display_name": "Python 2",
   "language": "python",
   "name": "python2"
  },
  "language_info": {
   "codemirror_mode": {
    "name": "ipython",
    "version": 2
   },
   "file_extension": ".py",
   "mimetype": "text/x-python",
   "name": "python",
   "nbconvert_exporter": "python",
   "pygments_lexer": "ipython2",
   "version": "2.7.15rc1"
  }
 },
 "nbformat": 4,
 "nbformat_minor": 2
}
