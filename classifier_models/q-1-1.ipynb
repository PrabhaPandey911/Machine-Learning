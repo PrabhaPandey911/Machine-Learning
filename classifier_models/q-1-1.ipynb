{
 "cells": [
  {
   "cell_type": "markdown",
   "metadata": {},
   "source": [
    "# q-1-1\n",
    "\n",
    "# Part (i): "
   ]
  },
  {
   "cell_type": "code",
   "execution_count": 137,
   "metadata": {},
   "outputs": [],
   "source": [
    "import numpy as np\n",
    "import pandas as pd\n",
    "import sys\n",
    "import math\n",
    "import matplotlib\n",
    "import matplotlib.pyplot as plt\n",
    "from pylab import *\n",
    "filename1=\"./RobotDataset/Robot1\"\n",
    "filename2=\"./RobotDataset/Robot2\""
   ]
  },
  {
   "cell_type": "code",
   "execution_count": 138,
   "metadata": {},
   "outputs": [],
   "source": [
    "#As the given data does not have column names defined, hence giving them names accordingly, while reading the file\n",
    "colnames=['class', 'a1', 'a2', 'a3','a4','a5','a6','Id'] \n",
    "\n",
    "robot1 = pd.read_csv(filename, sep=' ', names=colnames,skipinitialspace=True)\n",
    "\n",
    "robot2 =pd.read_csv(filename2,sep=' ',names=colnames,skipinitialspace=True)"
   ]
  },
  {
   "cell_type": "code",
   "execution_count": 139,
   "metadata": {},
   "outputs": [],
   "source": [
    "#To calculate the distance we need to bring down all the values of all the columns within the range of 0 and 1\n",
    "#and hence normalize the data\n",
    "\n",
    "#bringing down the values in the range(0,1)\n",
    "def normalise(data):\n",
    "    result=data\n",
    "    for col in data.columns:\n",
    "        if col!='class'and col!='Id':\n",
    "            minimum=data[col].min()\n",
    "            maximum=data[col].max()\n",
    "            result[col]=((data[col])-minimum)/(maximum-minimum)\n",
    "    return result\n",
    "\n",
    "#normalizing for robot1\n",
    "robot1=normalise(robot1)\n",
    "\n",
    "#normalizing for robot2\n",
    "robot2=normalise(robot2)"
   ]
  },
  {
   "cell_type": "code",
   "execution_count": 140,
   "metadata": {},
   "outputs": [],
   "source": [
    "#for random spliting of data into training and validate\n",
    "\n",
    "#for robot1\n",
    "robot1 = robot1.sample(frac=1)\n",
    "train1, validate1 = np.split(robot1, [int(.8*len(robot1))])\n",
    "\n",
    "#for robot2\n",
    "robot2=robot2.sample(frac=1)\n",
    "train2,validate2 = np.split(robot2, [int(.8*len(robot2))])"
   ]
  },
  {
   "cell_type": "code",
   "execution_count": 141,
   "metadata": {},
   "outputs": [],
   "source": [
    "#for predicting in KNN, what we do is, for any given row, we try and calculate the distance with every row of the \n",
    "#training data and then select k \n",
    "\n",
    "def predict(row,k,t,dis_func):\n",
    "    #t: train data set\n",
    "    #dis_func: distance function used\n",
    "    #k: k value provided \n",
    "    #row: point under consideration\n",
    "    \n",
    "    #get the sorted list according to the function passed\n",
    "    #structure of list, tuple of distance and corresponding class lable\n",
    "    distance=dis_func(t,row)\n",
    "\n",
    "    #knn is a list of size 2, zeroth index represents '0' of class lable, first index represents '1' of class lable\n",
    "    knn=[0,0]\n",
    "    \n",
    "    #take the first k distances and calculate the total number of times '0' and '1' appearing in class lable\n",
    "    for i in range(0,k):\n",
    "        knn[distance[i][1]]+=1\n",
    "    \n",
    "    #return the class label which occured most number of times\n",
    "    if knn[1]>=knn[0]:\n",
    "        return 1 \n",
    "    else:\n",
    "        return 0"
   ]
  },
  {
   "cell_type": "code",
   "execution_count": 142,
   "metadata": {},
   "outputs": [],
   "source": [
    "#calculate distance using euclidean formula \n",
    "\n",
    "def euclidean(t,row):\n",
    "    distance=[]\n",
    "    columns=['a1','a2','a3','a4','a5','a6']\n",
    "    \n",
    "    #t is the training data, to find the distance with all points, a row equals a point\n",
    "    #row is the given point with which distance is to be calculated\n",
    "    for index1,row1 in t.iterrows():\n",
    "        temp=0\n",
    "        #for one row, iterate over all the columns and sum up the square of difference (formula for euclidean)\n",
    "        for col in columns:\n",
    "            temp+=((row1[col]-row[col])**2) \n",
    "        \n",
    "        #take square root of the above aggregate, this is the euclidean distance between current considered points\n",
    "        #save the distance and corresponding class of the training row under consideration, in a list \"distance\"\n",
    "        distance.append((math.sqrt(temp),row1['class']))\n",
    "    \n",
    "    \n",
    "    #sorting all the distances in increasing order\n",
    "    distance.sort()\n",
    "    \n",
    "    #return the distance list\n",
    "    return distance"
   ]
  },
  {
   "cell_type": "code",
   "execution_count": 143,
   "metadata": {},
   "outputs": [],
   "source": [
    "#calculate distance using manhattan formula \n",
    "\n",
    "def manhattan(t,row):\n",
    "    columns=['a1','a2','a3','a4','a5','a6']\n",
    "    distance=[]\n",
    "    \n",
    "    #t is the training data, to find the distance with all points, a row equals a point\n",
    "    #row is the given point with which distance is to be calculated\n",
    "    for index1,row1 in t.iterrows():\n",
    "        temp=0\n",
    "        \n",
    "        #for one row traverse over all the columns and sum up the absolute of corresponding differences\n",
    "        for col in columns:\n",
    "            temp+=abs(row1[col]-row[col])\n",
    "         \n",
    "        #store the distance and corresponding class lable value\n",
    "        distance.append((temp,row1['class']))\n",
    "        \n",
    "    #sort the distances in increasing order\n",
    "    distance.sort()\n",
    "    \n",
    "    #return the distance list\n",
    "    return distance"
   ]
  },
  {
   "cell_type": "code",
   "execution_count": 144,
   "metadata": {},
   "outputs": [],
   "source": [
    "#calculate distance using manhattan formula \n",
    "\n",
    "def chebyshev(t,row):\n",
    "    columns=['a1','a2','a3','a4','a5','a6']\n",
    "    distance=[]\n",
    "    \n",
    "    #t is the training data, to find the distance with all points, a row equals a point\n",
    "    #row is the given point with which distance is to be calculated\n",
    "    for index1,row1 in t.iterrows():\n",
    "        max_value=-sys.maxint-1\n",
    "        \n",
    "        #for a row traverse all the columns and find out the max value of absolute of corresponding differences\n",
    "        for col in columns:\n",
    "            diff=abs(row1[col]-row[col])\n",
    "            max_value=max(diff,max_value)\n",
    "            \n",
    "        #store the distance and corresponding class lable value   \n",
    "        distance.append((max_value,row1['class']))\n",
    "        \n",
    "    #sort the distances in increasing order\n",
    "    distance.sort()\n",
    "    \n",
    "    #return the distance list\n",
    "    return distance"
   ]
  },
  {
   "cell_type": "code",
   "execution_count": 145,
   "metadata": {},
   "outputs": [],
   "source": [
    "#calculate accurancy for training data t and a given function func\n",
    "\n",
    "def calculate_accuracy(t,func,validate):\n",
    "    l=len(t)\n",
    "    l=int(math.sqrt(l))\n",
    "    l+=1\n",
    "    \n",
    "    #for plotting graph\n",
    "    k_level=[]\n",
    "    accu_list=[]\n",
    "    max_acc=-sys.maxint-1\n",
    "    max_prec=0\n",
    "    max_recall=0\n",
    "    max_f1sc=0\n",
    "    final_k=0\n",
    "    #range of k is from 1 to square root of the number of rows of training data set provided\n",
    "    for i in range(1,l,2):    #as k value should always be odd, therefore step size is equal to 2 (third arg)\n",
    "        #for confusion matrix\n",
    "        actual_value=[]\n",
    "        predicted_value=[]\n",
    "        tp=0\n",
    "        tn=0\n",
    "        fp=0\n",
    "        fn=0\n",
    "        #for each row in validate\n",
    "        for index,row in validate.iterrows(): \n",
    "            x=predict(row,i,t,func)\n",
    "            if row['class']==1 and x==1:\n",
    "                tp+=1\n",
    "            if row['class']==0 and x==0:\n",
    "                tn+=1\n",
    "            if row['class']==1 and x==0:\n",
    "                fn+=1\n",
    "            if row['class']==0 and x==1:\n",
    "                fp+=1\n",
    "            #for confusion matrix\n",
    "            actual_value.append(row['class'])\n",
    "            predicted_value.append(x)\n",
    "            \n",
    "        #for confusion matrix\n",
    "        actu = pd.Series(actual_value, name='Actual')\n",
    "        pred = pd.Series(predicted_value, name='Predicted')\n",
    "        df_confusion = pd.crosstab(actu, pred)\n",
    "        \n",
    "        if tp+tn+fp+fn!=0:\n",
    "            acc_cm=float(tp+tn)/(tp+tn+fp+fn)#accuracy_cm(df_confusion)\n",
    "        else:\n",
    "            acc_cm=0\n",
    "        if tp+fn!=0:\n",
    "            recal_cm=float(tp)/(tp+fn)#recall_cm(df_confusion)\n",
    "        else:\n",
    "            recal_cm=0\n",
    "        if tp+fp!=0:\n",
    "            preci_cm=float(tp)/(tp+fp)#precision_cm(df_confusion)\n",
    "        else:\n",
    "            preci_cm=0\n",
    "        if recal_cm!=0 and preci_cm!=0:\n",
    "            f1_sc=(2/((1/recal_cm)+(1/preci_cm)))#f1Score_cm(preci_cm,recal_cm)\n",
    "        else:\n",
    "            f1_sc=0\n",
    "        #to plot the graph between different k values and its corresponding accuracy\n",
    "        k_level.append(i)\n",
    "        accu_list.append(acc_cm)\n",
    "        if max_acc<acc_cm:\n",
    "            max_acc=acc_cm\n",
    "            final_k=i\n",
    "            max_prec=preci_cm\n",
    "            max_recall=preci_cm\n",
    "            max_f1sc=preci_cm\n",
    "    return (k_level,accu_list,final_k,max_acc,max_prec,max_recall,max_f1sc)"
   ]
  },
  {
   "cell_type": "code",
   "execution_count": 146,
   "metadata": {},
   "outputs": [],
   "source": [
    "k1_list,accu1,k1,acc1,pre1,recal1,f1sc1=calculate_accuracy(train1,euclidean,validate1)\n",
    "k2_list,accu2,k2,acc2,pre2,recal2,f1sc2=calculate_accuracy(train1,chebyshev,validate1)\n",
    "k3_list,accu3,k3,acc3,pre3,recal3,f1sc3=calculate_accuracy(train1,manhattan,validate1)\n",
    "k11_list,accu11,k11,acc11,pre11,recal11,f1sc11=calculate_accuracy(train2,euclidean,validate2)\n",
    "k22_list,accu22,k22,acc22,pre22,recal22,f1sc22=calculate_accuracy(train2,chebyshev,validate2)\n",
    "k33_list,accu33,k33,acc33,pre33,recal33,f1sc33=calculate_accuracy(train2,manhattan,validate2)\n"
   ]
  },
  {
   "cell_type": "markdown",
   "metadata": {},
   "source": [
    "# Part (ii): Iris\n"
   ]
  },
  {
   "cell_type": "code",
   "execution_count": 147,
   "metadata": {},
   "outputs": [],
   "source": [
    "irisfile=\"./Iris/Iris.csv\"\n",
    "colnames=['sepal_length', 'sepal_width', 'petal_length', 'petal_width','class'] \n",
    "data = pd.read_csv(irisfile, names=colnames,skipinitialspace=True)\n",
    "#bringing down the values in the range(0,1)\n",
    "def normalise_iris(data):\n",
    "    result=data\n",
    "    for col in data.columns:\n",
    "        if col!='class':\n",
    "            minimum=data[col].min()\n",
    "            maximum=data[col].max()\n",
    "            result[col]=((data[col])-minimum)/(maximum-minimum)\n",
    "    return result\n",
    "data=normalise_iris(data)"
   ]
  },
  {
   "cell_type": "code",
   "execution_count": 148,
   "metadata": {},
   "outputs": [],
   "source": [
    "data = data.sample(frac=1)\n",
    "train, validate = np.split(data, [int(.8*len(data))])"
   ]
  },
  {
   "cell_type": "code",
   "execution_count": 149,
   "metadata": {},
   "outputs": [],
   "source": [
    "def predict_iris(row,k,t,dis_func):\n",
    "    distance=dis_func(t,row)\n",
    "    knn={}\n",
    "    for i in range(0,k):\n",
    "        if distance[i][1] not in knn.keys():\n",
    "            knn[distance[i][1]]=1\n",
    "        else:\n",
    "            knn[distance[i][1]]+=1\n",
    "    maxi=0\n",
    "    label=''\n",
    "    for i in knn.keys():\n",
    "        if maxi<knn[i]:\n",
    "            maxi=knn[i]\n",
    "            label=i\n",
    "    return label"
   ]
  },
  {
   "cell_type": "code",
   "execution_count": 150,
   "metadata": {},
   "outputs": [],
   "source": [
    "def euclidean_iris(t,row):\n",
    "    distance=[]\n",
    "    columns=['sepal_length', 'sepal_width', 'petal_length', 'petal_width']\n",
    "    for index1,row1 in t.iterrows():\n",
    "        temp=0\n",
    "        for col in columns:\n",
    "            temp+=((row1[col]-row[col])**2) \n",
    "        distance.append((math.sqrt(temp),row1['class']))#distance is list of distance and corresponding class label\n",
    "    distance.sort()#sorting all the distances in increasing order\n",
    "    return distance"
   ]
  },
  {
   "cell_type": "code",
   "execution_count": 151,
   "metadata": {},
   "outputs": [],
   "source": [
    "def manhattan_iris(t,row):\n",
    "    columns=['sepal_length', 'sepal_width', 'petal_length', 'petal_width']\n",
    "    distance=[]\n",
    "    for index1,row1 in t.iterrows():\n",
    "        temp=0\n",
    "        for col in columns:\n",
    "            temp+=abs(row1[col]-row[col])\n",
    "        distance.append((temp,row1['class']))\n",
    "    distance.sort()\n",
    "    return distance"
   ]
  },
  {
   "cell_type": "code",
   "execution_count": 152,
   "metadata": {},
   "outputs": [],
   "source": [
    "def chebyshev_iris(t,row):\n",
    "    columns=['sepal_length', 'sepal_width', 'petal_length', 'petal_width']\n",
    "    distance=[]\n",
    "    for index1,row1 in t.iterrows():\n",
    "        max_value=-sys.maxint-1\n",
    "        for col in columns:\n",
    "            if max_value<abs(row1[col]-row[col]):\n",
    "                max_value=abs(row1[col]-row[col])\n",
    "        distance.append((max_value,row1['class']))\n",
    "    distance.sort()\n",
    "    return distance"
   ]
  },
  {
   "cell_type": "code",
   "execution_count": 153,
   "metadata": {},
   "outputs": [],
   "source": [
    "def accuracy_cm(df_confusion):\n",
    "    tpptn=0 #tp +tn\n",
    "    for i in df_confusion:\n",
    "        tpptn+=df_confusion[i][i]\n",
    "    total=0\n",
    "    for i in df_confusion:\n",
    "        total+=df_confusion[i].sum()\n",
    "    return float(tpptn)/total"
   ]
  },
  {
   "cell_type": "code",
   "execution_count": 154,
   "metadata": {},
   "outputs": [],
   "source": [
    "def precision_cm(df_confusion):\n",
    "    return np.sum(np.diag(df_confusion)/ np.sum(df_confusion, axis = 0))/len(np.diag(df_confusion)/ np.sum(df_confusion, axis = 0))"
   ]
  },
  {
   "cell_type": "code",
   "execution_count": 155,
   "metadata": {},
   "outputs": [],
   "source": [
    "def recall_cm(df_confusion):\n",
    "    return np.sum(np.diag(df_confusion) / np.sum(df_confusion, axis = 1))/len(np.diag(df_confusion) / np.sum(df_confusion, axis = 1))"
   ]
  },
  {
   "cell_type": "code",
   "execution_count": 156,
   "metadata": {},
   "outputs": [],
   "source": [
    "def f1Score_cm(precision,recall):\n",
    "    return float(2)/((1/recall)+(1/precision))"
   ]
  },
  {
   "cell_type": "code",
   "execution_count": 157,
   "metadata": {},
   "outputs": [],
   "source": [
    "#calculate accurancy for training data t and a given function func\n",
    "\n",
    "def calculate_accuracy_iris(t,func,validate):\n",
    "    l=len(t)\n",
    "    l=int(math.sqrt(l))\n",
    "    l+=1\n",
    "    \n",
    "    #for plotting graph\n",
    "    k_level=[]\n",
    "    accu_list=[]\n",
    "    max_acc=-sys.maxint-1\n",
    "    final_k=0\n",
    "    max_prec=0\n",
    "    max_recall=0\n",
    "    max_f1sc=0\n",
    "    #range of k is from 1 to square root of the number of rows of training data set provided\n",
    "    for i in range(1,l):    #here one skip is performed each time as class lable has 3 unique values\n",
    "        #for confusion matrix\n",
    "        actual_value=[]\n",
    "        predicted_value=[]\n",
    "        \n",
    "        #for each row in validate\n",
    "        for index,row in validate.iterrows(): \n",
    "            x=predict_iris(row,i,t,func)\n",
    "            #for confusion matrix\n",
    "            actual_value.append(row['class'])\n",
    "            predicted_value.append(x)\n",
    "            \n",
    "        actu = pd.Series(actual_value, name='Actual')\n",
    "        pred = pd.Series(predicted_value, name='Predicted')\n",
    "        df_confusion = pd.crosstab(actu, pred)\n",
    "        \n",
    "        acc_cm=accuracy_cm(df_confusion)\n",
    "        preci_cm=precision_cm(df_confusion)\n",
    "        recal_cm=recall_cm(df_confusion)\n",
    "        f1_sc=f1Score_cm(preci_cm,recal_cm)\n",
    "        #to plot the graph between different k values and its corresponding accuracy\n",
    "        k_level.append(i)\n",
    "        accu_list.append(acc_cm)\n",
    "        if max_acc<acc_cm:\n",
    "            max_acc=acc_cm\n",
    "            final_k=i\n",
    "            max_prec=preci_cm\n",
    "            max_recall=preci_cm\n",
    "            max_f1sc=preci_cm\n",
    "        \n",
    "    return (k_level,accu_list,final_k,max_acc,max_prec,max_recall,max_f1sc)"
   ]
  },
  {
   "cell_type": "markdown",
   "metadata": {},
   "source": [
    "# q-1-1-1"
   ]
  },
  {
   "cell_type": "markdown",
   "metadata": {},
   "source": [
    "# Accuracy, Precision, Recall, k-value and F1 score"
   ]
  },
  {
   "cell_type": "code",
   "execution_count": 158,
   "metadata": {},
   "outputs": [
    {
     "name": "stdout",
     "output_type": "stream",
     "text": [
      "*******ROBOT1*******\n",
      "\n",
      "Eucledian\n",
      "\n",
      "k_value:  7\n",
      "max accuracy:  0.76\n",
      "precision:  0.636363636364\n",
      "recall:  0.636363636364\n",
      "f1 score:  0.636363636364\n",
      "\n",
      "chebyshev\n",
      "\n",
      "k_value:  3\n",
      "max accuracy:  0.76\n",
      "precision:  1.0\n",
      "recall:  1.0\n",
      "f1 score:  1.0\n",
      "\n",
      "manhattan\n",
      "\n",
      "k_value:  9\n",
      "max accuracy:  0.8\n",
      "precision:  0.75\n",
      "recall:  0.75\n",
      "f1 score:  0.75\n",
      "\n"
     ]
    }
   ],
   "source": [
    "print \"*******ROBOT1*******\"\n",
    "print\n",
    "print \"Eucledian\"\n",
    "print\n",
    "print \"k_value: \",k1\n",
    "print \"max accuracy: \",acc1\n",
    "print \"precision: \",pre1\n",
    "print \"recall: \",recal1\n",
    "print \"f1 score: \",f1sc1\n",
    "print\n",
    "print \"chebyshev\"\n",
    "print\n",
    "print \"k_value: \",k2\n",
    "print \"max accuracy: \",acc2\n",
    "print \"precision: \",pre2\n",
    "print \"recall: \",recal2\n",
    "print \"f1 score: \",f1sc2\n",
    "print\n",
    "print \"manhattan\"\n",
    "print\n",
    "print \"k_value: \",k3\n",
    "print \"max accuracy: \",acc3\n",
    "print \"precision: \",pre3\n",
    "print \"recall: \",recal3\n",
    "print \"f1 score: \",f1sc3\n",
    "print\n"
   ]
  },
  {
   "cell_type": "code",
   "execution_count": 159,
   "metadata": {},
   "outputs": [
    {
     "name": "stdout",
     "output_type": "stream",
     "text": [
      "*******ROBOT2*******\n",
      "\n",
      "Eucledian\n",
      "\n",
      "k_value:  3\n",
      "max accuracy:  0.88\n",
      "precision:  0.823529411765\n",
      "recall:  0.823529411765\n",
      "f1 score:  0.823529411765\n",
      "\n",
      "chebyshev\n",
      "\n",
      "k_value:  1\n",
      "max accuracy:  0.76\n",
      "precision:  1.0\n",
      "recall:  1.0\n",
      "f1 score:  0.636363636364\n",
      "\n",
      "manhattan\n",
      "\n",
      "k_value:  3\n",
      "max accuracy:  0.88\n",
      "precision:  0.923076923077\n",
      "recall:  0.923076923077\n",
      "f1 score:  0.923076923077\n",
      "\n"
     ]
    }
   ],
   "source": [
    "print \"*******ROBOT2*******\"\n",
    "print\n",
    "print \"Eucledian\"\n",
    "print\n",
    "print \"k_value: \",k11\n",
    "print \"max accuracy: \",acc11\n",
    "print \"precision: \",pre11\n",
    "print \"recall: \",recal11\n",
    "print \"f1 score: \",f1sc11\n",
    "print\n",
    "print \"chebyshev\"\n",
    "print\n",
    "print \"k_value: \",k22\n",
    "print \"max accuracy: \",acc22\n",
    "print \"precision: \",pre22\n",
    "print \"recall: \",recal22\n",
    "print \"f1 score: \",f1sc1\n",
    "print\n",
    "print \"manhattan\"\n",
    "print\n",
    "print \"k_value: \",k33\n",
    "print \"max accuracy: \",acc33\n",
    "print \"precision: \",pre33\n",
    "print \"recall: \",recal33\n",
    "print \"f1 score: \",f1sc33\n",
    "print\n"
   ]
  },
  {
   "cell_type": "code",
   "execution_count": 160,
   "metadata": {},
   "outputs": [],
   "source": [
    "#IRIS\n",
    "\n",
    "k1_listi,accu1i,k1i,acc1i,prec1i,recal1i,f1sc1i=calculate_accuracy_iris(train,euclidean_iris,validate)\n",
    "\n",
    "k2_listi,accu2i,k2i,acc2i,prec2i,recal2i,f1sc2i=calculate_accuracy_iris(train,chebyshev_iris,validate)\n",
    "\n",
    "k3_listi,accu3i,k3i,acc3i,prec3i,recal3i,f1sc3i=calculate_accuracy_iris(train,manhattan_iris,validate)\n"
   ]
  },
  {
   "cell_type": "code",
   "execution_count": 161,
   "metadata": {},
   "outputs": [
    {
     "name": "stdout",
     "output_type": "stream",
     "text": [
      "*******IRIS*******\n",
      "\n",
      "Eucledian\n",
      "\n",
      "k:  9\n",
      "max accuracy:  0.962962962963\n",
      "precision:  0.9696969696969697\n",
      "recall:  0.9696969696969697\n",
      "f1 Score:  0.9696969696969697\n",
      "\n",
      "chebyshev\n",
      "\n",
      "k:  2\n",
      "max accuracy:  1.0\n",
      "precision:  1.0\n",
      "recall:  1.0\n",
      "f1 Score:  1.0\n",
      "\n",
      "manhattan\n",
      "\n",
      "k:  5\n",
      "max accuracy:  0.962962962963\n",
      "precision:  0.9696969696969697\n",
      "recall:  0.9696969696969697\n",
      "f1 Score:  0.9696969696969697\n",
      "\n"
     ]
    }
   ],
   "source": [
    "print \"*******IRIS*******\"\n",
    "print\n",
    "print \"Eucledian\"\n",
    "print\n",
    "print \"k: \",k1i\n",
    "print \"max accuracy: \",acc1i\n",
    "print \"precision: \",prec1i\n",
    "print \"recall: \",recal1i\n",
    "print \"f1 Score: \",f1sc1i\n",
    "print\n",
    "print \"chebyshev\"\n",
    "print\n",
    "print \"k: \",k2i\n",
    "print \"max accuracy: \",acc2i\n",
    "print \"precision: \",prec2i\n",
    "print \"recall: \",recal2i\n",
    "print \"f1 Score: \",f1sc2i\n",
    "print\n",
    "print \"manhattan\"\n",
    "print\n",
    "print \"k: \",k3i\n",
    "print \"max accuracy: \",acc3i\n",
    "print \"precision: \",prec3i\n",
    "print \"recall: \",recal3i\n",
    "print \"f1 Score: \",f1sc3i\n",
    "print\n"
   ]
  },
  {
   "cell_type": "markdown",
   "metadata": {},
   "source": [
    "# q-1-1-2"
   ]
  },
  {
   "cell_type": "markdown",
   "metadata": {},
   "source": [
    "# Graphs for Euclidean, Chebyshev and Manhattan"
   ]
  },
  {
   "cell_type": "code",
   "execution_count": 162,
   "metadata": {},
   "outputs": [
    {
     "data": {
      "text/plain": [
       "Text(0,0.5,'accuracy')"
      ]
     },
     "execution_count": 162,
     "metadata": {},
     "output_type": "execute_result"
    },
    {
     "data": {
      "image/png": "[encoded data removed]",
      "text/plain": [
       "<Figure size 504x504 with 1 Axes>"
      ]
     },
     "metadata": {
      "needs_background": "light"
     },
     "output_type": "display_data"
    }
   ],
   "source": [
    "fig,axes=plt.subplots(figsize=(7,7))\n",
    "\n",
    "axes.plot(k1_list,accu1,label=r\"$Eucledian$\")\n",
    "\n",
    "axes.plot(k2_list,accu2,label=r\"$Chebyshev$\")\n",
    "\n",
    "axes.plot(k3_list,accu3,label=r\"$Manhattan$\")\n",
    "\n",
    "legend=axes.legend(loc='best')\n",
    "axes.set_title('Robot 1')\n",
    "plt.xlabel('k values')\n",
    "plt.ylabel('accuracy')"
   ]
  },
  {
   "cell_type": "code",
   "execution_count": 163,
   "metadata": {},
   "outputs": [
    {
     "data": {
      "text/plain": [
       "Text(0,0.5,'accuracy')"
      ]
     },
     "execution_count": 163,
     "metadata": {},
     "output_type": "execute_result"
    },
    {
     "data": {
      "image/png": "[encoded data removed]",
      "text/plain": [
       "<Figure size 504x504 with 1 Axes>"
      ]
     },
     "metadata": {
      "needs_background": "light"
     },
     "output_type": "display_data"
    }
   ],
   "source": [
    "fig,axes=plt.subplots(figsize=(7,7))\n",
    "\n",
    "axes.plot(k11_list,accu11,label=r\"$Eucledian$\")\n",
    "\n",
    "axes.plot(k22_list,accu22,label=r\"$Chebyshev$\")\n",
    "\n",
    "axes.plot(k33_list,accu33,label=r\"$Manhattan$\")\n",
    "legend=axes.legend(loc='best')\n",
    "axes.set_title('Robot 2')\n",
    "plt.xlabel('k values')\n",
    "plt.ylabel('accuracy')"
   ]
  },
  {
   "cell_type": "code",
   "execution_count": 164,
   "metadata": {},
   "outputs": [
    {
     "data": {
      "text/plain": [
       "Text(0,0.5,'accuracy')"
      ]
     },
     "execution_count": 164,
     "metadata": {},
     "output_type": "execute_result"
    },
    {
     "data": {
      "image/png": "[encoded data removed]",
      "text/plain": [
       "<Figure size 504x504 with 1 Axes>"
      ]
     },
     "metadata": {
      "needs_background": "light"
     },
     "output_type": "display_data"
    }
   ],
   "source": [
    "fig,axes=plt.subplots(figsize=(7,7))\n",
    "\n",
    "axes.plot(k1_listi,accu1i,label=r\"$Eucledian$\")\n",
    "\n",
    "axes.plot(k2_listi,accu2i,label=r\"$Chebyshev$\")\n",
    "\n",
    "axes.plot(k3_listi,accu3i,label=r\"$Manhattan$\")\n",
    "\n",
    "legend=axes.legend(loc='best')\n",
    "axes.set_title('Iris')\n",
    "plt.xlabel('k values')\n",
    "plt.ylabel('accuracy')"
   ]
  },
  {
   "cell_type": "markdown",
   "metadata": {},
   "source": [
    "# Test file"
   ]
  },
  {
   "cell_type": "markdown",
   "metadata": {},
   "source": [
    "# For robot1"
   ]
  },
  {
   "cell_type": "code",
   "execution_count": 165,
   "metadata": {},
   "outputs": [
    {
     "name": "stdout",
     "output_type": "stream",
     "text": [
      "Test File: ./test_robot.csv\n",
      "0\n",
      "0\n",
      "0\n",
      "0\n",
      "0\n",
      "0\n",
      "0\n",
      "0\n",
      "0\n",
      "0\n"
     ]
    }
   ],
   "source": [
    "testfile=raw_input(\"Test File: \")\n",
    "colnames=[ 'a1', 'a2', 'a3','a4','a5','a6','Id'] \n",
    "\n",
    "test = pd.read_csv(testfile, sep=' ', names=colnames,skipinitialspace=True)\n",
    "test=normalise(test)\n",
    "for index,row in test.iterrows():\n",
    "    print predict(row,3,train1,euclidean)"
   ]
  },
  {
   "cell_type": "markdown",
   "metadata": {},
   "source": [
    "# For iris "
   ]
  },
  {
   "cell_type": "code",
   "execution_count": 166,
   "metadata": {},
   "outputs": [
    {
     "name": "stdout",
     "output_type": "stream",
     "text": [
      "Test File: ./test_iris.csv\n",
      "Iris-setosa\n",
      "Iris-virginica\n",
      "Iris-setosa\n",
      "Iris-virginica\n",
      "Iris-virginica\n",
      "Iris-versicolor\n",
      "Iris-setosa\n",
      "Iris-setosa\n",
      "Iris-setosa\n"
     ]
    }
   ],
   "source": [
    "testiris=raw_input(\"Test File: \")\n",
    "colnames_iris=['sepal_length', 'sepal_width', 'petal_length', 'petal_width','class']\n",
    "\n",
    "testi = pd.read_csv(testiris, sep=',', names=colnames_iris,skipinitialspace=True)\n",
    "testi=normalise_iris(testi)\n",
    "for index,row in testi.iterrows():\n",
    "    print predict_iris(row,7,train,euclidean_iris)"
   ]
  },
  {
   "cell_type": "markdown",
   "metadata": {},
   "source": [
    "# Comparision With Scikit-learn"
   ]
  },
  {
   "cell_type": "code",
   "execution_count": 167,
   "metadata": {},
   "outputs": [],
   "source": [
    "import numpy as np  \n",
    "import matplotlib.pyplot as plt  \n",
    "import pandas as pd\n",
    "from sklearn import preprocessing\n",
    "from sklearn.model_selection import train_test_split\n",
    "from sklearn.tree import DecisionTreeClassifier \n",
    "from sklearn.metrics import classification_report, confusion_matrix \n",
    "import matplotlib.pyplot as plt"
   ]
  },
  {
   "cell_type": "code",
   "execution_count": 168,
   "metadata": {},
   "outputs": [],
   "source": [
    "from sklearn import preprocessing\n",
    "from sklearn.model_selection import train_test_split\n",
    "from sklearn.tree import DecisionTreeClassifier \n",
    "from sklearn.metrics import classification_report, confusion_matrix \n",
    "from sklearn.preprocessing import StandardScaler  \n",
    "from sklearn.neighbors import KNeighborsClassifier \n",
    "from sklearn.metrics import accuracy_score"
   ]
  },
  {
   "cell_type": "code",
   "execution_count": 169,
   "metadata": {},
   "outputs": [],
   "source": [
    "def compareScikit(df,target,identifier=None):\n",
    "    le = preprocessing.LabelEncoder()\n",
    "#     df[identifier] = le.fit_transform(df[identifier])\n",
    "    if identifier is not None:\n",
    "        df[identifier] = le.fit_transform(df[identifier])\n",
    "    # dataset_R1=dataset_R1.drop('index',1)\n",
    "    cols = [col for col in df.columns if col not in [target,identifier]]\n",
    "    data=df[cols]\n",
    "    target=df[target]\n",
    "    data_train, data_test, target_train, target_test = train_test_split(data,target, test_size = 0.20, random_state = 10)\n",
    "\n",
    "    scaler = StandardScaler()  \n",
    "    scaler.fit(data_train)\n",
    "\n",
    "    data_train = scaler.transform(data_train)  \n",
    "    data_test = scaler.transform(data_test)  \n",
    "    classifier = KNeighborsClassifier(n_neighbors=5)  \n",
    "    classifier.fit(data_train, target_train) \n",
    "    y_pred = classifier.predict(data_test) \n",
    "    error = []\n",
    "\n",
    "    l=len(df)\n",
    "    l=int(math.sqrt(l))\n",
    "    l+=1\n",
    "    \n",
    "    for i in range(1, l):  \n",
    "        knn = KNeighborsClassifier(n_neighbors=i)\n",
    "        knn.fit(data_train, target_train)\n",
    "        pred_i = knn.predict(data_test)\n",
    "        error.append(np.mean(pred_i != target_test))\n",
    "    plt.figure(figsize=(7, 7))  \n",
    "    plt.plot(range(1, l), error, color='red', linestyle='dashed', marker='o',  \n",
    "             markerfacecolor='blue', markersize=10)\n",
    "    plt.title('Error Rate K Value')  \n",
    "    plt.xlabel('K Value')  \n",
    "    plt.ylabel('Mean Error')\n",
    "    score = accuracy_score(target_test, y_pred)\n",
    "    print(\"score\",score)\n"
   ]
  },
  {
   "cell_type": "markdown",
   "metadata": {},
   "source": [
    "# Robot 1"
   ]
  },
  {
   "cell_type": "code",
   "execution_count": 170,
   "metadata": {},
   "outputs": [
    {
     "name": "stdout",
     "output_type": "stream",
     "text": [
      "('score', 0.6)\n"
     ]
    },
    {
     "data": {
      "image/png": "[encoded data removed]",
      "text/plain": [
       "<Figure size 504x504 with 1 Axes>"
      ]
     },
     "metadata": {
      "needs_background": "light"
     },
     "output_type": "display_data"
    }
   ],
   "source": [
    "compareScikit(robot1,'class','Id')"
   ]
  },
  {
   "cell_type": "markdown",
   "metadata": {},
   "source": [
    "# Robot 2  "
   ]
  },
  {
   "cell_type": "code",
   "execution_count": 171,
   "metadata": {},
   "outputs": [
    {
     "name": "stdout",
     "output_type": "stream",
     "text": [
      "('score', 0.72)\n"
     ]
    },
    {
     "data": {
      "image/png": "[encoded data removed]",
      "text/plain": [
       "<Figure size 504x504 with 1 Axes>"
      ]
     },
     "metadata": {
      "needs_background": "light"
     },
     "output_type": "display_data"
    }
   ],
   "source": [
    "compareScikit(robot2,'class','Id')"
   ]
  },
  {
   "cell_type": "markdown",
   "metadata": {},
   "source": [
    "# Iris"
   ]
  },
  {
   "cell_type": "code",
   "execution_count": 172,
   "metadata": {},
   "outputs": [
    {
     "name": "stdout",
     "output_type": "stream",
     "text": [
      "('score', 0.9629629629629629)\n"
     ]
    },
    {
     "data": {
      "image/png": "[encoded data removed]",
      "text/plain": [
       "<Figure size 504x504 with 1 Axes>"
      ]
     },
     "metadata": {
      "needs_background": "light"
     },
     "output_type": "display_data"
    }
   ],
   "source": [
    "compareScikit(data,'class',None)"
   ]
  },
  {
   "cell_type": "markdown",
   "metadata": {},
   "source": [
    "# Possible reasons for better performance"
   ]
  },
  {
   "cell_type": "markdown",
   "metadata": {},
   "source": [
    "1) There is no training phase or it is very minimal, hence no extra time is utilized to do the same.\n",
    "\n",
    "\n",
    "2) There is no data distribution."
   ]
  }
 ],
 "metadata": {
  "kernelspec": {
   "display_name": "Python 2",
   "language": "python",
   "name": "python2"
  },
  "language_info": {
   "codemirror_mode": {
    "name": "ipython",
    "version": 2
   },
   "file_extension": ".py",
   "mimetype": "text/x-python",
   "name": "python",
   "nbconvert_exporter": "python",
   "pygments_lexer": "ipython2",
   "version": "2.7.15rc1"
  }
 },
 "nbformat": 4,
 "nbformat_minor": 2
}
