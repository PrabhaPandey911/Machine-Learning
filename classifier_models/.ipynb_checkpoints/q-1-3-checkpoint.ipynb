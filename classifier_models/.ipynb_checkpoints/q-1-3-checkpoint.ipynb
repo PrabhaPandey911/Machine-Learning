{
 "cells": [
  {
   "cell_type": "code",
   "execution_count": 1,
   "metadata": {},
   "outputs": [],
   "source": [
    "import numpy as np\n",
    "import pandas as pd\n",
    "\n",
    "filename=\"./AdmissionDataset/data.csv\"\n",
    "data = pd.read_csv(filename)\n",
    "data = data.sample(frac=1)\n",
    "train, validate = np.split(data, [int(.8*len(data))])"
   ]
  },
  {
   "cell_type": "code",
   "execution_count": 18,
   "metadata": {},
   "outputs": [],
   "source": [
    "temp=train #for later use\n",
    "train=train.drop(['Serial No.'],axis=1)\n",
    "df=train\n",
    "df=df.drop(['Chance of Admit '],axis=1)"
   ]
  },
  {
   "cell_type": "code",
   "execution_count": 19,
   "metadata": {},
   "outputs": [],
   "source": [
    "matrix=df.values\n",
    "matrix=np.insert(matrix,0,1.,axis=1)\n",
    "var= (np.linalg.inv((matrix.T).dot(matrix)))\n",
    "var2= var.dot(matrix.T)\n",
    "beta=var2.dot(train['Chance of Admit '].values)"
   ]
  },
  {
   "cell_type": "markdown",
   "metadata": {},
   "source": [
    "# Probabilities for validate"
   ]
  },
  {
   "cell_type": "code",
   "execution_count": 20,
   "metadata": {},
   "outputs": [
    {
     "name": "stdout",
     "output_type": "stream",
     "text": [
      "[0.78530061 0.73358435 0.64528743 0.90664119 0.64127345 0.87221683\n",
      " 0.54969007 0.58421423 0.84045882 0.70745508 0.85715005 0.70539941\n",
      " 0.99325694 0.82350852 0.59506431 0.53988944 0.69233085 0.67574833\n",
      " 0.65645018 0.92104306 0.75651384 0.79500908 0.96834413 0.83657849\n",
      " 0.90227983 0.66498492 0.76346666 0.63512848 0.85186706 0.8396195\n",
      " 0.65574031 0.77297598 0.6599785  0.97009387 0.80634503 0.88179023\n",
      " 1.00469662 0.79414582 0.83557981 0.71739983 0.51851075 0.79824989\n",
      " 0.66886278 0.65839963 0.96619951 0.90924302 0.81280185 0.66778434\n",
      " 0.60327126 0.80932195 0.81061436 0.84390326 0.63477518 0.92612391\n",
      " 0.6448743  0.64039075 0.83779241 0.76826665 0.64800021 0.69023216\n",
      " 0.5416884  0.7896724  0.65475375 0.57770087 0.60120018 0.89592958\n",
      " 0.61716665 0.86157378 0.7695274  0.70363214 0.76503322 0.62092337\n",
      " 0.89298113 0.72279114 0.61171672 0.95371639 0.61991806 0.79589031\n",
      " 0.79289384 0.71813011 0.64825703 0.6392584  0.83672282 0.70737162\n",
      " 0.71275647 0.74197608 0.91184266 0.85877401 0.68944848 0.86931537]\n"
     ]
    }
   ],
   "source": [
    "tempv=validate #for later use\n",
    "validate=validate.drop(['Serial No.'],axis=1)\n",
    "dfv=validate\n",
    "original=validate['Chance of Admit ']\n",
    "original=original.tolist()\n",
    "dfv=dfv.drop(['Chance of Admit '],axis=1)\n",
    "matrixv=dfv.values\n",
    "matrixv=np.insert(matrixv,0,1.,axis=1)\n",
    "result=np.dot(matrixv,beta)\n",
    "print result"
   ]
  },
  {
   "cell_type": "markdown",
   "metadata": {},
   "source": [
    "# Mean Square Error"
   ]
  },
  {
   "cell_type": "code",
   "execution_count": 21,
   "metadata": {},
   "outputs": [
    {
     "name": "stdout",
     "output_type": "stream",
     "text": [
      "0.00447530062542\n"
     ]
    }
   ],
   "source": [
    "mse=0\n",
    "for i in range(0,len(result)):\n",
    "    mse+=((result[i]-original[i])**2)\n",
    "mse=float(mse)/(len(result))\n",
    "print mse"
   ]
  },
  {
   "cell_type": "markdown",
   "metadata": {},
   "source": [
    "# Mean Absolute Error"
   ]
  },
  {
   "cell_type": "code",
   "execution_count": 22,
   "metadata": {},
   "outputs": [
    {
     "name": "stdout",
     "output_type": "stream",
     "text": [
      "0.0475045268831\n"
     ]
    }
   ],
   "source": [
    "mae=0\n",
    "for i in range(0,len(result)):\n",
    "    mae+=abs(result[i]-original[i])\n",
    "mae=float(mae)/len(result)\n",
    "print mae"
   ]
  },
  {
   "cell_type": "markdown",
   "metadata": {},
   "source": [
    "# Mean Absolute Percentage Error"
   ]
  },
  {
   "cell_type": "code",
   "execution_count": 23,
   "metadata": {},
   "outputs": [
    {
     "name": "stdout",
     "output_type": "stream",
     "text": [
      "7.43266439264\n"
     ]
    }
   ],
   "source": [
    "mape=0\n",
    "for i in range(0,len(result)):\n",
    "    mape+=abs((original[i]-result[i])/original[i])\n",
    "mape=float(mape)/len(result)\n",
    "mape*=100\n",
    "print mape"
   ]
  },
  {
   "cell_type": "markdown",
   "metadata": {},
   "source": [
    "# Test File input and prediction: "
   ]
  },
  {
   "cell_type": "code",
   "execution_count": 24,
   "metadata": {},
   "outputs": [
    {
     "name": "stdout",
     "output_type": "stream",
     "text": [
      "test File: ./test_admit.csv\n",
      "[0.62201773 0.73317948 0.74633354 0.8887893  0.69023216 0.65805985\n",
      " 0.80634503 0.68944848 0.67771469 0.51735067 0.81211967 0.9414921 ]\n"
     ]
    }
   ],
   "source": [
    "testfile=raw_input(\"test File: \")\n",
    "test = pd.read_csv(testfile)\n",
    "test=test.drop(['Serial No.'],axis=1)\n",
    "dfv1=test\n",
    "# original=['Chance of Admit ']\n",
    "# original=original.tolist()\n",
    "# dfv=dfv.drop(['Chance of Admit '],axis=1)\n",
    "matrixv1=dfv1.values\n",
    "matrixv1=np.insert(matrixv1,0,1.,axis=1)\n",
    "result1=np.dot(matrixv1,beta)\n",
    "print result1"
   ]
  }
 ],
 "metadata": {
  "kernelspec": {
   "display_name": "Python 2",
   "language": "python",
   "name": "python2"
  },
  "language_info": {
   "codemirror_mode": {
    "name": "ipython",
    "version": 2
   },
   "file_extension": ".py",
   "mimetype": "text/x-python",
   "name": "python",
   "nbconvert_exporter": "python",
   "pygments_lexer": "ipython2",
   "version": "2.7.15rc1"
  }
 },
 "nbformat": 4,
 "nbformat_minor": 2
}
