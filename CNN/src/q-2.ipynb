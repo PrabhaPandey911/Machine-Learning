{
 "cells": [
  {
   "cell_type": "markdown",
   "metadata": {},
   "source": [
    "# Q 2. Answer the following questions for above architecture:"
   ]
  },
  {
   "cell_type": "markdown",
   "metadata": {},
   "source": [
    "# 1. What are the number of parameters in 1st convolutional layers ?"
   ]
  },
  {
   "cell_type": "markdown",
   "metadata": {},
   "source": [
    " We have 1 matrix as input of dimension 32X32, and the resulttant feature map after first convolution is of \n",
    "   6X28X28 dimension when we used 5X5 as filter matrix.\n",
    "   \n",
    "   Hence, the number of parameters in first convolutional layer would be (5 X 5 X 6 X 1)+6(for bias)=156"
   ]
  },
  {
   "cell_type": "markdown",
   "metadata": {},
   "source": [
    "# 2. What are the number of parameters in pooling operation?"
   ]
  },
  {
   "cell_type": "markdown",
   "metadata": {},
   "source": [
    " The pooling layers replaces a 2x2 neighborhood by its maximum value.\n",
    "   So there is no parameter you could learn in a pooling layer.\n",
    "   Hence, the number of parameters in pooling operation = 0."
   ]
  },
  {
   "cell_type": "markdown",
   "metadata": {},
   "source": [
    "# 3. Which of the following operations contain most number of parameters\n",
    "\n",
    "# (a) conv (b) pool (c) Fully connected layer (FC) (d) Activation Functions"
   ]
  },
  {
   "cell_type": "markdown",
   "metadata": {},
   "source": [
    "(a) convolutional layer 1 = (5X5X6)+6 =156. \n",
    "\n",
    "    \n",
    "    convolutional layer 2 = (5X5X6X16)+16 = 2416\n",
    "   \n",
    "(b) max-pooling after 1st convolution = 0\n",
    "   \n",
    "   \n",
    "    max-pooling after 2nd convolution = 0\n",
    "   \n",
    "   \n",
    "(c) Fully-connected layer 1 = (400+1)X120 = 48120  (====> 400 input, 1 bias and 120 output)\n",
    "   \n",
    "    Fully-connected layer 2 = (120+1)X84 = 10164\n",
    "   \n",
    "    \n",
    "(d) Activation function = 0\n",
    "   \n",
    "   \n",
    "   Hence, maximum parameters are in fully-connected layer = 48120+10164 = 58284\n",
    "   "
   ]
  },
  {
   "cell_type": "markdown",
   "metadata": {},
   "source": [
    "# 4. Which operation consume most amount of memory?\n",
    "\n",
    "# (a) initial convolution layers (b) fully connected layers at the end"
   ]
  },
  {
   "cell_type": "markdown",
   "metadata": {},
   "source": [
    "(a) initial convolution layers :\n",
    "        Convolution layer 1 = 32X32X6 = 6.144K;;\n",
    "        Convolution layer 2 = 14X14X16 = 3.136K\n",
    "        \n",
    "        Total= 9.280K\n",
    "        \n",
    "(b) fully connected layers at the end\n",
    "        FC-1 = 400X1 = 0.4K;;\n",
    "        FC-2 = 120X1 = 0.12K\n",
    "        \n",
    "        Total= 0.52K\n",
    "        \n",
    "Hence, Convolutional layers has more consumption of memory.\n",
    "        "
   ]
  }
 ],
 "metadata": {
  "kernelspec": {
   "display_name": "Python 2",
   "language": "python",
   "name": "python2"
  },
  "language_info": {
   "codemirror_mode": {
    "name": "ipython",
    "version": 2
   },
   "file_extension": ".py",
   "mimetype": "text/x-python",
   "name": "python",
   "nbconvert_exporter": "python",
   "pygments_lexer": "ipython2",
   "version": "2.7.15rc1"
  }
 },
 "nbformat": 4,
 "nbformat_minor": 2
}
