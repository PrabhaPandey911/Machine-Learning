{
 "cells": [
  {
   "cell_type": "code",
   "execution_count": 1,
   "metadata": {},
   "outputs": [],
   "source": [
    "input_sequence=\"CTTCATGTGAAAGCAGACGTAAGTCA\"\n",
    "state_path=\"EEEEEEEEEEEEEEEEEE5IIIIIII$\""
   ]
  },
  {
   "cell_type": "code",
   "execution_count": 2,
   "metadata": {},
   "outputs": [],
   "source": [
    "transition={\"EE\":0.9,\"E5\":0.1,\"5I\":1.0,\"II\":0.9,\"I$\":0.1}\n",
    "emission={\"EA\":0.25,\"EC\":0.25,\"EG\":0.25,\"ET\":0.25,\"5A\":0.05,\"5C\":0,\"5G\":0.95,\"5T\":0,\"IA\":0.4,\"IC\":0.1,\"IG\":0.1,\"IT\":0.4}"
   ]
  },
  {
   "cell_type": "code",
   "execution_count": 3,
   "metadata": {},
   "outputs": [
    {
     "name": "stdout",
     "output_type": "stream",
     "text": [
      "26\n",
      "27\n"
     ]
    }
   ],
   "source": [
    "print len(input_sequence)\n",
    "print len(state_path)"
   ]
  },
  {
   "cell_type": "code",
   "execution_count": 4,
   "metadata": {},
   "outputs": [
    {
     "name": "stdout",
     "output_type": "stream",
     "text": [
      "-41.219677686\n"
     ]
    }
   ],
   "source": [
    "import math\n",
    "x=0\n",
    "for i in range(len(state_path)-1):\n",
    "    e=state_path[i]+input_sequence[i]\n",
    "    t=state_path[i]+state_path[i+1]\n",
    "    x+=math.log(emission[e])\n",
    "    x+=math.log(transition[t])\n",
    "print x"
   ]
  }
 ],
 "metadata": {
  "kernelspec": {
   "display_name": "Python 2",
   "language": "python",
   "name": "python2"
  },
  "language_info": {
   "codemirror_mode": {
    "name": "ipython",
    "version": 2
   },
   "file_extension": ".py",
   "mimetype": "text/x-python",
   "name": "python",
   "nbconvert_exporter": "python",
   "pygments_lexer": "ipython2",
   "version": "2.7.15rc1"
  }
 },
 "nbformat": 4,
 "nbformat_minor": 2
}
