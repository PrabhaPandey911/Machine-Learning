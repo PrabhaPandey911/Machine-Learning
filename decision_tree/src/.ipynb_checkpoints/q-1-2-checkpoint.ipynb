{
 "cells": [
  {
   "cell_type": "code",
   "execution_count": 1,
   "metadata": {},
   "outputs": [],
   "source": [
    "from __future__ import division\n",
    "import numpy as np\n",
    "import pandas as pd\n",
    "import sys\n",
    "# filename=raw_input(\"train file:\")\n",
    "# testname=raw_input(\"test file: \")"
   ]
  },
  {
   "cell_type": "code",
   "execution_count": 2,
   "metadata": {},
   "outputs": [],
   "source": [
    "data=pd.read_csv('../input_data/train.csv')\n",
    "# print data\n",
    "test=pd.read_csv('../input_data/sample_test.csv')\n",
    "data = data.sample(frac=1)\n",
    "train, validate = np.split(data, [int(.8*len(data))])\n",
    "# train=data.sample(frac=0.8,random_state=200)\n",
    "# validate=data.drop(train.index)"
   ]
  },
  {
   "cell_type": "code",
   "execution_count": 3,
   "metadata": {},
   "outputs": [],
   "source": [
    "def calculate_entropy(train):\n",
    "    values=train.left.unique()\n",
    "    entropy_node=0\n",
    "    for v in values:\n",
    "        num=train.left.value_counts()[v]\n",
    "        deno=len(train.left)\n",
    "        fraction=float(num)/deno\n",
    "        if fraction!=0:\n",
    "            entropy_node+=-(fraction*np.log2(fraction))\n",
    "    return entropy_node"
   ]
  },
  {
   "cell_type": "code",
   "execution_count": 4,
   "metadata": {},
   "outputs": [],
   "source": [
    "numerical=pd.DataFrame(train,columns=['satisfaction_level','last_evaluation','number_project','average_montly_hours','time_spend_company','left'])\n",
    "categorical=pd.DataFrame(train,columns=['Work_accident','left','promotion_last_5years','sales','salary'])\n",
    "# print (calculate_entropy(train))"
   ]
  },
  {
   "cell_type": "code",
   "execution_count": 5,
   "metadata": {},
   "outputs": [],
   "source": [
    "def entropy_attribute(df,attribute,original):\n",
    "    variables=df[attribute].unique()\n",
    "    values=df[original].unique()\n",
    "    entropy_attribute=0\n",
    "    I=0\n",
    "    for v in variables:\n",
    "        entropy_attribute=0\n",
    "        n=df[attribute].value_counts()[v]\n",
    "        d=len(df[attribute])\n",
    "        for x in values:\n",
    "            num=len(df[attribute][df[attribute]==v][df[original]==x])\n",
    "            deno=len(df[attribute][df[attribute]==v])\n",
    "            fraction=float(num)/deno\n",
    "            if fraction!=0:\n",
    "                entropy_attribute+=-(fraction*np.log2(fraction))\n",
    "        I+=(float(n)/d)*entropy_attribute\n",
    "    return I"
   ]
  },
  {
   "cell_type": "code",
   "execution_count": 6,
   "metadata": {},
   "outputs": [],
   "source": [
    "def find_node(df,column):\n",
    "    m=-sys.maxint-1\n",
    "    value=0\n",
    "    g=0\n",
    "    df2=df\n",
    "    c=''\n",
    "\n",
    "    if column!='left':\n",
    "        values=df2[column].unique()\n",
    "        for i in values:\n",
    "            rows1=df2[df2[column]<=i]\n",
    "            rows2=df2[df2[column]>i]\n",
    "            ent1=calculate_entropy(rows1)\n",
    "            ent2=calculate_entropy(rows2)\n",
    "            size1=len(rows1)\n",
    "            size2=len(rows2)\n",
    "            sizeall=len(df2)\n",
    "            ent=(ent1*(size1/sizeall))+(ent2*(size2/sizeall))\n",
    "            ent_total=calculate_entropy(df2)\n",
    "            gain=ent_total-ent\n",
    "            if m<gain:\n",
    "                m=gain\n",
    "                value=i\n",
    "                c=column\n",
    "    return m,value,c"
   ]
  },
  {
   "cell_type": "code",
   "execution_count": 7,
   "metadata": {},
   "outputs": [],
   "source": [
    "# print find_node(train)\n",
    "def max_gain(df):\n",
    "    p=\"\"\n",
    "    m=-sys.maxint-1\n",
    "    split_pt=None\n",
    "    for i in df.columns:\n",
    "        gain=0\n",
    "        if i in numerical:\n",
    "            if i!='left':\n",
    "                gain,value,col=find_node(df,i)\n",
    "                if m<gain:\n",
    "                    m=gain\n",
    "                    p=i\n",
    "                    split_pt=value\n",
    "        if i in categorical:\n",
    "            if i!='left':\n",
    "                gain=calculate_entropy(df)-entropy_attribute(df,i,'left')\n",
    "                if m < gain:\n",
    "                    m=gain\n",
    "                    p=i\n",
    "    return m,p,split_pt"
   ]
  },
  {
   "cell_type": "code",
   "execution_count": 8,
   "metadata": {},
   "outputs": [
    {
     "name": "stdout",
     "output_type": "stream",
     "text": [
      "(0.19335378659995095, 'satisfaction_level', 0.46)\n"
     ]
    }
   ],
   "source": [
    "print max_gain(train)"
   ]
  },
  {
   "cell_type": "code",
   "execution_count": 9,
   "metadata": {},
   "outputs": [],
   "source": [
    "class decisionTree():\n",
    "    def __init__(self,name,df):\n",
    "        self.label=name\n",
    "        self.child={}\n",
    "        self.positive=len(df[name][df['left']==1])\n",
    "        self.negative=len(df[name][df['left']==0])\n",
    "        self.isLeaf=False\n",
    "    def set_child(self,ch):\n",
    "        self.child=ch"
   ]
  },
  {
   "cell_type": "code",
   "execution_count": 10,
   "metadata": {},
   "outputs": [],
   "source": [
    "def buildTree(df):\n",
    "#     print \"calling\"\n",
    "    if len(df.columns)<=1:\n",
    "        leaf=decisionTree('left',df)\n",
    "        leaf.isLeaf=True\n",
    "        return leaf\n",
    "    gain,label,value=max_gain(df)\n",
    "    if gain<=0:\n",
    "        leaf=decisionTree('left',df)\n",
    "        leaf.isLeaf=True\n",
    "        return leaf\n",
    "    if label in numerical:\n",
    "        root=decisionTree(label,df)\n",
    "        df2=df\n",
    "        children={}\n",
    "        i=value\n",
    "        rows1=df2[df2[label]<=i]\n",
    "        rows2=df2[df2[label]>i]\n",
    "        if rows1.size==df.size or rows2.size==df.size:\n",
    "            leaf=decisionTree('left',df)\n",
    "            leaf.isLeaf=True\n",
    "            return leaf\n",
    "        ch_root1=buildTree(rows1)\n",
    "        key1=i\n",
    "        key2=1\n",
    "        children[key1]=ch_root1\n",
    "        ch_root2=buildTree(rows2)\n",
    "        children[key2]=ch_root2\n",
    "        root.set_child(children)\n",
    "    else:\n",
    "        root=decisionTree(label,df)\n",
    "#     print root.lable, root.positive, root.negative\n",
    "        childs=df[label].unique()\n",
    "        children={}\n",
    "        df2=df\n",
    "        for i in childs:\n",
    "            rows=df2[df2[label]==i]\n",
    "            rows=rows.drop(columns=[label])\n",
    "            ch_root=buildTree(rows)\n",
    "            children[i]=ch_root\n",
    "        root.set_child(children)\n",
    "        \n",
    "    return root"
   ]
  },
  {
   "cell_type": "code",
   "execution_count": null,
   "metadata": {},
   "outputs": [],
   "source": [
    "root=buildTree(train)"
   ]
  },
  {
   "cell_type": "code",
   "execution_count": null,
   "metadata": {},
   "outputs": [],
   "source": [
    "def traverse(root):\n",
    "    if len(root.child)==0:\n",
    "        print \"return root: \",root.label\n",
    "        return\n",
    "    \n",
    "    print \"Root: \",root.label, root.isLeaf#, root.child\n",
    "    \n",
    "    for k,v in root.child.items():\n",
    "        print \"root: \",root.label, \"key: \",k\n",
    "        if v!=None:\n",
    "            traverse(v)"
   ]
  },
  {
   "cell_type": "code",
   "execution_count": null,
   "metadata": {},
   "outputs": [],
   "source": [
    "timeSpent_vs_leave={}"
   ]
  },
  {
   "cell_type": "code",
   "execution_count": null,
   "metadata": {},
   "outputs": [],
   "source": [
    "def predict(model,X):\n",
    "    root=model\n",
    "    row=X  \n",
    "    if root.isLeaf==True:\n",
    "        if root.positive>root.negative:\n",
    "            key=row['time_spend_company']\n",
    "            if key in timeSpent_vs_leave.keys():\n",
    "                timeSpent_vs_leave[key]+=1\n",
    "            else:\n",
    "                timeSpent_vs_leave[key]=1\n",
    "            return \"YES\"\n",
    "        else:\n",
    "            return \"NO\"\n",
    "    row1=row\n",
    "    ch_node=None\n",
    "    if root.label in numerical:\n",
    "        keys=root.child.keys()\n",
    "        x=0\n",
    "        for a in keys:\n",
    "            if a!=1:\n",
    "                x=a\n",
    "        takeside=0\n",
    "        if row1[root.label]>x:\n",
    "            takeside=1\n",
    "        else:\n",
    "            takeside=x\n",
    "        ch_node=root.child[takeside]\n",
    "    else:\n",
    "        if row1[root.label] in root.child.keys():\n",
    "            ch_node=root.child[row1[root.label]]\n",
    "            if ch_node!=None:\n",
    "                if ch_node.label=='left':\n",
    "                    if ch_node.positive>ch_node.negative:\n",
    "                        key=row['time_spend_company']\n",
    "                        if key in timeSpent_vs_leave.keys():\n",
    "                            timeSpent_vs_leave[key]+=1\n",
    "                        else:\n",
    "                            timeSpent_vs_leave[key]=1\n",
    "                        return \"YES\"\n",
    "                    else:\n",
    "                        return \"NO\"\n",
    "            if ch_node==None:\n",
    "                if root.positive>root.negative:\n",
    "                    key=row['time_spend_company']\n",
    "                    if key in timeSpent_vs_leave.keys():\n",
    "                        timeSpent_vs_leave[key]+=1\n",
    "                    else:\n",
    "                        timeSpent_vs_leave[key]=1\n",
    "                    return \"YES\"\n",
    "                else:\n",
    "                    return \"NO\"\n",
    "    if ch_node!=None:\n",
    "        return predict(ch_node,row)"
   ]
  },
  {
   "cell_type": "code",
   "execution_count": null,
   "metadata": {},
   "outputs": [],
   "source": [
    "def calculate_accuracy(df):\n",
    "    tn=0\n",
    "    tp=0\n",
    "    fn=0\n",
    "    fp=0\n",
    "    for index,rows in df.iterrows():\n",
    "        predicted_val=predict(root,rows)\n",
    "        if rows['left']==1 and predicted_val==\"YES\":\n",
    "            tp+=1\n",
    "        if rows['left']==0 and predicted_val==\"NO\":\n",
    "            tn+=1\n",
    "        if rows['left']==1 and predicted_val==\"NO\":\n",
    "            fn+=1\n",
    "        if rows['left']==0 and predicted_val==\"YES\":\n",
    "            fp+=1\n",
    "    accuracy=((tp+tn)/(tp+tn+fp+fn))*100\n",
    "    if tp+fn!=0:\n",
    "        recall=(tp/(tp+fn))*100\n",
    "    else:\n",
    "        recall=0\n",
    "    if tp+fp!=0:\n",
    "        precision=(tp/(tp+fp))*100\n",
    "    else:\n",
    "        precision=0\n",
    "    f1score=(2/((1/recall)+(1/precision)))\n",
    "    print \"True Positive: \"+str(tp)\n",
    "    print \"True Negative: \"+str(tn)\n",
    "    print \"False Positve: \"+str(fp)\n",
    "    print \"False Negative: \"+str(fn)\n",
    "    print \"accuracy: \"+str(accuracy)+\"%\"\n",
    "    print \"precision: \"+str(precision)+\"%\"\n",
    "    print \"recall: \"+str(recall)+\"%\"\n",
    "    print \"f1 score: \",f1score\n",
    "    return "
   ]
  },
  {
   "cell_type": "code",
   "execution_count": null,
   "metadata": {},
   "outputs": [],
   "source": [
    "calculate_accuracy(validate)"
   ]
  },
  {
   "cell_type": "code",
   "execution_count": null,
   "metadata": {},
   "outputs": [],
   "source": [
    "for index, row in test.iterrows():\n",
    "    print predict(root,row)"
   ]
  },
  {
   "cell_type": "code",
   "execution_count": null,
   "metadata": {},
   "outputs": [],
   "source": [
    "for k in timeSpent_vs_leave.keys():\n",
    "    print k,timeSpent_vs_leave[k]"
   ]
  },
  {
   "cell_type": "code",
   "execution_count": null,
   "metadata": {},
   "outputs": [],
   "source": []
  }
 ],
 "metadata": {
  "kernelspec": {
   "display_name": "Python 2",
   "language": "python",
   "name": "python2"
  },
  "language_info": {
   "codemirror_mode": {
    "name": "ipython",
    "version": 2
   },
   "file_extension": ".py",
   "mimetype": "text/x-python",
   "name": "python",
   "nbconvert_exporter": "python",
   "pygments_lexer": "ipython2",
   "version": "2.7.15rc1"
  }
 },
 "nbformat": 4,
 "nbformat_minor": 2
}
