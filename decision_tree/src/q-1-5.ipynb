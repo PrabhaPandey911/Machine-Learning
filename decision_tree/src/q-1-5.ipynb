{
 "cells": [
  {
   "cell_type": "code",
   "execution_count": 1,
   "metadata": {},
   "outputs": [],
   "source": [
    "from __future__ import division\n",
    "import numpy as np\n",
    "import pandas as pd\n",
    "import sys\n",
    "import matplotlib\n",
    "import matplotlib.pyplot as plt\n",
    "from pylab import *\n",
    "# filename = raw_input(\"enter file name: \")"
   ]
  },
  {
   "cell_type": "code",
   "execution_count": 2,
   "metadata": {},
   "outputs": [],
   "source": [
    "data=pd.read_csv('../input_data/train.csv')\n",
    "# print data\n",
    "# test=pd.read_csv('../input_data/sample_test.csv')\n",
    "train=data.sample(frac=0.8,random_state=200)\n",
    "validate=data.drop(train.index)\n",
    "# train,validate=np.split(data,[int(.8*len(data))])"
   ]
  },
  {
   "cell_type": "code",
   "execution_count": 3,
   "metadata": {},
   "outputs": [],
   "source": [
    "numerical=pd.DataFrame(train,columns=['satisfaction_level','last_evaluation','number_project','average_montly_hours','time_spend_company','left'])\n",
    "categorical=pd.DataFrame(train,columns=['Work_accident','left','promotion_last_5years','sales','salary'])"
   ]
  },
  {
   "cell_type": "code",
   "execution_count": 4,
   "metadata": {},
   "outputs": [],
   "source": [
    "def calculate_entropy(train):\n",
    "    values=train.left.unique()\n",
    "    entropy_node=0\n",
    "    for v in values:\n",
    "        num=train.left.value_counts()[v]\n",
    "        deno=len(train.left)\n",
    "        fraction=float(num)/deno\n",
    "        if fraction!=0:\n",
    "            entropy_node+=-(fraction*np.log2(fraction))\n",
    "    return entropy_node"
   ]
  },
  {
   "cell_type": "code",
   "execution_count": 5,
   "metadata": {},
   "outputs": [],
   "source": [
    "def entropy_attribute(df,attribute,original):\n",
    "    variables=df[attribute].unique()\n",
    "    values=df[original].unique()\n",
    "    entropy_attribute=0\n",
    "    I=0\n",
    "    for v in variables:\n",
    "        entropy_attribute=0\n",
    "        n=df[attribute].value_counts()[v]\n",
    "        d=len(df[attribute])\n",
    "        for x in values:\n",
    "            num=len(df[attribute][df[attribute]==v][df[original]==x])\n",
    "            deno=len(df[attribute][df[attribute]==v])\n",
    "            fraction=float(num)/deno\n",
    "            if fraction!=0:\n",
    "                entropy_attribute+=-(fraction*np.log2(fraction))\n",
    "        I+=(float(n)/d)*entropy_attribute\n",
    "    return I"
   ]
  },
  {
   "cell_type": "code",
   "execution_count": 6,
   "metadata": {},
   "outputs": [],
   "source": [
    "def find_node(df,column):\n",
    "    m=-sys.maxint-1\n",
    "    value=0\n",
    "    g=0\n",
    "    df2=df\n",
    "    c=''\n",
    "#     for column in df:\n",
    "    if column!='left':\n",
    "        values=df2[column].unique()\n",
    "        for i in values:\n",
    "            rows1=df2[df2[column]<=i]\n",
    "            rows2=df2[df2[column]>i]\n",
    "            ent1=calculate_entropy(rows1)\n",
    "            ent2=calculate_entropy(rows2)\n",
    "            size1=len(rows1)\n",
    "            size2=len(rows2)\n",
    "            sizeall=len(df2)\n",
    "            ent=(ent1*(size1/sizeall))+(ent2*(size2/sizeall))\n",
    "            ent_total=calculate_entropy(df2)\n",
    "            gain=ent_total-ent\n",
    "            if m<gain:\n",
    "                m=gain\n",
    "                value=i\n",
    "                c=column\n",
    "    return m,value,c"
   ]
  },
  {
   "cell_type": "code",
   "execution_count": 7,
   "metadata": {},
   "outputs": [],
   "source": [
    "# print find_node(train)\n",
    "def max_gain(df):\n",
    "    p=\"\"\n",
    "    m=-sys.maxint-1\n",
    "    split_pt=None\n",
    "    for i in df.columns:\n",
    "        gain=0\n",
    "        if i in numerical:\n",
    "            if i!='left':\n",
    "                gain,value,col=find_node(df,i)\n",
    "                if m<gain:\n",
    "                    m=gain\n",
    "                    p=i\n",
    "                    split_pt=value\n",
    "        if i in categorical:\n",
    "            if i!='left':\n",
    "                gain=calculate_entropy(df)-entropy_attribute(df,i,'left')\n",
    "                if m < gain:\n",
    "                    m=gain\n",
    "                    p=i\n",
    "    return m,p,split_pt"
   ]
  },
  {
   "cell_type": "code",
   "execution_count": 8,
   "metadata": {},
   "outputs": [],
   "source": [
    "class decisionTree():\n",
    "    def __init__(self,name,df):\n",
    "        self.label=name\n",
    "        self.child={}\n",
    "        self.positive=len(df[name][df['left']==1])\n",
    "        self.negative=len(df[name][df['left']==0])\n",
    "        self.isLeaf=False\n",
    "    def set_child(self,ch):\n",
    "        self.child=ch"
   ]
  },
  {
   "cell_type": "code",
   "execution_count": 9,
   "metadata": {},
   "outputs": [],
   "source": [
    "def buildTree(df):\n",
    "#     print \"calling\"\n",
    "    if len(df.columns)<=1:\n",
    "        leaf=decisionTree('left',df)\n",
    "        leaf.isLeaf=True\n",
    "        return leaf\n",
    "    gain,label,value=max_gain(df)\n",
    "#     print gain,value,label\n",
    "    if gain<=0:\n",
    "        leaf=decisionTree('left',df)\n",
    "        leaf.isLeaf=True\n",
    "        return leaf\n",
    "    if label in numerical:\n",
    "        root=decisionTree(label,df)\n",
    "        df2=df\n",
    "        children={}\n",
    "        i=value\n",
    "        rows1=df2[df2[label]<=i]\n",
    "#         rows1=rows1.drop(columns=[label])\n",
    "        rows2=df2[df2[label]>i]\n",
    "#         rows2=rows2.drop(columns=[label])\n",
    "        if rows1.size==df.size or rows2.size==df.size:\n",
    "            leaf=decisionTree('left',df)\n",
    "            leaf.isLeaf=True\n",
    "            return leaf\n",
    "        ch_root1=buildTree(rows1)\n",
    "        key1=i\n",
    "        key2=1\n",
    "        children[key1]=ch_root1\n",
    "        ch_root2=buildTree(rows2)\n",
    "        children[key2]=ch_root2\n",
    "        root.set_child(children)\n",
    "    else:\n",
    "        root=decisionTree(label,df)\n",
    "#     print root.lable, root.positive, root.negative\n",
    "        childs=df[label].unique()\n",
    "        children={}\n",
    "        df2=df\n",
    "        for i in childs:\n",
    "            rows=df2[df2[label]==i]\n",
    "            rows=rows.drop(columns=[label])\n",
    "            ch_root=buildTree(rows)\n",
    "            children[i]=ch_root\n",
    "        root.set_child(children)\n",
    "        \n",
    "    return root"
   ]
  },
  {
   "cell_type": "code",
   "execution_count": 10,
   "metadata": {},
   "outputs": [],
   "source": [
    "root=buildTree(train)"
   ]
  },
  {
   "cell_type": "code",
   "execution_count": 11,
   "metadata": {},
   "outputs": [],
   "source": [
    "def depth(root):\n",
    "    if root.isLeaf==True:\n",
    "        return 1\n",
    "    max_depth=0\n",
    "    if root==None:\n",
    "        return 0\n",
    "    if root.child=={}:\n",
    "        return 1\n",
    "    for i in root.child.keys():\n",
    "        temp=depth(root.child[i])\n",
    "        if temp+1>max_depth:\n",
    "            max_depth=temp+1\n",
    "    return max_depth"
   ]
  },
  {
   "cell_type": "code",
   "execution_count": 12,
   "metadata": {},
   "outputs": [
    {
     "name": "stdout",
     "output_type": "stream",
     "text": [
      "17\n"
     ]
    }
   ],
   "source": [
    "depth_of_tree=depth(root)\n",
    "print depth_of_tree"
   ]
  },
  {
   "cell_type": "code",
   "execution_count": 13,
   "metadata": {},
   "outputs": [],
   "source": [
    "def predict(model,model_args,X):\n",
    "    root=model\n",
    "    row=X\n",
    "    depth=model_args\n",
    "    if depth==0:\n",
    "        if root.positive>root.negative:\n",
    "            return \"YES\"\n",
    "        else:\n",
    "            return \"NO\"\n",
    "    if root.isLeaf==True:\n",
    "        if root.positive>root.negative:\n",
    "            return \"YES\"\n",
    "        else:\n",
    "            return \"NO\"\n",
    "    row1=row\n",
    "    ch_node=None\n",
    "#     print root.label,row1[root.label]\n",
    "    if root.label in numerical:\n",
    "        keys=root.child.keys()\n",
    "        x=0\n",
    "        for a in keys:\n",
    "            if a!=1:\n",
    "                x=a\n",
    "        takeside=0\n",
    "        if row1[root.label]>x:\n",
    "            takeside=1\n",
    "        else:\n",
    "            takeside=x\n",
    "        ch_node=root.child[takeside]\n",
    "    else:\n",
    "        if row1[root.label] in root.child.keys():\n",
    "            ch_node=root.child[row1[root.label]]\n",
    "            if ch_node!=None:\n",
    "                if ch_node.label=='left':\n",
    "                    if ch_node.positive>ch_node.negative:\n",
    "                        return \"YES\"\n",
    "                    else:\n",
    "                        return \"NO\"\n",
    "    if ch_node==None:\n",
    "        if root.positive>root.negative:\n",
    "            return \"YES\"\n",
    "        else:\n",
    "            return \"NO\"\n",
    "    if ch_node!=None:\n",
    "        depth-=1\n",
    "        return predict(ch_node,depth,row)"
   ]
  },
  {
   "cell_type": "code",
   "execution_count": 14,
   "metadata": {},
   "outputs": [],
   "source": [
    "def calculate_error(df,depth):\n",
    "#     print \"depth in calculate: \",depth\n",
    "    tn=0\n",
    "    tp=0\n",
    "    fn=0\n",
    "    fp=0\n",
    "    for index,rows in df.iterrows():\n",
    "        predicted_val=predict(root,depth,rows)\n",
    "#         if predicted_val=='YES':\n",
    "#             print predicted_val\n",
    "        if rows['left']==1 and predicted_val==\"YES\":\n",
    "            tp+=1\n",
    "        if rows['left']==0 and predicted_val==\"NO\":\n",
    "            tn+=1\n",
    "        if rows['left']==1 and predicted_val==\"NO\":\n",
    "            fn+=1\n",
    "        if rows['left']==0 and predicted_val==\"YES\":\n",
    "            fp+=1\n",
    "    accuracy=float(tp+tn)/(tp+tn+fp+fn)\n",
    "    error=1-accuracy\n",
    "#     print \"error result: \",error\n",
    "    return error\n",
    "#     return tp,tn,fp,fn\n"
   ]
  },
  {
   "cell_type": "code",
   "execution_count": 15,
   "metadata": {},
   "outputs": [
    {
     "name": "stdout",
     "output_type": "stream",
     "text": [
      "17\n"
     ]
    }
   ],
   "source": [
    "depth_of_tree=depth(root)\n",
    "xcoordinates=[]\n",
    "ycoordinates=[]\n",
    "xtrain=[]\n",
    "ytrain=[]\n",
    "print depth_of_tree\n",
    "depth_of_tree+=1\n",
    "# depth_dictionary={}\n",
    "for i in range(1,depth_of_tree):\n",
    "    y=calculate_error(validate,i)\n",
    "    y1=calculate_error(train,i)\n",
    "    xtrain.append(i)\n",
    "    ytrain.append(y1)\n",
    "    xcoordinates.append(i)\n",
    "    ycoordinates.append(y)\n",
    "# print depth_dictionary    "
   ]
  },
  {
   "cell_type": "code",
   "execution_count": 16,
   "metadata": {},
   "outputs": [
    {
     "data": {
      "text/plain": [
       "Text(0,0.5,'Error')"
      ]
     },
     "execution_count": 16,
     "metadata": {},
     "output_type": "execute_result"
    },
    {
     "data": {
      "image/png": "[encoded data removed]",
      "text/plain": [
       "<Figure size 504x504 with 1 Axes>"
      ]
     },
     "metadata": {
      "needs_background": "light"
     },
     "output_type": "display_data"
    }
   ],
   "source": [
    "fig,axes=plt.subplots(figsize=(7,7))\n",
    "axes.plot(xcoordinates,ycoordinates,label=r\"$On Validation data$\")\n",
    "axes.plot(xtrain,ytrain,label=r\"$On Train Data$\")\n",
    "legend=axes.legend(loc='best')\n",
    "axes.set_title('Comparison')\n",
    "plt.xlabel('Depth')\n",
    "plt.ylabel('Error')\n"
   ]
  },
  {
   "cell_type": "code",
   "execution_count": 17,
   "metadata": {},
   "outputs": [],
   "source": [
    "def count_node(root,depth):\n",
    "    if depth==0:\n",
    "        return 1\n",
    "    if root.isLeaf==True:\n",
    "        return 1\n",
    "    x=1\n",
    "    depth-=1\n",
    "    for i in root.child.keys():\n",
    "        x+=count_node(root.child[i],depth)\n",
    "    return x"
   ]
  },
  {
   "cell_type": "code",
   "execution_count": 18,
   "metadata": {},
   "outputs": [],
   "source": [
    "total_nodes=count_node(root,23)\n"
   ]
  },
  {
   "cell_type": "code",
   "execution_count": 19,
   "metadata": {},
   "outputs": [],
   "source": [
    "depth_of_tree=depth(root)\n",
    "xcoordinates1=[]\n",
    "ycoordinates1=[]\n",
    "xlabel1=[]\n",
    "ylabel1=[]\n",
    "# print depth_of_tree\n",
    "depth_of_tree+=1\n",
    "# print depth_of_tree\n",
    "# node_dictionary={}\n",
    "for i in range(1,depth_of_tree):\n",
    "#     print i\n",
    "    number=count_node(root,i)\n",
    "    xcoordinates1.append(number)\n",
    "    xlabel1.append(number)\n",
    "#     print i,no_of_nodes_uptil_now\n",
    "    y=calculate_error(validate,i)\n",
    "    y1=calculate_error(train,i)\n",
    "    ycoordinates1.append(y)\n",
    "    ylabel1.append(y1)"
   ]
  },
  {
   "cell_type": "code",
   "execution_count": 20,
   "metadata": {},
   "outputs": [
    {
     "data": {
      "text/plain": [
       "Text(0,0.5,'Error')"
      ]
     },
     "execution_count": 20,
     "metadata": {},
     "output_type": "execute_result"
    },
    {
     "data": {
      "image/png": "[encoded data removed]",
      "text/plain": [
       "<Figure size 504x504 with 1 Axes>"
      ]
     },
     "metadata": {
      "needs_background": "light"
     },
     "output_type": "display_data"
    }
   ],
   "source": [
    "fig,axes=plt.subplots(figsize=(7,7))\n",
    "axes.plot(xcoordinates1,ycoordinates1,label=r\"$On Validation data$\")\n",
    "axes.plot(xlabel1,ylabel1,label=r\"$On Train Data$\")\n",
    "axes.set_title('Comparison')\n",
    "plt.xlabel('Nodes')\n",
    "plt.ylabel('Error')"
   ]
  },
  {
   "cell_type": "code",
   "execution_count": 21,
   "metadata": {},
   "outputs": [],
   "source": [
    "#if training data does not has something and validation do have..handle that case in classify(missing data) \n",
    "#merge all scattered codes\n",
    "#sample.csv (done)\n",
    "#report\n",
    "#scikit learn\n",
    "#q6"
   ]
  },
  {
   "cell_type": "code",
   "execution_count": null,
   "metadata": {},
   "outputs": [],
   "source": []
  }
 ],
 "metadata": {
  "kernelspec": {
   "display_name": "Python 2",
   "language": "python",
   "name": "python2"
  },
  "language_info": {
   "codemirror_mode": {
    "name": "ipython",
    "version": 2
   },
   "file_extension": ".py",
   "mimetype": "text/x-python",
   "name": "python",
   "nbconvert_exporter": "python",
   "pygments_lexer": "ipython2",
   "version": "2.7.15rc1"
  }
 },
 "nbformat": 4,
 "nbformat_minor": 2
}
