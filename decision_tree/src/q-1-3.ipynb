{
 "cells": [
  {
   "cell_type": "code",
   "execution_count": 1,
   "metadata": {},
   "outputs": [],
   "source": [
    "from __future__ import division\n",
    "import numpy as np\n",
    "import pandas as pd\n",
    "import sys\n",
    "# filename=raw_input(\"train file:\")\n",
    "# testname=raw_input(\"test file: \")"
   ]
  },
  {
   "cell_type": "code",
   "execution_count": 2,
   "metadata": {},
   "outputs": [],
   "source": [
    "data=pd.read_csv('../input_data/train.csv')\n",
    "# print data\n",
    "test=pd.read_csv('../input_data/sample_test.csv')\n",
    "\n",
    "data = data.sample(frac=1)\n",
    "train, validate = np.split(data, [int(.8*len(data))])"
   ]
  },
  {
   "cell_type": "code",
   "execution_count": 3,
   "metadata": {},
   "outputs": [],
   "source": [
    "numerical=pd.DataFrame(train,columns=['satisfaction_level','last_evaluation','number_project','average_montly_hours','time_spend_company','left'])\n",
    "categorical=pd.DataFrame(train,columns=['Work_accident','left','promotion_last_5years','sales','salary'])"
   ]
  },
  {
   "cell_type": "code",
   "execution_count": 4,
   "metadata": {},
   "outputs": [],
   "source": [
    "def calculate_gini(train):\n",
    "    if train.size==0:#when data has all 1's \n",
    "        return 0\n",
    "    gini_node=0\n",
    "    num=len(train['left'][train['left']==0])\n",
    "    deno=len(train.left)\n",
    "    fraction=float(num)/deno\n",
    "    if fraction!=0:\n",
    "        gini_node=(2*fraction)*(1-fraction)\n",
    "    return gini_node"
   ]
  },
  {
   "cell_type": "code",
   "execution_count": 5,
   "metadata": {},
   "outputs": [],
   "source": [
    "def calculate_misclassificationrate(train):\n",
    "    values=train.left.unique()\n",
    "    result=0\n",
    "    for v in values:\n",
    "        num=train.left.value_counts()[v]\n",
    "        deno=len(train.left)\n",
    "        fraction=float(num)/deno\n",
    "        result=min(fraction,(1-fraction))\n",
    "    return result"
   ]
  },
  {
   "cell_type": "code",
   "execution_count": 6,
   "metadata": {},
   "outputs": [],
   "source": [
    "def gini_attribute(df,attribute,original):\n",
    "    variables=df[attribute].unique()\n",
    "    gini_attribute=0\n",
    "    for v in variables:\n",
    "        num=df[attribute][df[attribute]==v][df[original]==0]\n",
    "        n=len(num)\n",
    "        deno=df[attribute][df[attribute]==v]\n",
    "        d=len(deno)\n",
    "        q=float(n)/d\n",
    "        gini_attribute+=((2*q*(1-q))*(d/len(df)))\n",
    "        \n",
    "    return gini_attribute        "
   ]
  },
  {
   "cell_type": "code",
   "execution_count": 7,
   "metadata": {},
   "outputs": [],
   "source": [
    "def misclassification_attribute(df,attribute,original):\n",
    "    variables=df[attribute].unique()\n",
    "    gini_attribute=0\n",
    "    for v in variables:\n",
    "        num=df[attribute][df[attribute]==v][df[original]==0]\n",
    "        n=len(num)\n",
    "        deno=df[attribute][df[attribute]==v]\n",
    "        d=len(deno)\n",
    "        q=float(n)/d\n",
    "        gini_attribute+=(min(q,(1-q))*(d/len(df)))\n",
    "        \n",
    "    return gini_attribute "
   ]
  },
  {
   "cell_type": "code",
   "execution_count": 8,
   "metadata": {},
   "outputs": [],
   "source": [
    "#for numerical data \n",
    "def find_node_gini(df,column):\n",
    "    m=-sys.maxint-1\n",
    "    value=0\n",
    "    g=0\n",
    "    df2=df\n",
    "    c=''\n",
    "#     for column in df:\n",
    "    if column!='left':\n",
    "        values=df2[column].unique()\n",
    "        for i in values:\n",
    "            rows1=df2[df2[column]<=i]\n",
    "            rows2=df2[df2[column]>i]\n",
    "            ent1=calculate_gini(rows1)\n",
    "            ent2=calculate_gini(rows2)\n",
    "            size1=len(rows1)\n",
    "            size2=len(rows2)\n",
    "            sizeall=len(df2)\n",
    "            ent=(ent1*(size1/sizeall))+(ent2*(size2/sizeall))\n",
    "            ent_total=calculate_gini(df2)\n",
    "            gain=ent_total-ent\n",
    "            if m<gain:\n",
    "    #             print \"here\"\n",
    "                m=gain\n",
    "                value=i\n",
    "                c=column\n",
    "    return m,value,c"
   ]
  },
  {
   "cell_type": "code",
   "execution_count": 9,
   "metadata": {},
   "outputs": [],
   "source": [
    "#for numerical data \n",
    "def find_node_misclassification(df,column):\n",
    "    m=-sys.maxint-1\n",
    "    value=0\n",
    "    g=0\n",
    "    df2=df\n",
    "    c=''\n",
    "#     for column in df:\n",
    "    if column!='left':\n",
    "        values=df2[column].unique()\n",
    "        for i in values:\n",
    "            rows1=df2[df2[column]<=i]\n",
    "            rows2=df2[df2[column]>i]\n",
    "            ent1=calculate_misclassificationrate(rows1)\n",
    "            ent2=calculate_misclassificationrate(rows2)\n",
    "            size1=len(rows1)\n",
    "            size2=len(rows2)\n",
    "            sizeall=len(df2)\n",
    "            ent=(ent1*(size1/sizeall))+(ent2*(size2/sizeall))\n",
    "            ent_total=calculate_misclassificationrate(df2)\n",
    "            gain=ent_total-ent\n",
    "            if m<gain:\n",
    "    #             print \"here\"\n",
    "                m=gain\n",
    "                value=i\n",
    "                c=column\n",
    "    return m,value,c"
   ]
  },
  {
   "cell_type": "code",
   "execution_count": 10,
   "metadata": {},
   "outputs": [],
   "source": [
    "def max_gain_gini(df):\n",
    "    p=\"\"\n",
    "    m=-sys.maxint-1\n",
    "    split_pt=None\n",
    "    for i in df.columns:\n",
    "        gain=0\n",
    "        if i in numerical:\n",
    "            if i!='left':\n",
    "                gain,value,col=find_node_gini(df,i)\n",
    "                if m<gain:\n",
    "                    m=gain\n",
    "                    p=i\n",
    "                    split_pt=value\n",
    "        if i in categorical:\n",
    "            if i!='left':\n",
    "                gain=calculate_gini(df)-gini_attribute(df,i,'left')\n",
    "                if m < gain:\n",
    "                    m=gain\n",
    "                    p=i\n",
    "    return m,p,split_pt"
   ]
  },
  {
   "cell_type": "code",
   "execution_count": 11,
   "metadata": {},
   "outputs": [],
   "source": [
    "def max_gain_misclassification(df):\n",
    "    p=\"\"\n",
    "    m=-sys.maxint-1\n",
    "    split_pt=None\n",
    "    for i in df.columns:\n",
    "        gain=0\n",
    "        if i in numerical:\n",
    "            if i!='left':\n",
    "                gain,value,col=find_node_misclassification(df,i)\n",
    "                if m<gain:\n",
    "                    m=gain\n",
    "                    p=i\n",
    "                    split_pt=value\n",
    "        if i in categorical:\n",
    "            if i!='left':\n",
    "                gain=calculate_misclassificationrate(df)-misclassification_attribute(df,i,'left')\n",
    "                if m < gain:\n",
    "                    m=gain\n",
    "                    p=i\n",
    "    return m,p,split_pt"
   ]
  },
  {
   "cell_type": "code",
   "execution_count": 12,
   "metadata": {},
   "outputs": [
    {
     "name": "stdout",
     "output_type": "stream",
     "text": [
      "(0.10246385428591859, 'satisfaction_level', 0.46)\n"
     ]
    }
   ],
   "source": [
    "print max_gain_gini(train)"
   ]
  },
  {
   "cell_type": "code",
   "execution_count": 13,
   "metadata": {},
   "outputs": [],
   "source": [
    "class decisionTree():\n",
    "    def __init__(self,name,df):\n",
    "        self.label=name\n",
    "        self.child={}\n",
    "        self.positive=len(df[df['left']==1])\n",
    "        self.negative=len(df[df['left']==0])\n",
    "        self.isLeaf=False\n",
    "    def set_child(self,ch):\n",
    "        self.child=ch"
   ]
  },
  {
   "cell_type": "code",
   "execution_count": 14,
   "metadata": {},
   "outputs": [],
   "source": [
    "def buildTreeGini(df):\n",
    "#     print \"calling\"\n",
    "    if len(df.columns)<=1:\n",
    "        leaf=decisionTree('left',df)\n",
    "        leaf.isLeaf=True\n",
    "        return leaf\n",
    "    gain,label,value=max_gain_gini(df)\n",
    "    if gain<=0:\n",
    "        leaf=decisionTree('left',df)\n",
    "        leaf.isLeaf=True\n",
    "        return leaf\n",
    "    if label in numerical:\n",
    "        root=decisionTree(label,df)\n",
    "        df2=df\n",
    "        children={}\n",
    "        i=value\n",
    "        rows1=df2[df2[label]<=i]\n",
    "        rows2=df2[df2[label]>i]\n",
    "        if rows1.size==df.size or rows2.size==df.size:\n",
    "            leaf=decisionTree('left',df)\n",
    "            leaf.isLeaf=True\n",
    "            return leaf\n",
    "        ch_root1=buildTree(rows1)\n",
    "        key1=i\n",
    "        key2=1\n",
    "        children[key1]=ch_root1\n",
    "        ch_root2=buildTree(rows2)\n",
    "        children[key2]=ch_root2\n",
    "        root.set_child(children)\n",
    "    else:\n",
    "        root=decisionTree(label,df)\n",
    "        childs=df[label].unique()\n",
    "        children={}\n",
    "        df2=df\n",
    "        for i in childs:\n",
    "            rows=df2[df2[label]==i]\n",
    "            rows=rows.drop(columns=[label])\n",
    "            ch_root=buildTree(rows)\n",
    "            children[i]=ch_root\n",
    "        root.set_child(children)\n",
    "        \n",
    "    return root"
   ]
  },
  {
   "cell_type": "code",
   "execution_count": 15,
   "metadata": {},
   "outputs": [],
   "source": [
    "def buildTree(df):\n",
    "#     print \"calling\"\n",
    "    if len(df.columns)<=1:\n",
    "        leaf=decisionTree('left',df)\n",
    "        leaf.isLeaf=True\n",
    "        return leaf\n",
    "    gain,label,value=max_gain_misclassification(df)\n",
    "    if gain<=0:\n",
    "        leaf=decisionTree('left',df)\n",
    "        leaf.isLeaf=True\n",
    "        return leaf\n",
    "    if label in numerical:\n",
    "        root=decisionTree(label,df)\n",
    "        df2=df\n",
    "        children={}\n",
    "        i=value\n",
    "        rows1=df2[df2[label]<=i]\n",
    "        rows2=df2[df2[label]>i]\n",
    "        if rows1.size==df.size or rows2.size==df.size:\n",
    "            leaf=decisionTree('left',df)\n",
    "            leaf.isLeaf=True\n",
    "            return leaf\n",
    "        ch_root1=buildTree(rows1)\n",
    "        key1=i\n",
    "        key2=1\n",
    "        children[key1]=ch_root1\n",
    "        ch_root2=buildTree(rows2)\n",
    "        children[key2]=ch_root2\n",
    "        root.set_child(children)\n",
    "    else:\n",
    "        root=decisionTree(label,df)\n",
    "#     print root.lable, root.positive, root.negative\n",
    "        childs=df[label].unique()\n",
    "        children={}\n",
    "        df2=df\n",
    "        for i in childs:\n",
    "            rows=df2[df2[label]==i]\n",
    "            rows=rows.drop(columns=[label])\n",
    "            ch_root=buildTree(rows)\n",
    "            children[i]=ch_root\n",
    "        root.set_child(children)\n",
    "        \n",
    "    return root"
   ]
  },
  {
   "cell_type": "code",
   "execution_count": 16,
   "metadata": {},
   "outputs": [],
   "source": [
    "timeSpent_vs_leave={}"
   ]
  },
  {
   "cell_type": "code",
   "execution_count": 17,
   "metadata": {},
   "outputs": [],
   "source": [
    "root=buildTreeGini(train)\n",
    "root1=buildTree(train)"
   ]
  },
  {
   "cell_type": "code",
   "execution_count": 18,
   "metadata": {},
   "outputs": [],
   "source": [
    "def predict(model,X):\n",
    "    root=model\n",
    "    row=X  \n",
    "    if root.isLeaf==True:\n",
    "        if root.positive>root.negative:\n",
    "            return \"YES\"\n",
    "        else:\n",
    "            return \"NO\"\n",
    "    row1=row\n",
    "    ch_node=None\n",
    "#     print root.label,row1[root.label]\n",
    "    if root.label in numerical:\n",
    "        keys=root.child.keys()\n",
    "        x=0\n",
    "        for a in keys:\n",
    "            if a!=1:\n",
    "                x=a\n",
    "        takeside=0\n",
    "        if row1[root.label]>x:\n",
    "            takeside=1\n",
    "        else:\n",
    "            takeside=x\n",
    "        ch_node=root.child[takeside]\n",
    "    else:\n",
    "        if row1[root.label] in root.child.keys():\n",
    "            ch_node=root.child[row1[root.label]]\n",
    "            if ch_node!=None:\n",
    "                if ch_node.label=='left':\n",
    "                    if ch_node.positive>ch_node.negative:\n",
    "                        return \"YES\"\n",
    "                    else:\n",
    "                        return \"NO\"\n",
    "            if ch_node==None:\n",
    "                if root.positive>root.negative:\n",
    "                    return \"YES\"\n",
    "                else:\n",
    "                    return \"NO\"\n",
    "    if ch_node!=None:\n",
    "        return predict(ch_node,row)"
   ]
  },
  {
   "cell_type": "code",
   "execution_count": 19,
   "metadata": {},
   "outputs": [],
   "source": [
    "def calculate_accuracy(df,root):\n",
    "    tn=0\n",
    "    tp=0\n",
    "    fn=0\n",
    "    fp=0\n",
    "    for index,rows in df.iterrows():\n",
    "        predicted_val=predict(root,rows)\n",
    "        if rows['left']==1 and predicted_val==\"YES\":\n",
    "            tp+=1\n",
    "        if rows['left']==0 and predicted_val==\"NO\":\n",
    "            tn+=1\n",
    "        if rows['left']==1 and predicted_val==\"NO\":\n",
    "            fn+=1\n",
    "        if rows['left']==0 and predicted_val==\"YES\":\n",
    "            fp+=1\n",
    "    accuracy=((tp+tn)/(tp+tn+fp+fn))*100\n",
    "    if tp+fn!=0:\n",
    "        recall=(tp/(tp+fn))*100\n",
    "    else:\n",
    "        recall=0\n",
    "    if tp+fp!=0:\n",
    "        precision=(tp/(tp+fp))*100\n",
    "    else:\n",
    "        precision=0\n",
    "    f1score=(2/((1/recall)+(1/precision)))\n",
    "    print \"True Positive: \"+str(tp)\n",
    "    print \"True Negative: \"+str(tn)\n",
    "    print \"False Positive: \"+str(fp)\n",
    "    print \"False Negative: \"+str(fn)\n",
    "    print \"accuracy: \"+str(accuracy)+\"%\"\n",
    "    print \"precision: \"+str(precision)+\"%\"\n",
    "    print \"recall: \"+str(recall)+\"%\"\n",
    "    print \"f1 score: \",f1score\n",
    "    return "
   ]
  },
  {
   "cell_type": "code",
   "execution_count": 20,
   "metadata": {},
   "outputs": [
    {
     "name": "stdout",
     "output_type": "stream",
     "text": [
      "True Positive: 417\n",
      "True Negative: 1670\n",
      "False Positive: 34\n",
      "False Negative: 123\n",
      "accuracy: 93.0035650624%\n",
      "precision: 92.4611973392%\n",
      "recall: 77.2222222222%\n",
      "f1 score:  84.1574167508\n"
     ]
    }
   ],
   "source": [
    "calculate_accuracy(validate,root) #gini"
   ]
  },
  {
   "cell_type": "code",
   "execution_count": 21,
   "metadata": {},
   "outputs": [
    {
     "name": "stdout",
     "output_type": "stream",
     "text": [
      "True Positive: 415\n",
      "True Negative: 1696\n",
      "False Positive: 9\n",
      "False Negative: 128\n",
      "accuracy: 93.9056939502%\n",
      "precision: 97.8773584906%\n",
      "recall: 76.4272559853%\n",
      "f1 score:  85.8324715615\n"
     ]
    }
   ],
   "source": [
    "calculate_accuracy(validate,root1) #misclassification"
   ]
  },
  {
   "cell_type": "code",
   "execution_count": 22,
   "metadata": {},
   "outputs": [
    {
     "name": "stdout",
     "output_type": "stream",
     "text": [
      "NO\n",
      "YES\n"
     ]
    }
   ],
   "source": [
    "for index, row in test.iterrows():\n",
    "    print predict(root,row)"
   ]
  }
 ],
 "metadata": {
  "kernelspec": {
   "display_name": "Python 2",
   "language": "python",
   "name": "python2"
  },
  "language_info": {
   "codemirror_mode": {
    "name": "ipython",
    "version": 2
   },
   "file_extension": ".py",
   "mimetype": "text/x-python",
   "name": "python",
   "nbconvert_exporter": "python",
   "pygments_lexer": "ipython2",
   "version": "2.7.15rc1"
  }
 },
 "nbformat": 4,
 "nbformat_minor": 2
}
