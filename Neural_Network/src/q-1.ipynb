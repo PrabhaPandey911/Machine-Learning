{
 "cells": [
  {
   "cell_type": "code",
   "execution_count": 5,
   "metadata": {},
   "outputs": [],
   "source": [
    "import numpy as np\n",
    "import pandas as pd\n",
    "import math\n",
    "import sys\n",
    "import matplotlib.pyplot as plt\n",
    "from sklearn.metrics import accuracy_score"
   ]
  },
  {
   "cell_type": "code",
   "execution_count": 6,
   "metadata": {},
   "outputs": [],
   "source": [
    "data=pd.read_csv('../input_data/Apparel/apparel-trainval.csv')"
   ]
  },
  {
   "cell_type": "code",
   "execution_count": 7,
   "metadata": {},
   "outputs": [],
   "source": [
    "def standerdise(data):\n",
    "    for i in data.columns:\n",
    "        if i!='label':\n",
    "            mean=data[i].mean()\n",
    "            std=data[i].std()\n",
    "            data[i]=(data[i]-mean)/std\n",
    "    return data"
   ]
  },
  {
   "cell_type": "code",
   "execution_count": 8,
   "metadata": {},
   "outputs": [],
   "source": [
    "data=standerdise(data)"
   ]
  },
  {
   "cell_type": "code",
   "execution_count": 139,
   "metadata": {},
   "outputs": [],
   "source": [
    "train,validate = np.split(data,[int(.8*len(data))])"
   ]
  },
  {
   "cell_type": "code",
   "execution_count": 140,
   "metadata": {},
   "outputs": [
    {
     "name": "stdout",
     "output_type": "stream",
     "text": [
      "(60000, 785)\n"
     ]
    }
   ],
   "source": [
    "print np.shape(data)"
   ]
  },
  {
   "cell_type": "code",
   "execution_count": 222,
   "metadata": {},
   "outputs": [],
   "source": [
    "def sigmoid(x):\n",
    "    return 1/(1+np.exp(-x))\n",
    "    \n",
    "def tanh(x):\n",
    "    return np.sinh(x)/np.cosh(x)\n",
    "\n",
    "def Relu(x):\n",
    "    return x * (x > 0)\n",
    "    \n",
    "def softmax(A):\n",
    "    expA = np.exp(A)\n",
    "    return (expA/expA.sum(axis=1,keepdims=True))\n",
    "\n",
    "def sigmoid_der(x):\n",
    "    return sigmoid(x) * (1- sigmoid(x))\n",
    "\n",
    "def Relu_der(x):\n",
    "    return 1. * (x > 0)\n",
    "  \n",
    "def tanh_der(x):\n",
    "    t=(tanh(x)**2)\n",
    "    return 1-t\n"
   ]
  },
  {
   "cell_type": "code",
   "execution_count": 142,
   "metadata": {},
   "outputs": [],
   "source": [
    "label_col=train['label'].tolist()"
   ]
  },
  {
   "cell_type": "code",
   "execution_count": 143,
   "metadata": {},
   "outputs": [
    {
     "name": "stdout",
     "output_type": "stream",
     "text": [
      "[[ 0.  0.  1. ...,  0.  0.  0.]\n",
      " [ 0.  0.  0. ...,  0.  0.  1.]\n",
      " [ 0.  0.  0. ...,  0.  0.  0.]\n",
      " ..., \n",
      " [ 0.  0.  0. ...,  0.  0.  0.]\n",
      " [ 0.  1.  0. ...,  0.  0.  0.]\n",
      " [ 0.  0.  0. ...,  1.  0.  0.]]\n"
     ]
    }
   ],
   "source": [
    "one_hot_label=np.zeros((train.shape[0],10))\n",
    "\n",
    "for i in range(train.shape[0]):\n",
    "    one_hot_label[i,label_col[i]]=1\n",
    "print one_hot_label"
   ]
  },
  {
   "cell_type": "code",
   "execution_count": 144,
   "metadata": {},
   "outputs": [],
   "source": [
    "def create_minibatches(batch_size,train):\n",
    "    train_list=train.values\n",
    "    rows=train.shape[0]\n",
    "\n",
    "    ohl_list=one_hot_label.tolist()\n",
    "    length=len(ohl_list)\n",
    "\n",
    "    n = batch_size  #chunk row size batch size\n",
    "    \n",
    "    train_chunks = [train_list[i:i+n] for i in range(0,rows,n)]\n",
    "\n",
    "    ohl_chunks = [ohl_list[i:i+n] for i in range(0,length,n)]\n",
    "\n",
    "    return train_chunks,ohl_chunks"
   ]
  },
  {
   "cell_type": "code",
   "execution_count": 145,
   "metadata": {},
   "outputs": [
    {
     "name": "stdout",
     "output_type": "stream",
     "text": [
      "Enter Batch Size: 512\n"
     ]
    }
   ],
   "source": [
    "batch_size=raw_input(\"Enter Batch Size: \")\n",
    "train = train.drop(columns=['label'])\n",
    "train_chunks,ohl_chunks=create_minibatches(int(batch_size),train)"
   ]
  },
  {
   "cell_type": "code",
   "execution_count": 146,
   "metadata": {},
   "outputs": [],
   "source": [
    "actual=[]\n",
    "actual=validate['label'].tolist()\n",
    "validate=validate.drop(columns=['label'])"
   ]
  },
  {
   "cell_type": "code",
   "execution_count": 147,
   "metadata": {},
   "outputs": [
    {
     "name": "stdout",
     "output_type": "stream",
     "text": [
      "Enter Learning Rate: 0.0001\n"
     ]
    }
   ],
   "source": [
    "learning_rate=raw_input(\"Enter Learning Rate: \")\n",
    "learning_rate=float(learning_rate)"
   ]
  },
  {
   "cell_type": "code",
   "execution_count": 303,
   "metadata": {},
   "outputs": [],
   "source": [
    "import pickle\n",
    "class MultipleHiddenLayerNN:\n",
    "    \n",
    "    def __init__(self,input_size,output_size,hidden_size,num_of_hidden_layers):\n",
    "        self.outputLayers=output_size\n",
    "        self.inputLayers=input_size\n",
    "        self.numHiddenLayers = num_of_hidden_layers\n",
    "        self.hiddenLayers=hidden_size\n",
    "        \n",
    "\n",
    "        #list of weigths and biases of all the hidden layers\n",
    "        #weight between i/p layer and hidden layer just next to i/p layer\n",
    "        self.weights=[]\n",
    "        \n",
    "        weight1=np.random.randn(self.inputLayers,self.hiddenLayers)*math.sqrt(2.0/self.inputLayers)\n",
    "#         print 'wwww',weight1.shape\n",
    "        self.weights.append(weight1)\n",
    "        \n",
    "        \n",
    "        self.biases=[]\n",
    "        bias1=np.random.randn(hidden_size)\n",
    "        self.biases.append(bias1)\n",
    "\n",
    "        #for n-1 times we need to calculate the weights for itermediate hidden layers\n",
    "        for i in range(self.numHiddenLayers-1):\n",
    "            #assuming the size of each itermediate hidden layer to be the same\n",
    "            self.weights.append(np.random.randn(self.hiddenLayers,self.hiddenLayers)*math.sqrt(2.0/self.hiddenLayers))\n",
    "            self.biases.append(np.random.randn(hidden_size))\n",
    "\n",
    "        #weight between the last hidden layer and the output layer\n",
    "        self.weights.append(np.random.randn(self.hiddenLayers,self.outputLayers)*math.sqrt(2.0/self.hiddenLayers))\n",
    "        self.biases.append(np.random.randn(output_size))\n",
    "\n",
    "    def forwardPropagation(self,X,function):\n",
    "        self.activation_list=[]\n",
    "        self.training_matrix=X\n",
    "#         print 'X',X.shape\n",
    "#         print 'weight',self.weights[0].shape\n",
    "        self.z2 = np.dot(X,self.weights[0])+self.biases[0]\n",
    "#         print 'z2',self.z2.shape \n",
    "        self.a2 = function(self.z2)\n",
    "        self.activation_list.append(self.a2)\n",
    "\n",
    "        for i in range(self.numHiddenLayers-1):\n",
    "            self.z2=np.dot(self.activation_list[i],self.weights[i+1])+self.biases[i+1]\n",
    "            self.a2=function(self.z2)\n",
    "            self.activation_list.append(self.a2)\n",
    "\n",
    "        self.z3=np.dot(self.activation_list[self.numHiddenLayers-1],self.weights[self.numHiddenLayers])+self.biases[self.numHiddenLayers]\n",
    "        \n",
    "        yHat =softmax(self.z3)\n",
    "\n",
    "        return yHat\n",
    "\n",
    "    def backPropagation(self, yHat, yactual, function_der,learning_rate):\n",
    "\n",
    "        derivative_wgt=[]\n",
    "        derivative_bias=[]\n",
    "        cost = yHat - yactual\n",
    "        #propagating backwards from last layer to first\n",
    "        for l in range(self.numHiddenLayers,0,-1):\n",
    "            dz3_dw = self.activation_list[l-1]\n",
    "            \n",
    "            wgt_der=np.dot(dz3_dw.T,cost)\n",
    "            bs_der=np.average(cost,axis=0)\n",
    "            \n",
    "            derivative_wgt.append(wgt_der)\n",
    "\n",
    "            derivative_bias.append(bs_der)\n",
    "            \n",
    "            cost=np.dot(cost,self.weights[l].T)\n",
    "\n",
    "        cost*=function_der(dz3_dw)#derivative of function(sigmoid or tanh)\n",
    "\n",
    "        derivative_wgt.append(learning_rate*np.dot(self.training_matrix.T,cost))\n",
    "\n",
    "        derivative_wgt=derivative_wgt[::-1]\n",
    "        \n",
    "        derivative_bias.append(learning_rate*np.average(cost,axis=0))\n",
    "    \n",
    "        derivative_bias=derivative_bias[::-1]\n",
    "\n",
    "        return derivative_wgt,derivative_bias\n",
    "\n",
    "\n",
    "    def updateWeight(self,wgt,bias,learning_rate):\n",
    "        for l in range(self.numHiddenLayers + 1):\n",
    "            self.weights[l]-=learning_rate * wgt[l]\n",
    "            self.biases[l]-=learning_rate * bias[l].sum(axis=0)\n",
    "\n",
    "    def calculate_loss(self,yHat,yactual):\n",
    "        loss=np.sum(-yactual * np.log(yHat))\n",
    "        return loss\n",
    "    \n",
    "    def saveWeights(self):\n",
    "        with open('weights.txt','wb') as fp:\n",
    "            pickle.dump(self.weights,fp)\n",
    "        with open('biases.txt','wb') as fp:\n",
    "            pickle.dump(self.biases,fp)\n",
    "            \n",
    "    "
   ]
  },
  {
   "cell_type": "code",
   "execution_count": 284,
   "metadata": {},
   "outputs": [
    {
     "name": "stdout",
     "output_type": "stream",
     "text": [
      "Enter input size: 784\n",
      "Enter output size: 10\n",
      "Enter hidden layer size: 38\n",
      "Enter number of hidden layers: 1\n"
     ]
    }
   ],
   "source": [
    "input_size=raw_input(\"Enter input size: \")\n",
    "output_size=raw_input(\"Enter output size: \")\n",
    "hidden_size=raw_input(\"Enter hidden layer size: \")\n",
    "num=raw_input(\"Enter number of hidden layers: \")"
   ]
  },
  {
   "cell_type": "code",
   "execution_count": 285,
   "metadata": {},
   "outputs": [],
   "source": [
    "multiNNTanh=MultipleHiddenLayerNN(int(input_size),int(output_size),int(hidden_size),int(num))\n",
    "multiNNSig=MultipleHiddenLayerNN(int(input_size),int(output_size),int(hidden_size),int(num))\n",
    "multiNNRelu=MultipleHiddenLayerNN(int(input_size),int(output_size),int(hidden_size),int(num))"
   ]
  },
  {
   "cell_type": "code",
   "execution_count": 286,
   "metadata": {},
   "outputs": [],
   "source": [
    "def create_error_list(function,multiNN,train_chunks,ohl_chunks,function_der,learning_rate):\n",
    "    x_list_multi=[]\n",
    "    error_list_multi=[]\n",
    "\n",
    "    for i in range(5):\n",
    "        predicted=np.array([])\n",
    "        actual_t=np.array([])\n",
    "        for j in range(len(train_chunks)):\n",
    "            yHat=multiNN.forwardPropagation(train_chunks[j],function)\n",
    "            der_wgt,der_bias=multiNN.backPropagation(yHat, ohl_chunks[j], function_der,10e-4)\n",
    "            multiNN.updateWeight(der_wgt,der_bias,learning_rate)\n",
    "            predicted=np.vstack([predicted,yHat]) if predicted.size else yHat\n",
    "            actual_t=np.vstack([actual_t,ohl_chunks[j]]) if len(actual_t) else ohl_chunks[j]\n",
    "\n",
    "        if i%1==0:\n",
    "            x_list_multi.append(i)\n",
    "            loss = multiNN.calculate_loss(predicted,actual_t)\n",
    "            print \"Loss function value: \", loss\n",
    "            error_list_multi.append(loss)\n",
    "            print \n",
    "    return x_list_multi,error_list_multi"
   ]
  },
  {
   "cell_type": "code",
   "execution_count": 287,
   "metadata": {},
   "outputs": [
    {
     "name": "stdout",
     "output_type": "stream",
     "text": [
      "-----------------------------------Tanh---------------------------\n",
      "Loss function value:  89987.3095799\n",
      "\n",
      "Loss function value:  60485.2450533\n",
      "\n",
      "Loss function value:  51906.9822288\n",
      "\n",
      "Loss function value:  47569.3156789\n",
      "\n",
      "Loss function value:  44878.4451643\n",
      "\n",
      "---------------------------------sigmoid--------------------------\n",
      "Loss function value:  107445.615248\n",
      "\n",
      "Loss function value:  90877.0572398\n",
      "\n",
      "Loss function value:  81726.7663805\n",
      "\n",
      "Loss function value:  75071.0446992\n",
      "\n",
      "Loss function value:  70026.4816458\n",
      "\n",
      "----------------------------------Relu-----------------------------\n",
      "Loss function value:  94590.0923527\n",
      "\n",
      "Loss function value:  61725.2895007\n",
      "\n",
      "Loss function value:  54340.4874642\n",
      "\n",
      "Loss function value:  50698.545676\n",
      "\n",
      "Loss function value:  48362.5272745\n",
      "\n"
     ]
    }
   ],
   "source": [
    "print \"-----------------------------------Tanh---------------------------\"\n",
    "x_tanh,error_tanh=create_error_list(tanh,multiNNTanh,train_chunks,ohl_chunks,tanh_der,learning_rate)\n",
    "\n",
    "print \"---------------------------------sigmoid--------------------------\"\n",
    "x_sig,error_sig=create_error_list(sigmoid,multiNNSig,train_chunks,ohl_chunks,sigmoid_der,learning_rate)\n",
    "\n",
    "print \"----------------------------------Relu-----------------------------\"\n",
    "x_relu,error_relu=create_error_list(Relu,multiNNRelu,train_chunks,ohl_chunks,Relu_der,learning_rate)"
   ]
  },
  {
   "cell_type": "code",
   "execution_count": 288,
   "metadata": {},
   "outputs": [],
   "source": [
    "def create_graph(x_list,error_list,name):\n",
    "    plt.figure(figsize=(5,5))\n",
    "    plt.title(name)\n",
    "    plt.plot(x_list,error_list)\n"
   ]
  },
  {
   "cell_type": "code",
   "execution_count": 289,
   "metadata": {},
   "outputs": [],
   "source": [
    "def calculate_accuracy(multiNN,validate,function,actual):\n",
    "#     print 'shape',np.shape(validate)\n",
    "    yHat_validate_multi = multiNN.forwardPropagation(validate,function)\n",
    "    validate_pred=[]\n",
    "#     print 'yhat',np.shape(yHat_validate_multi)\n",
    "    for i in yHat_validate_multi:\n",
    "        validate_pred.append(i.argmax())  \n",
    "    \n",
    "    accu=accuracy_score(actual,validate_pred)*100\n",
    "    return validate_pred,accu"
   ]
  },
  {
   "cell_type": "code",
   "execution_count": 290,
   "metadata": {},
   "outputs": [
    {
     "name": "stdout",
     "output_type": "stream",
     "text": [
      "Accuracy:  69.9416666667\n"
     ]
    }
   ],
   "source": [
    "# create_graph(x_tanh,error_tanh,\"iteration v/s error for Tanh\")\n",
    "validate_pred_tanh,accu_tanh=calculate_accuracy(multiNNTanh,validate,tanh,actual)\n",
    "print \"Accuracy: \",accu_tanh"
   ]
  },
  {
   "cell_type": "code",
   "execution_count": 291,
   "metadata": {},
   "outputs": [
    {
     "name": "stdout",
     "output_type": "stream",
     "text": [
      "Accuracy:  61.175\n"
     ]
    }
   ],
   "source": [
    "# create_graph(x_sig,error_sig,\"iteration v/s error for Sigmoid\")\n",
    "validate_pred_sig,accu_sig=calculate_accuracy(multiNNSig,validate,sigmoid,actual)\n",
    "print \"Accuracy: \",accu_sig"
   ]
  },
  {
   "cell_type": "code",
   "execution_count": 292,
   "metadata": {},
   "outputs": [
    {
     "name": "stdout",
     "output_type": "stream",
     "text": [
      "Accuracy:  67.175\n"
     ]
    }
   ],
   "source": [
    "# create_graph(x_relu,error_relu,\"iteration v/s error for Relu\")\n",
    "validate_pred_relu,accu_relu=calculate_accuracy(multiNNRelu,validate,Relu,actual)\n",
    "print \"Accuracy: \",accu_relu"
   ]
  },
  {
   "cell_type": "code",
   "execution_count": 293,
   "metadata": {},
   "outputs": [
    {
     "data": {
      "text/plain": [
       "Text(0.5,1,'loss vs iterations')"
      ]
     },
     "execution_count": 293,
     "metadata": {},
     "output_type": "execute_result"
    },
    {
     "data": {
      "text/plain": [
       "<Figure size 360x360 with 0 Axes>"
      ]
     },
     "metadata": {},
     "output_type": "display_data"
    },
    {
     "data": {
      "image/png": "[encoded data removed]",
      "text/plain": [
       "<Figure size 432x288 with 1 Axes>"
      ]
     },
     "metadata": {
      "needs_background": "light"
     },
     "output_type": "display_data"
    }
   ],
   "source": [
    "plt.figure(figsize=(5,5))\n",
    "fig, ax = plt.subplots()\n",
    "plt.title(\"Iterations v/s prediction loss\")\n",
    "ax.plot(x_tanh,error_tanh,label=\"tanh\")\n",
    "ax.plot(x_sig,error_sig,label=\"sigmoid\")\n",
    "ax.plot(x_relu,error_relu,label=\"relu\")\n",
    "ax.legend(loc=2)\n",
    "ax.set_xlabel('Iterations')\n",
    "ax.set_ylabel('loss')\n",
    "ax.set_title('loss vs iterations')"
   ]
  },
  {
   "cell_type": "code",
   "execution_count": 294,
   "metadata": {},
   "outputs": [],
   "source": [
    "multiNNTanh.saveWeights()"
   ]
  },
  {
   "cell_type": "code",
   "execution_count": 295,
   "metadata": {},
   "outputs": [],
   "source": [
    "def create_error_list_for_layer(function,multiNN,train_chunks,ohl_chunks,function_der,learning_rate):\n",
    "    error_list_multi=[]\n",
    "\n",
    "    for i in range(5):\n",
    "        predicted=np.array([])\n",
    "        actual_t=np.array([])\n",
    "        for j in range(len(train_chunks)):\n",
    "            yHat=multiNN.forwardPropagation(train_chunks[j],function)\n",
    "            der_wgt,der_bias=multiNN.backPropagation(yHat, ohl_chunks[j], function_der,10e-4)\n",
    "            multiNN.updateWeight(der_wgt,der_bias,learning_rate)\n",
    "            predicted=np.vstack([predicted,yHat]) if predicted.size else yHat\n",
    "            actual_t=np.vstack([actual_t,ohl_chunks[j]]) if len(actual_t) else ohl_chunks[j]\n",
    "\n",
    "        if i%1==0:\n",
    "            loss = multiNN.calculate_loss(predicted,actual_t)\n",
    "            error_list_multi.append(loss)\n",
    "\n",
    "    return error_list_multi"
   ]
  },
  {
   "cell_type": "code",
   "execution_count": 296,
   "metadata": {},
   "outputs": [],
   "source": [
    "def layers_vs_error(function,function_der,train_chunks,ohl_chunks,learning_rate,validate,actual):\n",
    "    layers=[]\n",
    "    errors=[]\n",
    "    \n",
    "    multiNN1=MultipleHiddenLayerNN(int(input_size),int(output_size),int(hidden_size),1)\n",
    "    error_list1=create_error_list_for_layer(function,multiNN1,train_chunks,ohl_chunks,function_der,learning_rate)\n",
    "    errors.append(error_list1[-1])\n",
    "    layers.append(1)\n",
    "    \n",
    "    print \"for 1 layer\"\n",
    "    calculate_accuracy(multiNN1,validate,function,actual)\n",
    "    \n",
    "    multiNN2=MultipleHiddenLayerNN(int(input_size),int(output_size),int(hidden_size),2)\n",
    "    error_list2=create_error_list_for_layer(function,multiNN2,train_chunks,ohl_chunks,function_der,learning_rate)\n",
    "    errors.append(error_list2[-1])\n",
    "    layers.append(2)\n",
    "    \n",
    "    print \"for 2 layer\"\n",
    "    calculate_accuracy(multiNN2,validate,function,actual)\n",
    "    \n",
    "    multiNN3=MultipleHiddenLayerNN(int(input_size),int(output_size),int(hidden_size),3)\n",
    "    error_list3=create_error_list_for_layer(function,multiNN3,train_chunks,ohl_chunks,function_der,learning_rate)\n",
    "    errors.append(error_list3[-1])\n",
    "    layers.append(3)\n",
    "    \n",
    "    print \"for 3 layer\"\n",
    "    calculate_accuracy(multiNN3,validate,function,actual)\n",
    "    \n",
    "    multiNN4=MultipleHiddenLayerNN(int(input_size),int(output_size),int(hidden_size),4)\n",
    "    error_list4=create_error_list_for_layer(function,multiNN4,train_chunks,ohl_chunks,function_der,learning_rate)\n",
    "    errors.append(error_list4[-1])\n",
    "    layers.append(4)\n",
    "    \n",
    "    print \"for 4 layer\"\n",
    "    calculate_accuracy(multiNN4,validate,function,actual)\n",
    "    \n",
    "    multiNN5=MultipleHiddenLayerNN(int(input_size),int(output_size),int(hidden_size),5)\n",
    "    error_list5=create_error_list_for_layer(function,multiNN5,train_chunks,ohl_chunks,function_der,learning_rate)\n",
    "    errors.append(error_list5[-1])\n",
    "    layers.append(5)\n",
    "    \n",
    "    print \"for 5 layer\"\n",
    "    calculate_accuracy(multiNN5,validate,function,actual)\n",
    "    \n",
    "    return layers,errors"
   ]
  },
  {
   "cell_type": "code",
   "execution_count": 297,
   "metadata": {},
   "outputs": [
    {
     "name": "stdout",
     "output_type": "stream",
     "text": [
      "for 1 layer\n",
      "for 2 layer\n",
      "for 3 layer\n",
      "for 4 layer\n"
     ]
    },
    {
     "name": "stderr",
     "output_type": "stream",
     "text": [
      "/home/prabha/.local/lib/python2.7/site-packages/ipykernel_launcher.py:5: RuntimeWarning: overflow encountered in sinh\n",
      "  \"\"\"\n",
      "/home/prabha/.local/lib/python2.7/site-packages/ipykernel_launcher.py:5: RuntimeWarning: overflow encountered in cosh\n",
      "  \"\"\"\n",
      "/home/prabha/.local/lib/python2.7/site-packages/ipykernel_launcher.py:5: RuntimeWarning: invalid value encountered in divide\n",
      "  \"\"\"\n"
     ]
    },
    {
     "name": "stdout",
     "output_type": "stream",
     "text": [
      "for 5 layer\n"
     ]
    }
   ],
   "source": [
    "layers_tanh,errors_tanh=layers_vs_error(tanh,tanh_der,train_chunks,ohl_chunks,0.001,validate,actual)\n",
    "# create_graph(layers_tanh,errors_tanh,\"layers v/s error for tanh\")"
   ]
  },
  {
   "cell_type": "code",
   "execution_count": 298,
   "metadata": {},
   "outputs": [
    {
     "name": "stdout",
     "output_type": "stream",
     "text": [
      "for 1 layer\n",
      "for 2 layer\n",
      "for 3 layer\n"
     ]
    },
    {
     "name": "stderr",
     "output_type": "stream",
     "text": [
      "/home/prabha/.local/lib/python2.7/site-packages/ipykernel_launcher.py:2: RuntimeWarning: overflow encountered in exp\n",
      "  \n"
     ]
    },
    {
     "name": "stdout",
     "output_type": "stream",
     "text": [
      "for 4 layer\n",
      "for 5 layer\n"
     ]
    }
   ],
   "source": [
    "layers_sig,errors_sig=layers_vs_error(sigmoid,sigmoid_der,train_chunks,ohl_chunks,0.001,validate,actual)\n",
    "# create_graph(layers_sig,errors_sig,\"layers v/s error for sigmoid\")"
   ]
  },
  {
   "cell_type": "code",
   "execution_count": 299,
   "metadata": {},
   "outputs": [
    {
     "name": "stdout",
     "output_type": "stream",
     "text": [
      "for 1 layer\n",
      "for 2 layer\n"
     ]
    },
    {
     "name": "stderr",
     "output_type": "stream",
     "text": [
      "/home/prabha/.local/lib/python2.7/site-packages/ipykernel_launcher.py:11: RuntimeWarning: overflow encountered in exp\n",
      "  # This is added back by InteractiveShellApp.init_path()\n",
      "/home/prabha/.local/lib/python2.7/site-packages/ipykernel_launcher.py:12: RuntimeWarning: invalid value encountered in divide\n",
      "  if sys.path[0] == '':\n",
      "/home/prabha/.local/lib/python2.7/site-packages/ipykernel_launcher.py:8: RuntimeWarning: invalid value encountered in greater\n",
      "  \n",
      "/home/prabha/.local/lib/python2.7/site-packages/ipykernel_launcher.py:18: RuntimeWarning: invalid value encountered in greater\n",
      "/home/prabha/.local/lib/python2.7/site-packages/ipykernel_launcher.py:93: RuntimeWarning: divide by zero encountered in log\n",
      "/home/prabha/.local/lib/python2.7/site-packages/ipykernel_launcher.py:93: RuntimeWarning: invalid value encountered in multiply\n"
     ]
    },
    {
     "name": "stdout",
     "output_type": "stream",
     "text": [
      "for 3 layer\n",
      "for 4 layer\n",
      "for 5 layer\n"
     ]
    }
   ],
   "source": [
    "layers_relu,errors_relu=layers_vs_error(Relu,Relu_der,train_chunks,ohl_chunks,0.001,validate,actual)\n",
    "# print \"0.001\"\n",
    "# create_graph(layers_relu,errors_relu,\"layers v/s error for Relu\")"
   ]
  },
  {
   "cell_type": "code",
   "execution_count": 300,
   "metadata": {},
   "outputs": [
    {
     "data": {
      "text/plain": [
       "Text(0.5,1,'loss vs layer')"
      ]
     },
     "execution_count": 300,
     "metadata": {},
     "output_type": "execute_result"
    },
    {
     "data": {
      "text/plain": [
       "<Figure size 360x360 with 0 Axes>"
      ]
     },
     "metadata": {},
     "output_type": "display_data"
    },
    {
     "data": {
      "image/png": "[encoded data removed]",
      "text/plain": [
       "<Figure size 432x288 with 1 Axes>"
      ]
     },
     "metadata": {
      "needs_background": "light"
     },
     "output_type": "display_data"
    }
   ],
   "source": [
    "plt.figure(figsize=(5,5))\n",
    "fig, ax = plt.subplots()\n",
    "plt.title(\"Layers v/s prediction loss\")\n",
    "ax.plot(layers_tanh,errors_tanh,label=\"tanh\")\n",
    "ax.plot(layers_sig,errors_sig,label=\"sigmoid\")\n",
    "ax.plot(layers_relu,errors_relu,label=\"relu\")\n",
    "ax.legend(loc=2)\n",
    "ax.set_xlabel('layer')\n",
    "ax.set_ylabel('loss')\n",
    "ax.set_title('loss vs layer')"
   ]
  },
  {
   "cell_type": "code",
   "execution_count": 301,
   "metadata": {},
   "outputs": [],
   "source": [
    "def pred(multiNN,validate,function):\n",
    "#     print 'shape',np.shape(validate)\n",
    "    yHat_validate_multi = multiNN.forwardPropagation(validate,function)\n",
    "    validate_pred=[]\n",
    "#     print 'yhat',np.shape(yHat_validate_multi)\n",
    "    for i in yHat_validate_multi:\n",
    "        validate_pred.append(i.argmax()) \n",
    "    return validate_pred\n",
    "    "
   ]
  },
  {
   "cell_type": "code",
   "execution_count": 302,
   "metadata": {},
   "outputs": [
    {
     "name": "stdout",
     "output_type": "stream",
     "text": [
      "9674\n",
      "[6, 3, 2, 0, 3, 6, 8, 6, 9, 0, 3, 2, 6, 6, 9, 0, 6, 3, 6, 6, 4, 4, 2, 3, 4, 9, 4, 4, 4, 3, 9, 9, 9, 8, 6, 0, 9, 4, 4, 9, 2, 0, 4, 4, 0, 4, 3, 4, 2, 3, 4, 6, 9, 3, 4, 9, 9, 4, 0, 3, 4, 9, 2, 6, 3, 1, 0, 9, 8, 2, 7, 1, 4, 6, 9, 7, 3, 4, 4, 3, 9, 0, 3, 2, 4, 8, 9, 2, 3, 2, 3, 6, 6, 2, 2, 3, 4, 8, 9, 3, 9, 3, 9, 4, 0, 2, 3, 0, 6, 7, 8, 7, 3, 4, 7, 8, 4, 0, 7, 4, 4, 9, 4, 6, 7, 0, 9, 9, 6, 3, 4, 7, 9, 3, 9, 6, 2, 2, 4, 4, 3, 3, 0, 4, 2, 2, 3, 4, 3, 3, 4, 3, 3, 3, 9, 6, 6, 3, 9, 9, 4, 7, 8, 1, 6, 4, 6, 6, 7, 2, 6, 6, 9, 4, 6, 4, 6, 9, 9, 9, 9, 3, 3, 9, 4, 8, 9, 6, 4, 7, 3, 9, 3, 6, 2, 2, 2, 4, 6, 9, 6, 6, 2, 4, 9, 4, 6, 4, 4, 9, 6, 4, 7, 1, 8, 9, 9, 2, 2, 8, 7, 9, 9, 4, 2, 4, 8, 9, 9, 3, 9, 2, 8, 0, 9, 7, 4, 0, 9, 2, 3, 7, 9, 7, 0, 6, 4, 2, 3, 3, 8, 3, 4, 2, 6, 2, 3, 9, 0, 3, 3, 6, 2, 6, 4, 9, 3, 9, 4, 9, 6, 6, 4, 6, 8, 4, 7, 7, 9, 7, 9, 0, 2, 8, 3, 8, 3, 3, 2, 2, 2, 1, 8, 3, 3, 3, 3, 4, 9, 2, 4, 4, 4, 9, 0, 4, 7, 4, 7, 9, 1, 4, 6, 4, 7, 9, 8, 0, 9, 2, 4, 2, 8, 3, 9, 2, 4, 7, 7, 2, 4, 2, 9, 7, 0, 4, 3, 2, 3, 4, 4, 8, 9, 0, 9, 4, 9, 8, 6, 6, 9, 6, 6, 3, 4, 6, 6, 9, 4, 9, 8, 2, 6, 4, 7, 3, 4, 7, 8, 9, 4, 4, 4, 6, 2, 6, 6, 9, 2, 9, 6, 3, 9, 9, 9, 3, 4, 4, 9, 9, 2, 3, 0, 6, 9, 3, 4, 6, 4, 7, 0, 6, 0, 2, 4, 8, 7, 3, 9, 0, 7, 6, 9, 6, 9, 7, 9, 8, 4, 4, 0, 4, 0, 9, 4, 2, 3, 0, 4, 4, 6, 9, 4, 0, 3, 2, 2, 8, 1, 8, 4, 7, 4, 0, 0, 7, 4, 9, 6, 9, 6, 0, 3, 4, 9, 8, 4, 9, 9, 7, 4, 9, 3, 6, 4, 4, 9, 1, 7, 2, 7, 8, 9, 6, 3, 9, 4, 6, 7, 6, 4, 4, 3, 7, 3, 3, 6, 9, 7, 4, 2, 6, 4, 8, 8, 3, 7, 3, 9, 3, 6, 3, 2, 2, 9, 3, 6, 6, 6, 4, 2, 9, 7, 3, 2, 2, 6, 2, 9, 2, 7, 4, 4, 6, 4, 4, 9, 9, 6, 7, 4, 9, 9, 9, 9, 2, 6, 4, 2, 3, 0, 4, 3, 3, 2, 2, 4, 3, 9, 7, 7, 3, 7, 8, 2, 0, 2, 6, 6, 4, 6, 3, 7, 3, 2, 8, 4, 4, 6, 0, 2, 8, 9, 4, 7, 9, 0, 4, 3, 4, 6, 8, 4, 2, 8, 4, 2, 2, 3, 2, 3, 6, 0, 6, 9, 2, 9, 8, 3, 3, 3, 4, 8, 9, 9, 4, 7, 3, 6, 4, 7, 9, 2, 2, 4, 8, 0, 3, 2, 9, 3, 7, 0, 9, 9, 3, 3, 6, 4, 9, 2, 9, 9, 3, 7, 9, 8, 4, 3, 8, 0, 9, 2, 4, 9, 7, 2, 4, 9, 3, 8, 9, 9, 4, 9, 9, 3, 4, 4, 3, 7, 6, 3, 1, 2, 7, 8, 4, 8, 8, 6, 9, 0, 3, 4, 4, 4, 7, 3, 9, 6, 8, 7, 0, 4, 8, 3, 0, 3, 6, 2, 0, 3, 6, 0, 7, 2, 7, 3, 9, 3, 3, 4, 4, 7, 4, 4, 7, 4, 9, 0, 3, 3, 9, 9, 6, 3, 9, 9, 3, 2, 9, 4, 1, 7, 4, 0, 9, 3, 9, 8, 7, 3, 9, 3, 0, 3, 9, 9, 4, 9, 3, 9, 3, 2, 9, 0, 0, 4, 9, 9, 9, 0, 9, 9, 4, 4, 7, 7, 4, 3, 9, 8, 3, 2, 9, 7, 3, 8, 8, 0, 9, 9, 3, 4, 4, 3, 0, 3, 4, 7, 4, 7, 8, 8, 8, 6, 4, 4, 7, 9, 3, 9, 3, 9, 4, 4, 8, 3, 3, 3, 6, 3, 4, 4, 9, 4, 6, 4, 9, 9, 2, 7, 9, 8, 3, 9, 4, 3, 3, 0, 9, 9, 3, 9, 4, 6, 9, 2, 9, 8, 2, 9, 2, 9, 4, 9, 7, 6, 7, 3, 7, 6, 8, 6, 9, 8, 4, 4, 8, 9, 8, 0, 0, 2, 8, 4, 0, 0, 6, 9, 2, 2, 9, 0, 6, 4, 9, 6, 9, 9, 9, 9, 9, 2, 9, 4, 8, 9, 4, 4, 3, 9, 3, 2, 0, 6, 2, 9, 7, 3, 6, 3, 7, 3, 9, 8, 9, 4, 4, 3, 3, 3, 4, 9, 6, 6, 6, 4, 4, 9, 3, 0, 4, 3, 4, 0, 7, 3, 9, 0, 0, 2, 4, 0, 3, 2, 7, 4, 8, 8, 4, 4, 6, 8, 4, 3, 4, 6, 4, 3, 3, 4, 9, 6, 0, 0, 4, 0, 2, 9, 4, 9, 0, 0, 4, 3, 9, 8, 4, 2, 4, 3, 4, 6, 3, 3, 2, 4, 9, 6, 0, 4, 8, 2, 8, 4, 4, 7, 4, 3, 9, 0, 3, 8, 2, 2, 4, 2, 9, 0, 9, 6, 4, 6, 9, 6, 9, 2, 2, 6, 2, 4, 9, 2, 2, 3, 7, 1, 3, 8, 2, 3, 4, 4, 4, 8, 7, 9, 0, 0, 4, 9, 4, 3, 0, 6, 7, 6, 7, 2, 1, 8, 3, 7, 4, 2, 7, 4, 9, 0, 2, 2, 7, 8, 9, 4, 0, 2, 6, 3, 6, 9, 4, 3, 4, 6, 6, 6, 8, 9, 7, 0, 6, 7, 6, 8, 3, 3, 0, 8, 4, 3, 3, 9, 4, 3, 6, 4, 7, 9, 9, 4, 3, 3, 8, 8, 8, 7, 9, 9, 6, 1, 7, 3, 9, 9, 4, 3, 6, 4, 0, 8, 9, 3, 8, 3, 2, 3, 6, 9, 4, 9, 8, 2, 1, 8, 1, 6, 7, 4, 0, 8, 3, 7, 9, 4, 3, 4, 4, 4, 4, 0, 9, 3, 7, 3, 3, 6, 9, 4, 9, 9, 1, 7, 9, 6, 8, 4, 6, 6, 9, 6, 3, 9, 3, 6, 6, 6, 4, 0, 0, 9, 2, 7, 1, 7, 7, 0, 2, 4, 4, 9, 8, 9, 2, 4, 4, 2, 7, 3, 4, 6, 2, 2, 8, 9, 7, 2, 3, 4, 3, 4, 9, 0, 7, 8, 1, 4, 9, 9, 9, 7, 3, 4, 9, 0, 8, 3, 3, 2, 9, 0, 2, 1, 8, 3, 7, 2, 4, 4, 8, 4, 4, 9, 9, 7, 8, 4, 9, 4, 4, 4, 7, 4, 9, 1, 3, 4, 4, 3, 9, 7, 5, 7, 4, 8, 9, 4, 9, 4, 6, 4, 4, 8, 6, 4, 9, 3, 9, 4, 8, 4, 9, 2, 4, 7, 0, 7, 7, 4, 9, 0, 9, 3, 7, 9, 4, 3, 9, 4, 0, 8, 4, 3, 9, 3, 2, 3, 9, 7, 7, 2, 9, 0, 3, 3, 7, 8, 4, 0, 2, 6, 4, 9, 9, 6, 2, 9, 2, 3, 2, 4, 2, 3, 4, 4, 2, 9, 9, 7, 2, 9, 2, 4, 4, 4, 9, 8, 2, 3, 4, 8, 4, 2, 9, 2, 8, 8, 0, 6, 4, 4, 8, 4, 6, 4, 9, 9, 9, 9, 4, 4, 0, 9, 3, 4, 8, 8, 7, 3, 0, 3, 3, 4, 4, 4, 3, 7, 9, 1, 0, 8, 9, 9, 0, 3, 2, 4, 4, 4, 3, 6, 4, 9, 6, 4, 4, 9, 7, 4, 8, 4, 2, 0, 7, 4, 2, 3, 9, 2, 6, 7, 0, 4, 6, 8, 4, 0, 4, 7, 1, 2, 4, 7, 4, 3, 4, 0, 9, 9, 6, 2, 9, 7, 4, 2, 2, 4, 2, 0, 3, 8, 3, 4, 0, 6, 7, 2, 9, 4, 4, 7, 4, 3, 6, 6, 9, 2, 3, 3, 1, 2, 3, 4, 4, 8, 2, 0, 6, 3, 9, 8, 9, 4, 3, 9, 4, 4, 4, 4, 3, 4, 9, 4, 2, 7, 6, 9, 7, 4, 0, 4, 2, 9, 0, 3, 4, 2, 0, 6, 0, 4, 3, 3, 2, 4, 6, 8, 3, 0, 9, 4, 9, 4, 3, 3, 7, 7, 2, 7, 4, 8, 1, 3, 6, 3, 3, 8, 7, 4, 1, 1, 4, 8, 0, 9, 4, 4, 6, 2, 7, 7, 4, 0, 8, 2, 4, 9, 9, 8, 9, 6, 3, 3, 3, 3, 0, 7, 7, 3, 4, 1, 9, 2, 4, 2, 7, 4, 9, 3, 9, 2, 6, 9, 4, 9, 9, 6, 7, 9, 4, 2, 3, 9, 4, 9, 2, 2, 3, 9, 3, 4, 2, 3, 9, 7, 8, 4, 7, 4, 6, 6, 8, 6, 8, 9, 4, 9, 4, 4, 2, 9, 4, 3, 2, 9, 3, 3, 0, 4, 8, 8, 9, 8, 9, 4, 7, 9, 7, 4, 4, 9, 4, 6, 6, 6, 4, 4, 8, 8, 3, 9, 3, 1, 6, 6, 2, 3, 7, 6, 8, 4, 4, 7, 4, 3, 4, 2, 2, 2, 4, 4, 1, 3, 8, 1, 4, 3, 4, 3, 3, 6, 4, 3, 7, 6, 4, 4, 4, 4, 3, 3, 4, 7, 8, 9, 2, 4, 9, 3, 3, 3, 3, 9, 6, 3, 9, 9, 0, 8, 0, 7, 8, 6, 4, 7, 4, 9, 2, 9, 1, 4, 2, 3, 2, 4, 4, 4, 0, 9, 6, 6, 8, 6, 3, 4, 4, 8, 8, 2, 9, 6, 0, 9, 7, 7, 4, 2, 4, 0, 4, 6, 4, 3, 9, 4, 4, 4, 4, 7, 9, 7, 9, 2, 7, 3, 3, 9, 6, 4, 2, 1, 2, 7, 7, 4, 9, 9, 8, 3, 9, 0, 6, 3, 9, 4, 0, 2, 3, 9, 3, 0, 3, 4, 1, 1, 9, 9, 6, 3, 9, 4, 3, 2, 4, 2, 2, 6, 3, 4, 4, 0, 9, 4, 0, 9, 6, 3, 4, 3, 2, 1, 8, 0, 4, 4, 9, 7, 3, 0, 4, 9, 7, 0, 3, 9, 6, 3, 6, 7, 6, 4, 4, 8, 7, 4, 6, 9, 4, 9, 0, 4, 0, 1, 2, 4, 7, 4, 9, 3, 3, 0, 9, 3, 1, 6, 3, 8, 6, 4, 9, 9, 3, 3, 6, 3, 0, 7, 8, 9, 9, 0, 9, 4, 6, 3, 9, 9, 2, 8, 4, 3, 0, 0, 9, 3, 6, 3, 4, 8, 8, 2, 9, 9, 4, 4, 2, 4, 3, 3, 4, 4, 9, 4, 4, 0, 4, 4, 9, 9, 0, 9, 7, 4, 7, 1, 3, 9, 6, 4, 2, 3, 9, 6, 7, 3, 9, 6, 2, 4, 7, 4, 6, 8, 4, 9, 3, 9, 3, 8, 9, 6, 0, 9, 9, 3, 2, 4, 2, 2, 8, 9, 9, 6, 0, 3, 1, 4, 3, 8, 8, 2, 7, 7, 6, 7, 3, 3, 8, 9, 6, 9, 2, 4, 3, 6, 2, 0, 9, 4, 0, 3, 4, 4, 3, 9, 8, 2, 0, 0, 0, 4, 7, 7, 9, 7, 3, 3, 3, 4, 3, 0, 0, 9, 2, 9, 4, 7, 8, 6, 7, 3, 4, 8, 8, 9, 7, 4, 2, 4, 8, 9, 0, 4, 6, 6, 7, 3, 7, 4, 6, 0, 7, 9, 3, 6, 6, 9, 2, 6, 9, 6, 2, 0, 4, 3, 3, 0, 4, 9, 4, 3, 6, 0, 4, 4, 3, 8, 0, 8, 2, 8, 7, 3, 9, 9, 6, 7, 2, 8, 4, 4, 3, 8, 9, 0, 3, 8, 0, 3, 2, 3, 2, 0, 4, 4, 4, 2, 9, 4, 3, 3, 3, 9, 2, 0, 4, 0, 3, 0, 4, 4, 4, 2, 3, 9, 9, 4, 9, 3, 8, 3, 3, 4, 9, 3, 0, 6, 7, 4, 3, 9, 9, 6, 2, 2, 9, 0, 4, 9, 6, 1, 9, 2, 4, 6, 1, 3, 2, 0, 8, 7, 3, 0, 4, 2, 0, 0, 3, 9, 9, 2, 6, 0, 4, 3, 3, 6, 3, 3, 9, 7, 3, 9, 7, 2, 6, 8, 7, 8, 7, 9, 2, 9, 9, 8, 4, 2, 4, 8, 0, 4, 6, 6, 9, 6, 2, 7, 6, 7, 2, 9, 3, 6, 0, 2, 7, 9, 6, 9, 4, 3, 8, 2, 3, 0, 3, 4, 3, 0, 8, 9, 9, 9, 0, 4, 4, 0, 4, 9, 6, 3, 4, 6, 3, 0, 4, 9, 3, 2, 3, 9, 6, 4, 3, 4, 2, 9, 9, 7, 6, 2, 4, 9, 0, 9, 3, 9, 4, 9, 1, 4, 4, 7, 4, 4, 9, 6, 2, 8, 2, 3, 0, 0, 3, 6, 6, 9, 0, 4, 3, 4, 2, 9, 9, 4, 3, 3, 3, 6, 4, 4, 4, 9, 9, 2, 9, 8, 4, 4, 2, 6, 6, 9, 7, 8, 3, 6, 3, 0, 4, 4, 8, 4, 3, 0, 9, 6, 8, 7, 4, 8, 8, 9, 9, 2, 4, 3, 4, 4, 8, 3, 0, 9, 4, 9, 3, 8, 1, 9, 4, 9, 4, 6, 2, 9, 6, 6, 0, 3, 3, 9, 7, 2, 2, 6, 2, 3, 0, 3, 3, 2, 4, 8, 6, 9, 8, 4, 8, 6, 4, 9, 0, 3, 4, 9, 1, 8, 4, 7, 3, 3, 4, 4, 4, 4, 6, 7, 4, 3, 9, 2, 4, 9, 6, 0, 4, 2, 0, 4, 0, 3, 3, 2, 3, 2, 4, 3, 9, 7, 3, 9, 6, 4, 0, 4, 2, 4, 9, 2, 4, 9, 6, 9, 9, 3, 9, 9, 4, 8, 9, 2, 2, 3, 2, 3, 6, 9, 6, 6, 2, 3, 9, 3, 4, 8, 7, 9, 6, 9, 7, 2, 0, 4, 3, 3, 4, 4, 6, 3, 1, 0, 8, 4, 3, 9, 9, 3, 0, 1, 2, 6, 3, 7, 7, 9, 4, 2, 3, 0, 4, 2, 8, 9, 6, 9, 4, 9, 3, 7, 3, 4, 4, 4, 9, 4, 3, 8, 3, 1, 6, 7, 3, 6, 5, 6, 4, 3, 3, 4, 9, 3, 8, 6, 7, 6, 9, 0, 8, 4, 3, 9, 8, 0, 6, 8, 9, 3, 4, 9, 3, 6, 6, 7, 3, 4, 4, 4, 9, 3, 0, 2, 0, 2, 3, 8, 9, 9, 4, 9, 8, 4, 3, 9, 2, 6, 7, 4, 3, 9, 6, 2, 8, 8, 4, 3, 2, 3, 2, 2, 3, 4, 4, 4, 6, 9, 6, 9, 9, 4, 4, 3, 8, 4, 4, 6, 9, 3, 6, 2, 6, 9, 8, 3, 4, 2, 8, 3, 9, 3, 2, 9, 3, 3, 4, 9, 9, 3, 4, 8, 2, 6, 3, 6, 7, 6, 6, 7, 9, 9, 3, 8, 6, 6, 9, 6, 9, 9, 9, 2, 0, 2, 3, 6, 4, 9, 0, 3, 3, 9, 9, 9, 4, 0, 4, 7, 4, 6, 4, 4, 4, 4, 6, 2, 4, 9, 9, 9, 2, 2, 0, 6, 9, 7, 7, 6, 4, 6, 7, 4, 8, 9, 8, 2, 9, 8, 8, 9, 0, 4, 4, 4, 6, 3, 2, 9, 4, 8, 7, 4, 4, 2, 2, 4, 9, 3, 2, 2, 8, 6, 2, 8, 3, 4, 4, 3, 4, 3, 2, 6, 4, 6, 8, 3, 9, 4, 4, 4, 3, 9, 2, 7, 4, 2, 3, 9, 3, 9, 3, 2, 7, 1, 9, 7, 4, 9, 2, 3, 3, 3, 4, 2, 6, 8, 9, 9, 2, 3, 4, 3, 7, 2, 0, 6, 3, 9, 8, 9, 9, 2, 2, 9, 2, 8, 7, 9, 4, 3, 4, 7, 7, 3, 0, 8, 9, 4, 2, 8, 9, 9, 0, 9, 0, 3, 6, 6, 9, 2, 3, 6, 9, 3, 4, 8, 7, 3, 6, 3, 6, 2, 2, 8, 9, 3, 3, 8, 6, 4, 2, 9, 3, 9, 3, 8, 3, 9, 9, 9, 4, 2, 0, 7, 7, 4, 3, 4, 6, 4, 9, 9, 4, 3, 0, 7, 0, 9, 8, 2, 2, 0, 9, 7, 9, 3, 3, 2, 6, 4, 2, 9, 3, 4, 8, 9, 3, 2, 6, 7, 1, 4, 6, 8, 4, 9, 4, 2, 7, 7, 4, 4, 4, 9, 4, 2, 8, 1, 3, 0, 4, 9, 6, 9, 9, 3, 8, 4, 2, 6, 1, 0, 8, 4, 6, 3, 6, 0, 0, 3, 4, 4, 0, 8, 3, 2, 0, 8, 2, 4, 4, 7, 3, 8, 8, 8, 0, 9, 3, 4, 4, 3, 4, 3, 4, 4, 4, 3, 9, 2, 4, 4, 2, 4, 4, 2, 3, 4, 4, 2, 0, 7, 3, 4, 4, 8, 8, 9, 7, 4, 9, 4, 4, 7, 7, 0, 6, 2, 4, 9, 3, 2, 9, 6, 6, 6, 9, 3, 4, 2, 9, 0, 8, 9, 4, 9, 2, 3, 6, 6, 0, 2, 4, 3, 9, 6, 0, 8, 8, 7, 7, 4, 4, 7, 6, 0, 8, 3, 8, 0, 3, 8, 9, 4, 9, 4, 4, 9, 3, 9, 2, 8, 4, 4, 4, 2, 4, 9, 0, 2, 3, 4, 4, 3, 4, 2, 8, 8, 9, 3, 0, 8, 0, 3, 7, 6, 4, 8, 4, 9, 0, 3, 6, 9, 0, 9, 8, 9, 6, 9, 7, 1, 9, 9, 7, 9, 6, 4, 7, 0, 6, 4, 4, 7, 0, 3, 0, 7, 8, 9, 6, 6, 4, 2, 8, 3, 9, 2, 3, 9, 2, 9, 3, 3, 7, 9, 2, 8, 3, 2, 6, 4, 7, 4, 7, 3, 6, 8, 9, 9, 1, 2, 6, 7, 0, 0, 9, 2, 1, 1, 9, 4, 4, 8, 6, 3, 4, 0, 3, 4, 8, 3, 3, 3, 4, 6, 9, 6, 4, 4, 2, 6, 2, 3, 3, 8, 2, 4, 2, 4, 0, 2, 9, 3, 3, 8, 6, 6, 7, 9, 4, 6, 3, 4, 6, 7, 4, 1, 2, 3, 4, 8, 2, 1, 9, 3, 3, 2, 2, 2, 3, 4, 9, 6, 3, 4, 3, 0, 8, 6, 3, 9, 4, 4, 3, 4, 3, 0, 2, 4, 9, 4, 4, 9, 3, 7, 6, 2, 3, 9, 4, 9, 0, 3, 4, 4, 2, 9, 3, 4, 6, 7, 4, 8, 4, 3, 9, 7, 4, 6, 2, 2, 3, 9, 7, 7, 7, 0, 3, 3, 2, 3, 3, 0, 9, 9, 2, 2, 9, 4, 8, 6, 9, 9, 9, 9, 2, 6, 8, 3, 4, 9, 4, 3, 9, 2, 9, 3, 9, 8, 4, 2, 9, 8, 4, 4, 0, 3, 9, 3, 2, 9, 7, 4, 2, 3, 4, 4, 4, 8, 2, 7, 9, 0, 2, 9, 9, 3, 1, 4, 3, 4, 4, 4, 4, 0, 9, 9, 3, 3, 4, 7, 3, 9, 8, 4, 3, 7, 3, 9, 7, 7, 0, 9, 9, 9, 4, 2, 4, 4, 2, 7, 3, 8, 2, 3, 4, 3, 9, 0, 4, 9, 3, 4, 3, 7, 6, 3, 7, 0, 4, 0, 8, 3, 9, 4, 2, 3, 6, 0, 4, 3, 7, 9, 4, 3, 8, 4, 8, 3, 4, 9, 4, 3, 8, 9, 3, 8, 4, 2, 3, 4, 3, 7, 3, 9, 4, 0, 9, 4, 6, 8, 9, 3, 4, 6, 8, 4, 2, 4, 4, 4, 9, 2, 7, 9, 6, 4, 8, 4, 8, 8, 4, 9, 6, 4, 9, 0, 8, 4, 7, 4, 3, 3, 9, 2, 0, 3, 0, 7, 9, 9, 3, 2, 3, 9, 3, 9, 3, 4, 3, 4, 6, 7, 9, 7, 0, 4, 9, 4, 8, 0, 6, 8, 4, 7, 2, 6, 0, 7, 6, 4, 4, 7, 2, 8, 7, 9, 9, 9, 9, 7, 3, 2, 9, 0, 6, 6, 0, 9, 0, 8, 3, 9, 0, 9, 3, 2, 3, 9, 8, 4, 3, 6, 3, 4, 3, 4, 3, 9, 6, 4, 3, 3, 6, 4, 4, 3, 7, 3, 7, 6, 9, 8, 6, 0, 4, 0, 7, 4, 3, 6, 9, 6, 3, 7, 8, 4, 2, 9, 9, 6, 9, 7, 4, 2, 4, 7, 2, 9, 6, 9, 0, 6, 9, 3, 0, 4, 3, 3, 8, 4, 7, 8, 4, 2, 3, 2, 0, 0, 3, 0, 7, 0, 4, 4, 4, 8, 4, 4, 9, 4, 2, 7, 3, 3, 4, 9, 9, 8, 8, 0, 3, 8, 3, 6, 9, 6, 9, 4, 4, 3, 9, 2, 8, 3, 8, 9, 4, 4, 6, 9, 8, 9, 9, 3, 4, 0, 7, 8, 7, 4, 4, 0, 3, 3, 4, 8, 4, 8, 4, 2, 2, 6, 4, 4, 4, 4, 7, 9, 9, 3, 7, 2, 3, 7, 8, 4, 0, 4, 4, 9, 2, 3, 2, 8, 0, 3, 8, 3, 8, 7, 2, 3, 4, 3, 9, 6, 7, 9, 2, 6, 2, 4, 3, 2, 4, 0, 3, 9, 9, 6, 4, 9, 7, 1, 2, 4, 7, 9, 4, 9, 6, 4, 6, 9, 0, 4, 2, 9, 9, 0, 6, 4, 8, 3, 3, 4, 9, 9, 9, 0, 0, 0, 9, 9, 8, 7, 8, 0, 8, 7, 4, 4, 2, 0, 3, 3, 2, 8, 0, 7, 0, 6, 4, 9, 8, 4, 4, 8, 7, 6, 4, 0, 4, 6, 6, 7, 6, 7, 3, 8, 6, 8, 3, 9, 2, 4, 9, 2, 4, 3, 8, 3, 9, 8, 4, 3, 3, 7, 9, 2, 3, 3, 3, 2, 8, 3, 9, 7, 0, 3, 3, 4, 3, 9, 4, 4, 9, 4, 7, 6, 3, 6, 2, 3, 3, 9, 3, 2, 4, 3, 4, 2, 6, 9, 9, 0, 8, 4, 2, 3, 0, 8, 6, 1, 6, 7, 0, 9, 9, 8, 3, 8, 9, 3, 7, 8, 3, 8, 9, 4, 9, 4, 6, 1, 4, 8, 7, 0, 4, 6, 4, 2, 4, 2, 0, 6, 2, 3, 9, 4, 2, 7, 8, 9, 4, 9, 3, 9, 4, 6, 9, 4, 0, 4, 7, 3, 3, 4, 3, 9, 4, 3, 4, 7, 6, 0, 2, 4, 8, 9, 4, 9, 4, 9, 2, 6, 6, 9, 8, 4, 3, 4, 8, 3, 7, 9, 9, 4, 9, 0, 0, 4, 2, 2, 0, 3, 2, 0, 8, 3, 4, 4, 9, 9, 4, 4, 8, 9, 0, 7, 4, 8, 0, 3, 4, 7, 1, 2, 2, 0, 8, 3, 6, 3, 8, 6, 4, 4, 4, 2, 6, 6, 0, 6, 3, 8, 0, 6, 3, 8, 2, 4, 9, 0, 9, 6, 7, 4, 0, 0, 9, 4, 2, 3, 3, 7, 6, 3, 1, 6, 2, 4, 2, 0, 2, 3, 9, 1, 3, 6, 6, 9, 4, 4, 4, 9, 4, 3, 2, 4, 9, 0, 4, 9, 9, 9, 6, 3, 1, 6, 3, 4, 4, 2, 2, 8, 0, 9, 4, 6, 3, 4, 2, 9, 4, 8, 8, 4, 0, 2, 4, 0, 3, 4, 3, 4, 0, 3, 9, 4, 6, 4, 3, 4, 2, 7, 9, 4, 6, 0, 7, 6, 0, 7, 3, 0, 8, 9, 2, 8, 3, 9, 3, 0, 2, 3, 4, 7, 9, 2, 1, 2, 4, 4, 3, 2, 4, 1, 2, 7, 9, 4, 8, 0, 6, 4, 6, 6, 2, 4, 4, 4, 8, 7, 3, 9, 7, 7, 7, 3, 7, 4, 9, 4, 7, 7, 9, 3, 9, 8, 6, 4, 7, 4, 4, 4, 6, 9, 3, 8, 4, 4, 6, 3, 9, 4, 2, 9, 9, 2, 3, 1, 4, 7, 3, 9, 4, 9, 4, 0, 9, 8, 9, 3, 6, 3, 4, 8, 6, 6, 4, 7, 4, 3, 6, 4, 7, 0, 9, 6, 4, 8, 3, 9, 2, 3, 9, 0, 7, 9, 3, 9, 7, 9, 9, 8, 4, 3, 8, 9, 4, 9, 9, 7, 2, 7, 9, 9, 4, 6, 4, 6, 0, 3, 7, 7, 9, 4, 9, 0, 4, 3, 9, 9, 7, 8, 4, 9, 7, 9, 4, 9, 7, 4, 4, 3, 6, 4, 6, 9, 8, 7, 9, 6, 3, 7, 9, 4, 9, 6, 3, 2, 7, 8, 9, 9, 9, 3, 3, 1, 6, 0, 9, 4, 4, 9, 3, 3, 7, 1, 4, 2, 6, 6, 8, 4, 2, 6, 4, 8, 4, 4, 7, 4, 4, 2, 0, 9, 9, 6, 2, 0, 3, 4, 9, 6, 9, 6, 3, 3, 4, 8, 4, 3, 7, 4, 3, 2, 0, 3, 7, 9, 3, 6, 9, 2, 0, 3, 9, 4, 0, 6, 8, 2, 3, 7, 3, 2, 3, 2, 3, 3, 3, 3, 4, 3, 4, 2, 6, 3, 9, 9, 3, 8, 9, 4, 9, 7, 7, 9, 6, 4, 9, 7, 3, 6, 9, 4, 4, 2, 4, 3, 9, 9, 7, 3, 2, 7, 9, 3, 0, 8, 6, 4, 1, 6, 6, 2, 1, 1, 3, 8, 2, 7, 3, 2, 2, 7, 9, 0, 9, 9, 6, 3, 4, 2, 3, 4, 7, 9, 4, 7, 2, 2, 0, 3, 6, 3, 4, 6, 4, 9, 8, 9, 4, 8, 9, 6, 3, 4, 6, 4, 3, 3, 4, 6, 4, 4, 4, 3, 7, 9, 0, 0, 3, 3, 3, 9, 3, 9, 9, 4, 9, 3, 2, 3, 9, 2, 7, 4, 6, 0, 4, 2, 6, 8, 9, 4, 9, 9, 4, 2, 6, 0, 2, 2, 7, 2, 2, 3, 3, 6, 4, 4, 3, 4, 3, 3, 3, 9, 3, 8, 6, 4, 6, 3, 6, 8, 2, 2, 3, 8, 0, 3, 8, 9, 2, 7, 2, 1, 3, 8, 7, 4, 4, 6, 2, 8, 9, 7, 0, 6, 0, 4, 2, 8, 2, 1, 2, 9, 8, 3, 2, 3, 0, 9, 0, 6, 1, 7, 4, 7, 9, 4, 4, 0, 0, 9, 8, 8, 3, 3, 8, 0, 9, 3, 8, 3, 9, 9, 9, 0, 0, 4, 4, 9, 7, 9, 3, 6, 3, 8, 6, 9, 0, 4, 9, 6, 0, 6, 4, 0, 6, 8, 3, 9, 9, 9, 2, 6, 9, 7, 0, 2, 4, 3, 4, 0, 4, 4, 9, 0, 4, 7, 4, 8, 7, 6, 9, 2, 4, 6, 0, 4, 8, 3, 6, 8, 9, 8, 0, 4, 3, 4, 0, 3, 9, 2, 9, 6, 9, 6, 1, 7, 4, 2, 4, 0, 4, 9, 3, 7, 4, 8, 3, 3, 9, 7, 4, 9, 4, 6, 3, 9, 2, 4, 8, 4, 3, 9, 0, 3, 4, 4, 0, 4, 3, 9, 7, 9, 1, 9, 2, 2, 8, 3, 8, 4, 1, 9, 9, 3, 9, 9, 9, 4, 4, 0, 4, 7, 4, 0, 4, 3, 9, 2, 4, 3, 7, 4, 3, 7, 2, 7, 6, 9, 9, 4, 6, 3, 3, 6, 4, 2, 9, 0, 4, 4, 7, 0, 4, 3, 0, 4, 0, 9, 6, 7, 0, 8, 1, 3, 9, 2, 3, 3, 9, 2, 8, 3, 9, 9, 9, 2, 3, 2, 4, 8, 4, 6, 8, 4, 2, 9, 6, 9, 9, 6, 2, 3, 6, 9, 4, 9, 3, 4, 0, 9, 0, 3, 3, 4, 2, 7, 9, 3, 3, 1, 7, 3, 2, 2, 8, 4, 0, 7, 9, 4, 0, 8, 6, 4, 4, 0, 9, 7, 6, 2, 8, 4, 4, 7, 1, 3, 3, 3, 3, 0, 3, 9, 6, 4, 3, 9, 1, 4, 8, 4, 3, 8, 8, 4, 3, 3, 8, 3, 9, 4, 9, 3, 7, 6, 6, 3, 0, 4, 0, 0, 3, 0, 1, 9, 8, 4, 4, 4, 4, 7, 0, 9, 2, 7, 6, 4, 7, 3, 9, 9, 6, 7, 9, 9, 0, 2, 0, 9, 6, 3, 2, 2, 0, 4, 2, 2, 4, 0, 9, 4, 4, 9, 3, 4, 4, 2, 7, 9, 9, 4, 0, 3, 6, 8, 4, 8, 4, 4, 8, 4, 3, 9, 3, 7, 3, 6, 1, 3, 6, 4, 2, 6, 9, 3, 4, 4, 3, 8, 2, 0, 9, 2, 3, 7, 6, 4, 0, 6, 0, 4, 2, 3, 9, 4, 3, 9, 8, 7, 4, 4, 0, 1, 6, 4, 9, 4, 3, 3, 3, 4, 3, 4, 9, 9, 3, 2, 6, 2, 9, 0, 4, 9, 2, 8, 9, 6, 6, 9, 2, 9, 3, 9, 4, 4, 0, 4, 4, 9, 4, 7, 2, 6, 2, 4, 7, 2, 9, 7, 4, 8, 6, 0, 4, 4, 7, 4, 8, 3, 9, 0, 4, 7, 3, 3, 9, 4, 9, 4, 4, 7, 7, 1, 0, 6, 4, 4, 4, 4, 7, 2, 2, 6, 0, 0, 9, 4, 0, 3, 3, 2, 2, 9, 2, 6, 9, 7, 4, 9, 4, 2, 4, 4, 0, 4, 2, 2, 8, 6, 2, 2, 4, 3, 4, 4, 8, 3, 2, 4, 0, 2, 4, 0, 9, 6, 6, 4, 9, 8, 2, 6, 3, 6, 6, 9, 7, 3, 4, 9, 2, 4, 9, 3, 2, 4, 3, 9, 4, 7, 0, 9, 3, 0, 8, 3, 6, 6, 9, 6, 9, 9, 9, 8, 9, 2, 7, 6, 4, 6, 2, 0, 6, 3, 9, 4, 9, 4, 6, 9, 9, 2, 6, 7, 8, 4, 9, 0, 0, 4, 4, 6, 2, 2, 4, 9, 8, 7, 4, 7, 9, 6, 6, 3, 9, 7, 4, 7, 4, 4, 6, 4, 9, 0, 4, 6, 9, 7, 9, 8, 4, 8, 0, 4, 8, 4, 4, 0, 0, 4, 2, 3, 7, 4, 4, 9, 0, 2, 3, 4, 2, 7, 3, 4, 9, 9, 2, 3, 6, 2, 6, 9, 2, 3, 3, 7, 4, 8, 4, 0, 9, 0, 2, 2, 8, 3, 4, 9, 7, 4, 2, 4, 0, 3, 1, 3, 3, 9, 4, 9, 2, 9, 2, 3, 7, 2, 0, 9, 4, 1, 4, 3, 0, 6, 9, 6, 9, 1, 6, 4, 4, 3, 2, 6, 2, 4, 9, 9, 8, 9, 3, 2, 4, 6, 0, 4, 9, 4, 0, 3, 3, 7, 0, 2, 1, 4, 4, 3, 4, 3, 4, 9, 3, 9, 2, 8, 4, 8, 9, 9, 0, 6, 3, 8, 6, 4, 0, 8, 4, 9, 1, 4, 4, 4, 3, 4, 4, 8, 7, 9, 4, 2, 8, 2, 6, 4, 9, 8, 6, 2, 9, 9, 3, 8, 4, 4, 3, 4, 3, 2, 3, 8, 3, 3, 8, 7, 9, 8, 3, 0, 4, 0, 9, 0, 9, 8, 0, 6, 6, 8, 4, 6, 8, 4, 0, 4, 4, 8, 2, 2, 8, 6, 3, 9, 9, 8, 4, 6, 9, 9, 4, 0, 9, 9, 3, 3, 3, 4, 3, 6, 1, 3, 9, 8, 3, 9, 9, 9, 9, 3, 9, 4, 9, 9, 3, 0, 8, 7, 8, 4, 9, 8, 6, 9, 4, 6, 8, 2, 4, 4, 8, 4, 3, 9, 9, 2, 9, 4, 3, 2, 9, 3, 4, 8, 1, 3, 4, 8, 1, 8, 4, 4, 3, 6, 6, 4, 7, 4, 4, 4, 6, 2, 0, 3, 6, 3, 3, 8, 2, 1, 3, 4, 3, 7, 7, 3, 7, 1, 6, 2, 8, 8, 4, 9, 7, 0, 9, 3, 2, 9, 0, 0, 0, 2, 7, 7, 4, 0, 2, 4, 0, 4, 4, 2, 2, 7, 2, 3, 9, 4, 6, 9, 8, 7, 3, 7, 7, 9, 2, 3, 9, 7, 3, 3, 8, 9, 4, 0, 9, 4, 3, 6, 6, 9, 6, 4, 8, 3, 8, 0, 4, 4, 6, 8, 8, 9, 7, 3, 9, 8, 9, 6, 3, 7, 8, 6, 3, 7, 9, 4, 7, 8, 4, 8, 3, 4, 9, 9, 9, 4, 3, 8, 6, 7, 9, 9, 9, 7, 9, 3, 3, 3, 4, 7, 9, 9, 9, 2, 4, 9, 9, 3, 9, 4, 4, 7, 9, 2, 9, 3, 4, 2, 8, 2, 0, 9, 7, 3, 7, 7, 3, 2, 4, 4, 3, 2, 3, 3, 1, 4, 8, 6, 1, 9, 3, 4, 6, 1, 2, 4, 8, 8, 3, 9, 3, 9, 8, 3, 9, 9, 4, 4, 9, 9, 9, 0, 3, 2, 4, 4, 4, 2, 4, 9, 2, 7, 2, 3, 8, 9, 9, 2, 4, 3, 6, 2, 6, 4, 9, 9, 0, 4, 2, 0, 2, 9, 3, 9, 6, 8, 9, 3, 4, 9, 4, 2, 4, 7, 0, 9, 6, 7, 7, 7, 0, 4, 4, 3, 9, 6, 2, 9, 9, 9, 6, 2, 9, 2, 9, 4, 3, 9, 4, 4, 3, 9, 4, 2, 0, 8, 3, 3, 0, 4, 7, 6, 3, 7, 3, 9, 7, 3, 0, 3, 6, 9, 6, 3, 4, 4, 9, 6, 0, 3, 2, 4, 8, 9, 2, 3, 2, 4, 8, 4, 3, 0, 2, 6, 9, 9, 4, 3, 9, 9, 9, 7, 4, 8, 1, 4, 8, 9, 9, 3, 3, 3, 0, 2, 9, 6, 7, 4, 6, 3, 3, 4, 4, 6, 6, 4, 3, 9, 4, 4, 2, 9, 3, 3, 4, 4, 9, 4, 4, 4, 8, 0, 4, 3, 7, 3, 4, 2, 3, 2, 4, 4, 4, 9, 0, 9, 6, 4, 7, 7, 9, 0, 9, 3, 4, 9, 6, 3, 4, 3, 7, 7, 9, 9, 4, 2, 9, 9, 9, 0, 8, 4, 2, 2, 4, 2, 7, 4, 2, 3, 4, 9, 8, 4, 3, 0, 9, 2, 4, 0, 6, 6, 6, 8, 9, 9, 7, 9, 9, 9, 9, 4, 3, 2, 8, 0, 2, 8, 4, 3, 6, 9, 4, 0, 9, 6, 9, 4, 7, 9, 9, 9, 7, 2, 2, 9, 3, 6, 2, 0, 3, 4, 9, 6, 4, 7, 3, 1, 6, 4, 7, 9, 4, 3, 4, 9, 4, 8, 9, 9, 6, 2, 8, 2, 8, 6, 3, 9, 7, 4, 9, 4, 4, 0, 2, 2, 9, 9, 9, 6, 8, 3, 8, 3, 4, 4, 9, 3, 3, 0, 4, 2, 4, 9, 9, 6, 3, 7, 2, 0, 4, 6, 3, 8, 2, 7, 6, 8, 4, 4, 4, 4, 4, 2, 4, 1, 3, 3, 6, 9, 3, 8, 7, 4, 4, 2, 3, 6, 8, 4, 3, 0, 3, 1, 3, 2, 2, 9, 0, 6, 9, 9, 4, 9, 4, 3, 9, 3, 4, 3, 3, 4, 9, 9, 8, 9, 3, 6, 3, 4, 3, 6, 6, 7, 3, 9, 4, 7, 9, 4, 0, 7, 7, 3, 2, 4, 3, 4, 0, 4, 4, 3, 9, 3, 4, 8, 8, 3, 7, 9, 8, 6, 4, 4, 2, 2, 4, 3, 4, 0, 4, 8, 3, 3, 4, 9, 6, 4, 4, 6, 4, 3, 3, 4, 6, 9, 3, 8, 0, 3, 7, 1, 2, 7, 2, 4, 0, 9, 8, 0, 9, 9, 3, 6, 7, 3, 9, 7, 6, 2, 7, 2, 0, 9, 8, 4, 3, 7, 3, 9, 8, 2, 8, 3, 9, 3, 3, 2, 2, 4, 3, 4, 7, 2, 3, 4, 8, 7, 0, 3, 9, 8, 9, 4, 9, 1, 4, 4, 3, 2, 7, 2, 4, 4, 9, 2, 0, 2, 7, 9, 4, 1, 6, 4, 3, 4, 8, 9, 9, 0, 6, 8, 6, 4, 9, 9, 9, 6, 3, 2, 3, 4, 3, 8, 3, 8, 3, 8, 4, 4, 4, 7, 8, 6, 4, 4, 8, 0, 3, 7, 9, 4, 9, 9, 3, 6, 3, 3, 3, 7, 9, 3, 0, 4, 6, 7, 2, 3, 3, 4, 4, 9, 2, 0, 6, 0, 4, 9, 6, 0, 6, 9, 7, 2, 3, 3, 6, 9, 7, 4, 4, 3, 7, 7, 6, 8, 4, 4, 4, 4, 3, 0, 4, 6, 4, 7, 1, 8, 2, 3, 3, 0, 9, 4, 9, 7, 0, 9, 0, 8, 0, 7, 4, 1, 1, 7, 9, 4, 0, 6, 4, 9, 6, 9, 6, 0, 4, 7, 2, 3, 9, 6, 9, 6, 6, 4, 4, 9, 2, 4, 9, 2, 6, 7, 2, 9, 4, 3, 4, 4, 7, 0, 4, 2, 3, 8, 2, 7, 7, 9, 9, 4, 0, 0, 9, 4, 3, 0, 3, 3, 4, 6, 7, 0, 3, 9, 9, 7, 3, 9, 2, 4, 3, 9, 4, 3, 9, 9, 2, 2, 8, 4, 3, 9, 9, 4, 8, 4, 8, 3, 8, 6, 6, 9, 3, 3, 7, 4, 3, 4, 8, 4, 8, 7, 4, 3, 8, 6, 0, 6, 8, 4, 9, 3, 0, 4, 7, 2, 9, 8, 1, 6, 9, 4, 3, 7, 0, 5, 4, 9, 3, 4, 4, 9, 9, 3, 6, 4, 9, 3, 4, 7, 4, 4, 6, 4, 3, 9, 4, 6, 9, 4, 3, 9, 9, 4, 9, 8, 7, 9, 1, 3, 9, 9, 4, 3, 2, 9, 3, 6, 3, 6, 0, 6, 2, 7, 2, 4, 7, 9, 0, 6, 3, 0, 4, 9, 9, 9, 3, 3, 6, 4, 2, 9, 0, 7, 3, 8, 2, 3, 4, 2, 6, 9, 1, 3, 0, 6, 8, 9, 3, 4, 6, 9, 8, 8, 6, 4, 7, 0, 7, 3, 0, 2, 4, 2, 9, 8, 3, 9, 4, 7, 7, 6, 8, 4, 4, 6, 6, 6, 7, 0, 3, 3, 6, 3, 3, 6, 8, 4, 3, 7, 6, 2, 8, 8, 9, 9, 3, 3, 9, 9, 8, 4, 9, 9, 9, 4, 4, 4, 4, 8, 2, 8, 4, 0, 9, 6, 4, 4, 3, 9, 8, 2, 3, 3, 0, 7, 0, 3, 4, 4, 3, 3, 8, 4, 8, 3, 6, 6, 3, 2, 6, 4, 4, 9, 3, 7, 9, 1, 4, 9, 6, 9, 4, 9, 2, 3, 9, 3, 4, 3, 6, 4, 9, 4, 2, 0, 3, 2, 4, 1, 3, 9, 2, 9, 4, 3, 4, 3, 4, 4, 6, 9, 4, 3, 0, 4, 3, 2, 3, 3, 4, 0, 4, 7, 2, 4, 3, 9, 3, 4, 9, 4, 2, 9, 6, 9, 2, 8, 4, 9, 3, 6, 3, 0, 8, 7, 2, 8, 2, 6, 4, 8, 8, 4, 4, 7, 4, 9, 8, 9, 6, 4, 9, 9, 6, 3, 1, 7, 4, 9, 7, 6, 2, 8, 6, 3, 2, 4, 4, 9, 3, 3, 9, 3, 4, 3, 3, 4, 6, 0, 4, 3, 4, 2, 4, 6, 2, 9, 8, 9, 4, 7, 2, 3, 9, 9, 0, 9, 4, 9, 2, 7, 0, 3, 6, 0, 7, 0, 6, 8, 3, 0, 8, 3, 4, 3, 0, 2, 8, 6, 0, 4, 2, 6, 4, 2, 9, 4, 4, 3, 4, 8, 8, 2, 0, 4, 4, 7, 3, 9, 4, 2, 4, 4, 1, 2, 6, 7, 6, 3, 8, 0, 4, 4, 9, 3, 6, 9, 4, 4, 9, 0, 2, 2, 1, 4, 3, 6, 2, 3, 0, 7, 6, 9, 8, 0, 2, 7, 7, 0, 6, 4, 3, 4, 6, 9, 9, 6, 6, 3, 2, 2, 9, 0, 7, 4, 6, 9, 1, 9, 3, 3, 3, 0, 6, 1, 2, 9, 4, 3, 7, 4, 3, 7, 0, 4, 3, 4, 3, 6, 7, 2, 8, 6, 3, 6, 0, 7, 0, 4, 3, 9, 3, 4, 7, 7, 2, 4, 3, 2, 4, 3, 8, 7, 4, 9, 3, 3, 9, 9, 8, 7, 6, 3, 8, 3, 1, 9, 3, 4, 6, 3, 1, 4, 9, 6, 2, 8, 4, 4, 7, 1, 9, 3, 7, 2, 3, 3, 3, 9, 4, 6, 1, 9, 0, 2, 3, 8, 4, 7, 4, 6, 4, 8, 7, 6, 8, 7, 9, 3, 9, 2, 4, 6, 2, 3, 4, 7, 9, 4, 7, 8, 6, 3, 4, 9, 9, 0, 0, 9, 8, 9, 3, 4, 9, 8, 0, 2, 2, 2, 8, 4, 4, 0, 4, 7, 9, 2, 3, 9, 6, 4, 9, 4, 3, 7, 6, 0, 7, 7, 6, 7, 2, 6, 4, 9, 6, 2, 3, 2, 2, 4, 6, 6, 3, 9, 4, 0, 3, 9, 7, 2, 3, 7, 3, 1, 4, 4, 3, 2, 4, 7, 3, 4, 9, 8, 3, 4, 9, 9, 4, 2, 9, 4, 4, 4, 4, 7, 7, 0, 4, 4, 3, 6, 0, 2, 2, 4, 9, 7, 9, 3, 4, 8, 4, 7, 0, 6, 9, 0, 0, 9, 6, 9, 3, 2, 7, 3, 4, 9, 0, 4, 6, 4, 2, 6, 3, 0, 4, 4, 3, 8, 4, 9, 2, 2, 9, 6, 9, 4, 9, 3, 3, 4, 0, 6, 9, 2, 4, 9, 3, 9, 3, 3, 6, 4, 9, 7, 2, 4, 8, 7, 1, 3, 8, 6, 6, 4, 3, 8, 7, 2, 3, 3, 3, 2, 8, 6, 6, 8, 6, 9, 9, 2, 7, 8, 7, 2, 6, 9, 9, 3, 0, 9, 8, 9, 7, 6, 4, 3, 4, 9, 4, 6, 9, 4, 2, 3, 8, 7, 1, 7, 2, 8, 7, 3, 9, 4, 8, 1, 8, 3, 3, 4, 4, 2, 4, 7, 4, 6, 4, 8, 4, 4, 6, 4, 4, 9, 2, 4, 8, 9, 0, 9, 4, 3, 7, 6, 3, 6, 3, 0, 4, 2, 7, 2, 9, 4, 6, 9, 9, 6, 9, 4, 7, 8, 2, 4, 4, 6, 8, 9, 3, 0, 4, 6, 3, 4, 3, 3, 4, 8, 0, 3, 4, 3, 9, 6, 8, 3, 6, 2, 9, 9, 9, 4, 2, 8, 4, 3, 6, 3, 6, 2, 0, 8, 4, 2, 9, 9, 3, 4, 4, 4, 8, 9, 8, 6, 4, 2, 7, 4, 0, 4, 4, 9, 9, 4, 4, 3, 9, 9, 9, 0, 4, 9, 4, 0, 8, 9, 7, 2, 4, 9, 4, 9, 2, 9, 0, 4, 3, 3, 0, 2, 7, 1, 4, 3, 0, 8, 8, 4, 2, 2, 9, 3, 4, 9, 0, 4, 9, 0, 9, 6, 6, 1, 3, 4, 0, 0, 6, 9, 7, 2, 7, 2, 3, 2, 0, 2, 4, 4, 3, 4, 9, 6, 0, 0, 0, 4, 0, 4, 2, 3, 2, 3, 4, 4, 9, 0, 9, 8, 7, 4, 3, 4, 4, 0, 7, 4, 3, 3, 3, 7, 9, 3, 7, 9, 8, 8, 2, 9, 6, 9, 9, 9, 9, 6, 3, 3, 3, 8, 2, 9, 0, 9, 2, 0, 4, 0, 3, 9, 0, 7, 9, 1, 8, 9, 3, 4, 4, 3, 4, 0, 3, 9, 9, 2, 3, 9, 6, 4, 9, 7, 9, 9, 6, 6, 4, 2, 8, 0, 9, 0, 3, 3, 6, 9, 0, 8, 4, 3, 4, 4, 0, 9, 7, 7, 3, 4, 7, 3, 4, 4, 9, 3, 8, 3, 2, 9, 9, 0, 4, 1, 7, 4, 9, 0, 7, 1, 9, 4, 4, 4, 1, 2, 6, 7, 3, 7, 4, 4, 4, 4, 4, 0, 6, 9, 9, 3, 3, 3, 9, 7, 3, 9, 3, 4, 6, 2, 3, 4, 8, 4, 8, 9, 6, 3, 6, 7, 8, 4, 1, 2, 4, 8, 9, 0, 2, 6, 3, 9, 4, 6, 6, 4, 3, 9, 4, 4, 9, 2, 4, 6, 7, 6, 2, 3, 3, 9, 4, 3, 3, 1, 8, 2, 6, 6, 7, 7, 4, 2, 9, 2, 9, 7, 1, 9, 3, 2, 7, 4, 1, 9, 9, 2, 3, 4, 3, 7, 7, 3, 9, 9, 6, 7, 2, 2, 9, 6, 0, 7, 8, 3, 4, 7, 4, 3, 2, 0, 6, 3, 3, 1, 3, 9, 4, 9, 6, 0, 4, 3, 6, 0, 8, 4, 7, 0, 9, 3, 2, 8, 6, 8, 3, 9, 4, 3, 2, 6, 4, 9, 4, 4, 4, 4, 6, 0, 3, 4, 6, 0, 9, 2, 4, 0, 6, 9, 6, 6, 9, 3, 8, 9, 3, 9, 8, 8, 9, 7, 4, 0, 2, 7, 9, 9, 4, 3, 4, 9, 9, 0, 9, 0, 2, 9, 8, 4, 2, 0, 3, 3, 7, 4, 9, 6, 9, 4, 3, 7, 2, 7, 8, 4, 4, 7, 4, 4, 2, 4, 6, 2, 6, 4, 0, 1, 2, 2, 2, 9, 0, 6, 9, 4, 6, 4, 9, 8, 9, 6, 4, 3, 4, 8, 2, 4, 7, 3, 3, 6, 4, 3, 9, 4, 6, 0, 4, 4, 9, 6, 3, 0, 9, 2, 8, 4, 8, 4, 2, 6, 2, 3, 4, 9, 4, 4, 4, 2, 4, 7, 4, 3, 9, 2, 0, 4, 9, 4, 1, 4, 3, 0, 3, 0, 4, 1, 6, 8, 3, 3, 6, 3, 4, 9, 3, 6, 3, 4, 3, 9, 9, 9, 3, 1, 4, 3, 9, 9, 9, 8, 9, 9, 0, 0, 4, 2, 8, 3, 9, 6, 4, 4, 3, 4, 3, 3, 4, 9, 0, 4, 9, 6, 0, 6, 6, 4, 2, 4, 4, 9, 2, 6, 4, 9, 7, 7, 9, 3, 4, 6, 7, 3, 9, 8, 8, 2, 7, 3, 2, 2, 3, 0, 3, 8, 4, 3, 8, 4, 0, 3, 3, 4, 7, 4, 4, 2, 0, 8, 4, 0, 2, 4, 3, 9, 9, 7, 3, 6, 4, 4, 4, 3, 7, 0, 4, 2, 3, 9, 2, 4, 0, 2, 9, 9, 3, 9, 2, 0, 7, 3, 7, 2, 0, 6, 2, 3, 4, 2, 6, 7, 4, 2, 8, 9, 9, 6, 6, 9, 0, 3, 8, 3, 4, 8, 8, 4, 3, 4, 0, 3, 4, 3, 7, 1, 3, 2, 4, 2, 4, 8, 4, 9, 9, 2, 8, 6, 0, 3, 9, 6, 3, 2, 9, 0, 4, 3, 0, 2, 6, 8, 4, 9, 4, 4, 0, 3, 2, 2, 9, 9, 7, 4, 4, 3, 2, 9, 3, 6, 7, 9, 2, 3, 4, 4, 2, 9, 6, 7, 7, 4, 2, 8, 2, 0, 4, 0, 6, 3, 6, 7, 4, 7, 3, 2, 4, 2, 6, 3, 9, 0, 8, 3, 1, 9, 4, 4, 0, 3, 4, 8, 4, 9, 8, 4, 3, 4, 0, 4, 9, 6, 9, 9, 9, 3, 8, 7, 7, 7, 9, 3, 9, 9, 0, 6, 6, 3, 3, 4, 0, 9, 3, 4, 6, 2, 9, 1, 9, 9, 4, 0, 7, 3, 0, 6, 0, 2, 9, 4, 3, 9, 4, 3, 3, 3, 9, 7, 9, 9, 2, 4, 2, 9, 6, 8, 6, 0, 9, 9, 7, 3, 1, 4, 2, 6, 6, 2, 3, 3, 2, 9, 7, 4, 3, 2, 6, 0, 4, 3, 3, 4, 9, 9, 3, 9, 7, 3, 4, 0, 8, 3, 6, 7, 3, 9, 9, 6, 3, 6, 9, 4, 4, 2, 8, 1, 2, 3, 6, 3, 0, 2, 2, 0, 9, 3, 9, 8, 8, 9, 9, 9, 0, 3, 7, 9, 9, 9, 0, 2, 7, 7, 7, 9, 9, 7, 0, 6, 9, 7, 9, 3, 7, 7, 7, 0, 8, 7, 4, 6, 3, 2, 1, 8, 7, 9, 3, 8, 9, 0, 4, 4, 3, 6, 4, 3, 9, 9, 9, 2, 3, 2, 4, 3, 4, 3, 4, 4, 3, 7, 3, 7, 9, 2, 8, 3, 9, 0, 6, 0, 4, 7, 7, 0, 3, 4, 9, 6, 2, 9, 4, 3, 1, 6, 6, 4, 3, 9, 9, 3, 9, 9, 9, 8, 0, 7, 4, 0, 2, 9, 4, 4, 3, 4, 0, 4, 3, 8, 4, 3, 9, 8, 9, 3, 4, 6, 4, 4, 4, 2, 6, 0, 0, 0, 2, 4, 9, 0, 4, 0, 6, 9, 9, 9, 9, 4, 2, 3, 6, 9, 9, 9, 0, 8, 2, 4, 7, 4, 0, 9, 4, 2, 4, 3, 6, 9, 4, 9, 4, 3, 4, 2, 4, 7, 2, 6, 1, 7, 7, 9, 9, 4, 0, 4, 2, 9, 7, 9, 8, 9, 9, 9, 4, 4, 4, 6, 0, 9, 6, 2, 4, 6, 9, 2, 4, 6, 3, 4, 9, 4, 3, 0, 3, 8, 2, 7, 9, 3, 9, 0, 4, 3, 3, 9, 3, 1, 7, 2, 2, 7, 6, 7, 3, 8, 4, 6, 4, 7, 0, 3, 9, 8, 9, 4, 9, 0, 4, 2, 4, 0, 4, 0, 2, 2, 6, 7, 2, 3, 6, 4, 4, 6, 6, 3, 9, 4, 2, 6, 2, 6, 6, 4, 6, 4, 9, 4, 4, 6, 4, 8, 9, 6, 4, 3, 9, 1, 0, 9, 4, 0, 4, 4, 9, 4, 0, 3, 4, 3, 6, 3, 9, 4, 7, 9, 9, 0, 9, 8, 0, 4, 0, 2, 0, 8, 0, 9, 8, 6, 9, 0, 4, 3, 8, 0, 0, 0, 9, 0, 9, 9, 4, 3, 9, 1, 3, 4, 7, 9, 8, 6, 0, 0, 9, 4, 8, 0, 4, 6, 2, 3, 8, 4, 4, 9, 4, 4, 7, 3, 0, 3, 7, 1, 4, 6, 8, 3, 0, 4, 0, 9, 9, 2, 4, 4, 3, 1, 0, 0, 4, 4, 4, 8, 1, 4, 4, 8, 2, 2, 9, 4, 4, 4, 7, 9, 4, 6, 9, 4, 3, 9, 9, 7, 3, 4, 2, 3, 7, 8, 8, 7, 7, 2, 2, 9, 4, 6, 7, 4, 3, 7, 7, 9, 4, 4, 9, 0, 6, 6, 2, 2, 9, 8, 3, 3, 9, 3, 2, 9, 7, 4, 4, 2, 9, 9, 0, 2, 8, 6, 0, 9, 4, 4, 8, 2, 9, 9, 2, 9, 9, 9, 2, 9, 9, 4, 3, 8, 6, 9, 3, 4, 7, 4, 0, 3, 9, 2, 3, 9, 0, 4, 9, 9, 7, 9, 8, 4, 2, 6, 4, 7, 4, 3, 4, 0, 8, 2, 6, 9, 8, 9, 4, 4, 3, 9, 2, 9, 6, 9, 0, 4, 2, 3, 9, 9, 4, 3, 2, 9, 6, 3, 4, 6, 3, 9, 2, 6, 2, 8, 0, 9, 2, 3, 0, 9, 8, 2, 3, 4, 6, 3, 2, 9, 9, 4, 4, 9, 3, 4, 4, 3, 3, 9, 4, 7, 6, 3, 9, 9, 6, 8, 4, 4, 6, 4, 4, 8, 4, 3, 0, 7, 0, 4, 0, 9, 3, 3, 8, 9, 4, 9, 4, 2, 8, 3, 9, 0, 3, 9, 0, 0, 0, 9, 3, 7, 4, 6, 7, 8, 6, 6, 8, 6, 2, 2, 3, 6, 4, 4, 3, 4, 2, 8, 8, 9, 8, 4, 4, 8, 7, 8, 3, 8, 9, 9, 4, 3, 9, 8, 9, 3, 0, 3, 2, 4, 4, 9, 2, 7, 6, 0, 3, 7, 6, 8, 3, 9, 9, 8, 8, 9, 4, 9, 4, 6, 4, 8, 2, 2, 9, 3, 6, 3, 3, 4, 3, 0, 4, 2, 7, 4, 4, 1, 9, 3, 9, 9, 4, 4, 0, 7, 3, 4, 2, 3, 3, 9, 6, 0, 4, 3, 0, 3, 4, 2, 8, 9, 0, 8, 4, 0, 3, 0, 8, 4, 4, 9, 1, 2, 7, 2, 0, 4, 2, 4, 4, 4, 3, 4, 4, 7, 4, 0, 8, 3, 3, 9, 9, 4, 6, 7, 8, 7, 3, 8, 4, 9, 0, 7, 3, 6, 3, 9, 3, 9, 7, 2, 3, 4, 4, 3, 9, 9, 8, 6, 3, 3, 3, 7, 3, 3, 2, 3, 2, 7, 6, 9, 3, 2, 8, 9, 4, 6, 6, 8, 4, 3, 2, 8, 2, 4, 4, 3, 8, 9, 0, 6, 9, 9, 6, 6, 4, 1, 3, 0, 8, 4, 8, 7, 9, 6, 8, 4, 6, 9, 2, 4, 7, 3, 9, 9, 6, 3, 4, 4, 4, 3, 7, 4, 7, 9, 2, 3, 4, 4, 6, 4, 9, 6, 4, 7, 8, 9, 4, 4, 4, 4, 4, 4, 3, 3, 7, 6, 0, 6, 1, 0, 0, 3, 9, 9, 6, 8, 0, 4, 8, 9, 0, 4, 7, 4, 4, 4, 9, 2, 3, 4, 4, 6, 8, 3, 4, 8, 3, 6, 3, 9, 6, 4, 3, 4, 6, 3, 2, 6, 9, 6, 9, 9, 4, 7, 4, 3, 3, 3, 2, 0, 4, 9, 4, 4, 3, 4, 8, 2, 9, 4, 2, 3, 4, 8, 9, 0, 2, 9, 2, 7, 9, 0, 3, 3, 4, 3, 7, 3, 3, 3, 6, 8, 3, 2, 9, 8, 3, 4, 3, 9, 4, 3, 9, 7, 6, 0, 2, 3, 4, 2, 3, 8, 7, 2, 9, 7, 3, 9, 7, 0, 9, 6, 0, 2, 6, 7, 0, 7, 2, 1, 9, 3, 8, 4, 8, 8, 9, 4, 8, 4, 6, 2, 2, 6, 9, 6, 9, 3, 4, 4, 2, 3, 3, 3, 6, 0, 0, 3, 9, 4, 0, 9, 4, 2, 4, 8, 3, 9, 3, 4, 4, 6, 4, 2, 2, 9, 3, 7, 4, 9, 4, 9, 3, 9, 4, 9, 3, 2, 4, 4, 0, 0, 2, 9, 7, 4, 3, 2, 0, 6, 9, 1, 9, 0, 1, 0, 3, 3, 2, 7, 6, 8, 9, 0, 1, 9, 9, 6, 9, 9, 4, 6, 3, 8, 8, 9, 9, 9, 2, 7, 4, 9, 0, 8, 3, 4, 9, 9, 8, 9, 9, 9, 6, 9, 9, 7, 1, 9, 9, 4, 0, 9, 6, 0, 0, 0, 6, 9, 4, 2, 3, 6, 8, 8, 3, 8, 9, 2, 3, 6, 6, 6, 8, 2, 3, 7, 7, 0, 9, 3, 7, 9, 9, 6, 4, 6, 4, 9, 6, 2, 6, 4, 4, 3, 3, 8, 9, 6, 2, 2, 0, 9, 3, 6, 2, 7, 6, 2, 8, 7, 2, 2, 6, 0, 9, 9, 8, 6, 2, 4, 6, 9, 6, 0, 4, 3, 0, 9, 4, 1, 4, 3, 2, 6, 6, 8, 6, 6, 4, 2, 3, 9, 8, 4, 4, 9, 9, 2, 9, 8, 2, 4, 6, 6, 3, 4, 1, 0, 3, 2, 3, 9, 7, 2, 9, 8, 4, 3, 6, 4, 4, 6, 8, 3, 6, 6, 9, 9, 7, 2, 0, 8, 6, 7, 3, 8, 3, 3, 4, 6, 3, 6, 4, 8, 2, 7, 6, 2, 2, 6, 6, 2, 2, 3, 4, 0, 1, 4, 3, 0, 3, 6, 2, 9, 6, 9, 4, 9, 9, 2, 2, 4, 4, 6, 2, 9, 4, 2, 4, 7, 9, 0, 8, 2, 3, 3, 4, 8, 7, 4, 4, 8, 4, 3, 3, 9, 7, 9, 6, 7, 9, 9, 6, 9, 9, 6, 3, 4, 4, 3, 9, 4, 3, 9, 2, 4, 2, 6, 2, 9, 3, 3, 0, 9, 6, 8, 2, 9, 0, 4, 3, 2, 0, 9, 4, 4, 9, 6, 8, 6, 1, 7, 2, 9, 8, 6, 4, 0, 4, 9, 7, 2, 4, 8, 2, 2, 1, 3, 4, 4, 0, 0, 6, 4, 7, 1, 9, 7, 6, 7, 4, 6, 4, 2, 3, 4, 9, 9, 8, 9, 3, 0, 3, 6, 2, 9, 0, 2, 3, 7, 7, 8, 4, 4, 9, 9, 4, 8, 2, 4, 9, 4, 3, 3, 9, 8, 6, 0, 9, 8, 8, 6, 7, 2, 8, 3, 3, 6, 9, 0, 4, 4, 3, 4, 2, 8, 6, 2, 1, 4, 3, 7, 0, 9, 9, 7, 4, 7, 9, 2, 4, 3, 4, 2, 8, 2, 9, 9, 9, 0, 8, 0, 4, 2, 7, 6, 8, 0, 6, 3, 4, 4, 3, 9, 1, 3, 0, 2, 9, 3, 3, 6, 8, 9, 4, 4, 3, 2, 2, 6, 9, 9, 9, 7, 4, 8, 7, 0, 0, 4, 4, 3, 4, 6, 3, 3, 4, 3, 9, 2, 4, 9, 9, 4, 9, 6, 9, 8, 8, 0, 7, 3, 0, 2, 2, 0, 8, 0, 3, 8, 0, 4, 1, 4, 4, 2, 7, 4, 2, 0, 0, 0, 2, 9, 8, 0, 6, 6, 0, 6, 6, 4, 3, 4, 9, 1, 2, 9, 6, 9, 1, 4, 8, 2, 2, 9, 7, 4, 6, 9, 3, 4, 4, 8, 9, 7, 8, 3, 3, 9, 7, 7, 7, 9, 9, 9, 8, 4, 4, 9, 4, 7, 4, 6, 7, 9, 6, 7, 4, 3, 0, 4, 2, 0, 0, 8, 2, 9, 8, 4, 8, 3, 4, 6, 4, 3, 2, 4, 8, 2, 2, 4, 9, 0, 9, 2, 9, 4, 8, 8, 4, 6, 4, 6, 0, 6, 4, 4, 8, 7, 4, 7, 3, 0, 9, 3, 6, 8, 4, 6, 7, 9, 8, 8, 3, 9, 9, 2, 4, 6, 7, 9, 4, 4, 3, 3, 3, 9, 2, 6, 7, 1, 4, 2, 4, 0, 4, 9, 4, 9, 0, 0, 6, 4, 4, 6, 9, 9, 8, 9, 8, 4, 8, 6, 9, 9, 3, 4, 3, 9, 2, 3, 9, 4, 6, 4, 2, 8, 8, 9, 0, 0, 0, 4, 6, 2, 0]\n"
     ]
    },
    {
     "name": "stderr",
     "output_type": "stream",
     "text": [
      "/home/prabha/.local/lib/python2.7/site-packages/ipykernel_launcher.py:5: RuntimeWarning: overflow encountered in sinh\n",
      "  \"\"\"\n",
      "/home/prabha/.local/lib/python2.7/site-packages/ipykernel_launcher.py:5: RuntimeWarning: overflow encountered in cosh\n",
      "  \"\"\"\n",
      "/home/prabha/.local/lib/python2.7/site-packages/ipykernel_launcher.py:5: RuntimeWarning: invalid value encountered in divide\n",
      "  \"\"\"\n"
     ]
    }
   ],
   "source": [
    "test_file=pd.read_csv('../input_data/Apparel/apparel-trainval.csv')\n",
    "print len(test_file)\n",
    "import csv\n",
    "def predict(test_file,input_size,output_size,hidden_size,layer,function):\n",
    "    wgt_file = []\n",
    "    bias_file = []\n",
    "    with open('weights.txt','rb') as fp:\n",
    "        wgt_file = pickle.load(fp)\n",
    "    with open('biases.txt','rb') as fp:\n",
    "        bias_file = pickle.load(fp)\n",
    "    multiNN=MultipleHiddenLayerNN(int(input_size),int(output_size),int(hidden_size),layer)\n",
    "    multiNN.weights=wgt_file\n",
    "    multiNN.biases=bias_file\n",
    "    validate_pred=pred(multiNN,test_file,function)\n",
    "    \n",
    "    return validate_pred\n",
    "\n",
    "pred= predict(test_file,input_size,output_size,hidden_size,1,tanh)\n",
    "print pred\n",
    "with open('2018201053_prediction.csv', 'wb') as f:\n",
    "    wr = csv.writer(f, delimiter='\\n')\n",
    "    wr.writerow(pred)"
   ]
  },
  {
   "cell_type": "markdown",
   "metadata": {},
   "source": []
  }
 ],
 "metadata": {
  "kernelspec": {
   "display_name": "Python 2",
   "language": "python",
   "name": "python2"
  },
  "language_info": {
   "codemirror_mode": {
    "name": "ipython",
    "version": 2
   },
   "file_extension": ".py",
   "mimetype": "text/x-python",
   "name": "python",
   "nbconvert_exporter": "python",
   "pygments_lexer": "ipython2",
   "version": "2.7.15rc1"
  }
 },
 "nbformat": 4,
 "nbformat_minor": 2
}
