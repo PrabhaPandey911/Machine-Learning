{
 "cells": [
  {
   "cell_type": "markdown",
   "metadata": {},
   "source": [
    "# Question 2: Problem of Generating New Data"
   ]
  },
  {
   "cell_type": "code",
   "execution_count": 1,
   "metadata": {},
   "outputs": [],
   "source": [
    "from sklearn import datasets\n",
    "import matplotlib.pyplot as plt\n",
    "import numpy as np\n",
    "import pandas as pd"
   ]
  },
  {
   "cell_type": "markdown",
   "metadata": {},
   "source": [
    "handwritten digits dataset available in sklearn."
   ]
  },
  {
   "cell_type": "code",
   "execution_count": 2,
   "metadata": {},
   "outputs": [
    {
     "name": "stdout",
     "output_type": "stream",
     "text": [
      "(1797, 64)\n",
      "set([0, 1, 2, 3, 4, 5, 6, 7, 8, 9])\n",
      "[[ 0.  0.  5. ...  0.  0.  0.]\n",
      " [ 0.  0.  0. ... 10.  0.  0.]\n",
      " [ 0.  0.  0. ... 16.  9.  0.]\n",
      " ...\n",
      " [ 0.  0.  1. ...  6.  0.  0.]\n",
      " [ 0.  0.  2. ... 12.  0.  0.]\n",
      " [ 0.  0. 10. ... 12.  1.  0.]]\n"
     ]
    }
   ],
   "source": [
    "digits = datasets.load_digits()\n",
    "\n",
    "n_samples = len(digits.images)\n",
    "data = digits.data\n",
    "print np.shape(data)\n",
    "column=set(digits.target)\n",
    "print column\n",
    "print data"
   ]
  },
  {
   "cell_type": "markdown",
   "metadata": {},
   "source": [
    "# Apply dimensionality reduction using PCA , to reduce the number of features to 3 values in the range 15 to 41."
   ]
  },
  {
   "cell_type": "code",
   "execution_count": 3,
   "metadata": {},
   "outputs": [
    {
     "name": "stdout",
     "output_type": "stream",
     "text": [
      "original data:  (1797, 64)\n",
      "pca reduction to 15 features (1797, 15)\n",
      "pca reduction to 30 features (1797, 30)\n",
      "pca reduction to 41 features (1797, 41)\n"
     ]
    }
   ],
   "source": [
    "print \"original data: \", np.shape(data)\n",
    "from sklearn import decomposition\n",
    "def pca_decom(data,features):\n",
    "    pca = decomposition.PCA(n_components=features)\n",
    "    pca.fit(data)\n",
    "    data = pca.transform(data)\n",
    "    return data,pca\n",
    "\n",
    "\n",
    "d15,pca15=pca_decom(data,15)\n",
    "print \"pca reduction to 15 features\",np.shape(d15)\n",
    "d30,pca30=pca_decom(data,30)\n",
    "print \"pca reduction to 30 features\",np.shape(d30)\n",
    "d41,pca41=pca_decom(data,41)\n",
    "print \"pca reduction to 41 features\",np.shape(d41)"
   ]
  },
  {
   "cell_type": "markdown",
   "metadata": {},
   "source": [
    "# Part-1: (10 points): Kernel Density Estimation: \n",
    "\n",
    "Use grid search cross validation on the reduced feature data to optimize bandwidth\n",
    "Compute Kernel Density Estimate"
   ]
  },
  {
   "cell_type": "code",
   "execution_count": 4,
   "metadata": {},
   "outputs": [],
   "source": [
    "from sklearn.neighbors import KernelDensity\n",
    "from sklearn.model_selection import GridSearchCV\n",
    "\n",
    "def kde(data):\n",
    "    # use grid search cross-validation to optimize the bandwidth\n",
    "    parameters = {'bandwidth': np.logspace(-1, 1, 20)}\n",
    "    grid = GridSearchCV(KernelDensity(), parameters, cv=5)\n",
    "    grid.fit(data)\n",
    "\n",
    "    print(\"best bandwidth: {0}\".format(grid.best_estimator_.bandwidth))\n",
    "\n",
    "    # use the best estimator to compute the kernel density estimate\n",
    "    kde = grid.best_estimator_\n",
    "    return kde"
   ]
  },
  {
   "cell_type": "code",
   "execution_count": 5,
   "metadata": {},
   "outputs": [
    {
     "name": "stdout",
     "output_type": "stream",
     "text": [
      "best bandwidth: 3.79269019073\n",
      "KernelDensity(algorithm='auto', atol=0, bandwidth=3.79269019073225,\n",
      "       breadth_first=True, kernel='gaussian', leaf_size=40,\n",
      "       metric='euclidean', metric_params=None, rtol=0)\n"
     ]
    }
   ],
   "source": [
    "kde_15=kde(d15)\n",
    "print kde_15"
   ]
  },
  {
   "cell_type": "code",
   "execution_count": 6,
   "metadata": {},
   "outputs": [
    {
     "name": "stdout",
     "output_type": "stream",
     "text": [
      "best bandwidth: 2.97635144163\n",
      "KernelDensity(algorithm='auto', atol=0, bandwidth=2.9763514416313175,\n",
      "       breadth_first=True, kernel='gaussian', leaf_size=40,\n",
      "       metric='euclidean', metric_params=None, rtol=0)\n"
     ]
    }
   ],
   "source": [
    "kde_30=kde(d30)\n",
    "print kde_30"
   ]
  },
  {
   "cell_type": "code",
   "execution_count": null,
   "metadata": {},
   "outputs": [],
   "source": [
    "kde_41=kde(d41)\n",
    "print kde_41"
   ]
  },
  {
   "cell_type": "markdown",
   "metadata": {},
   "source": [
    "# Part-2: (10 points) Gaussian Mixture Model based Density Estimation:\n",
    "\n",
    "Use Bayesian Information Criteria to find the number of GMM components we\n",
    "should use Apply GMM using the above number of components"
   ]
  },
  {
   "cell_type": "code",
   "execution_count": null,
   "metadata": {},
   "outputs": [],
   "source": [
    "from sklearn.mixture import GaussianMixture as GMM\n",
    "def gmm_bic(data):\n",
    "    n_components = np.arange(50, 600,10)\n",
    "    models = [GMM(n, covariance_type='full', random_state=0) for n in n_components]\n",
    "    bics = [model.fit(data).bic(data) for model in models]\n",
    "    plt.plot(n_components, bics)"
   ]
  },
  {
   "cell_type": "code",
   "execution_count": null,
   "metadata": {},
   "outputs": [],
   "source": [
    "gmm_bic(d15)"
   ]
  },
  {
   "cell_type": "code",
   "execution_count": null,
   "metadata": {},
   "outputs": [],
   "source": [
    "gmm = GMM(190, covariance_type='full', random_state=0)\n",
    "gmm_15=gmm.fit(d15)\n",
    "print gmm_15"
   ]
  },
  {
   "cell_type": "code",
   "execution_count": null,
   "metadata": {},
   "outputs": [],
   "source": [
    "gmm_bic(d30)"
   ]
  },
  {
   "cell_type": "code",
   "execution_count": null,
   "metadata": {},
   "outputs": [],
   "source": [
    "gmm = GMM(110, covariance_type='full', random_state=0)\n",
    "gmm_30=gmm.fit(d30)\n",
    "print gmm_30"
   ]
  },
  {
   "cell_type": "code",
   "execution_count": null,
   "metadata": {},
   "outputs": [],
   "source": [
    "gmm_bic(d41)"
   ]
  },
  {
   "cell_type": "code",
   "execution_count": null,
   "metadata": {},
   "outputs": [],
   "source": [
    "gmm = GMM(90, covariance_type='full', random_state=0)\n",
    "gmm_41=gmm.fit(d41)\n",
    "print gmm_41"
   ]
  },
  {
   "cell_type": "markdown",
   "metadata": {},
   "source": [
    "# Part-3: (10 points)\n",
    "Draw 48 new points in the projected spaces using both the above generative models. Use Inverse transform of PCA to construct new digits. Plot these points from both the models."
   ]
  },
  {
   "cell_type": "code",
   "execution_count": null,
   "metadata": {},
   "outputs": [],
   "source": [
    "def plot_digits(data):\n",
    "    fig, ax = plt.subplots(8, 6, figsize=(8, 8), subplot_kw=dict(xticks=[], yticks=[]))\n",
    "    for i, axi in enumerate(ax.flat):\n",
    "        im = axi.imshow(data[i].reshape(8, 8), cmap = 'Greys')\n",
    "        im.set_clim(0, 16)"
   ]
  },
  {
   "cell_type": "markdown",
   "metadata": {},
   "source": [
    "GMM for data with 15 features\n"
   ]
  },
  {
   "cell_type": "code",
   "execution_count": null,
   "metadata": {},
   "outputs": [],
   "source": [
    "        \n",
    "newData_gmm_15,Y = gmm_15.sample(48)\n",
    "print \"shape: \",np.shape(newData_gmm_15)\n",
    "digits_new_gmm_15= pca15.inverse_transform(newData_gmm_15)\n",
    "plot_digits(digits_new_gmm_15)"
   ]
  },
  {
   "cell_type": "markdown",
   "metadata": {},
   "source": [
    "KDE for data with 15 features"
   ]
  },
  {
   "cell_type": "code",
   "execution_count": null,
   "metadata": {},
   "outputs": [],
   "source": [
    "newData_kde_15 = kde_15.sample(48)\n",
    "digits_new_kde_15 = pca15.inverse_transform(newData_kde_15)\n",
    "plot_digits(digits_new_kde_15)\n"
   ]
  },
  {
   "cell_type": "markdown",
   "metadata": {},
   "source": [
    "GMM for data with 30 features"
   ]
  },
  {
   "cell_type": "code",
   "execution_count": null,
   "metadata": {},
   "outputs": [],
   "source": [
    "newData_gmm_30, y1= gmm_30.sample(48)\n",
    "digits_new_gmm_30 = pca30.inverse_transform(newData_gmm_30 )\n",
    "plot_digits(digits_new_gmm_30)\n",
    "\n"
   ]
  },
  {
   "cell_type": "markdown",
   "metadata": {},
   "source": [
    "KDE for data with 30 features"
   ]
  },
  {
   "cell_type": "code",
   "execution_count": null,
   "metadata": {},
   "outputs": [],
   "source": [
    "newData_kde_30 = kde_30.sample(48)\n",
    "digits_new_kde_30 = pca30.inverse_transform(newData_kde_30)\n",
    "plot_digits(digits_new_kde_30)"
   ]
  },
  {
   "cell_type": "markdown",
   "metadata": {},
   "source": [
    "GMM for data with 41 features"
   ]
  },
  {
   "cell_type": "code",
   "execution_count": null,
   "metadata": {},
   "outputs": [],
   "source": [
    "\n",
    "newData_gmm_41,y2 = gmm_41.sample(48)\n",
    "digits_new_gmm_41 = pca41.inverse_transform(newData_gmm_41)\n",
    "plot_digits(digits_new_gmm_41)\n"
   ]
  },
  {
   "cell_type": "markdown",
   "metadata": {},
   "source": [
    "KDE for data with 41 features"
   ]
  },
  {
   "cell_type": "code",
   "execution_count": null,
   "metadata": {},
   "outputs": [],
   "source": [
    "newData_kde_41 = kde_41.sample(48)\n",
    "digits_new_kde_41 = pca41.inverse_transform(newData_kde_41)\n",
    "plot_digits(digits_new_kde_41)\n"
   ]
  }
 ],
 "metadata": {
  "kernelspec": {
   "display_name": "Python 2",
   "language": "python",
   "name": "python2"
  },
  "language_info": {
   "codemirror_mode": {
    "name": "ipython",
    "version": 2
   },
   "file_extension": ".py",
   "mimetype": "text/x-python",
   "name": "python",
   "nbconvert_exporter": "python",
   "pygments_lexer": "ipython2",
   "version": "2.7.15rc1"
  }
 },
 "nbformat": 4,
 "nbformat_minor": 2
}
