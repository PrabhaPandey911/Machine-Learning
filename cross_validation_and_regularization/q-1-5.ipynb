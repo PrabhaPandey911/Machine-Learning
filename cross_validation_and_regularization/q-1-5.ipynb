{
 "cells": [
  {
   "cell_type": "markdown",
   "metadata": {},
   "source": [
    "# Question 1) Part 5:\n",
    "In this part implement regression with k-fold cross validation. Analyse how behavior changes with different values of k. Also implement a variant of this which is the\n",
    "leave-one-out cross validation."
   ]
  },
  {
   "cell_type": "code",
   "execution_count": 57,
   "metadata": {},
   "outputs": [],
   "source": [
    "import numpy as np\n",
    "import pandas as pd\n",
    "import sys\n",
    "import matplotlib.pyplot as plt\n",
    "from sklearn.model_selection import KFold"
   ]
  },
  {
   "cell_type": "markdown",
   "metadata": {},
   "source": [
    "Read the data set, drop serial number and chance of admit from it and add column of all 1's. Create initial theta of size 8 (7 coulumns + 1 for interceot), initialized by all zeros."
   ]
  },
  {
   "cell_type": "code",
   "execution_count": 58,
   "metadata": {},
   "outputs": [
    {
     "name": "stdout",
     "output_type": "stream",
     "text": [
      "(450, 8)\n"
     ]
    }
   ],
   "source": [
    "filename=\"./AdmissionDataset/data.csv\"\n",
    "data = pd.read_csv(filename)\n",
    "# data = data.sample(frac=1)\n",
    "\n",
    "def normalise(data,columns):\n",
    "    for i in columns:\n",
    "        mean=data[i].mean()\n",
    "        std=data[i].std()\n",
    "        data[i]=(data[i]-mean)/std\n",
    "    return data\n",
    "\n",
    "columns=['GRE Score','TOEFL Score','University Rating','SOP','LOR ' ,'CGPA','Research']\n",
    "data=normalise(data,columns)\n",
    "data.insert(0,'all_ones',1)\n",
    "data=data.drop(['Serial No.'],axis=1)\n",
    "\n",
    "Y=data['Chance of Admit ']\n",
    "data=data.drop(['Chance of Admit '],axis=1)\n",
    "data=np.array(data)\n",
    "print(np.shape(data))"
   ]
  },
  {
   "cell_type": "code",
   "execution_count": 59,
   "metadata": {},
   "outputs": [],
   "source": [
    "alpha=0.01\n",
    "theta=np.zeros(8)#7 for columns + 1 for beta0\n",
    "lambda_val=0.001"
   ]
  },
  {
   "cell_type": "markdown",
   "metadata": {},
   "source": [
    "Gradient decent over ridge regression"
   ]
  },
  {
   "cell_type": "code",
   "execution_count": 60,
   "metadata": {},
   "outputs": [],
   "source": [
    "def gradientDescent_ridge(x,yactual,theta,alpha,lambda_val):\n",
    "    num_of_rows,cols=np.shape(x)\n",
    "    col_length=np.shape(theta)\n",
    "    x=np.array(x)\n",
    "    for i in range(0,1000):\n",
    "        pred=np.dot(x,theta.T)\n",
    "        loss_value = pred - yactual\n",
    "        gradient_0=np.sum(np.dot(x[:,0],loss_value))\n",
    "        theta[0]=theta[0]-(alpha*(gradient_0/num_of_rows))\n",
    "        for j in range(1,col_length[0]):\n",
    "            gradient=np.sum(np.dot(x[:,j],loss_value))\n",
    "            lamda_part=(2*lambda_val*theta[j]) #differentiation of square of theta[j]\n",
    "            theta[j]=theta[j] - (alpha * ((gradient+lamda_part)/(num_of_rows)))\n",
    "    return theta"
   ]
  },
  {
   "cell_type": "markdown",
   "metadata": {},
   "source": [
    "For each value of k in the range 2 to 40, call gradient decent, find the theta, and hence find the error."
   ]
  },
  {
   "cell_type": "code",
   "execution_count": 64,
   "metadata": {},
   "outputs": [
    {
     "name": "stdout",
     "output_type": "stream",
     "text": [
      "2 0.003853998533229463\n",
      "3 0.003815491575740427\n",
      "4 0.003757390447405192\n",
      "5 0.0037702544368199836\n",
      "6 0.0037533689775596196\n",
      "7 0.003756822277147607\n",
      "8 0.0037534870590793584\n",
      "9 0.003757762458077998\n",
      "10 0.003776023688527374\n",
      "11 0.003757080213030393\n",
      "12 0.0037451959386410453\n",
      "13 0.0037286362134804026\n",
      "14 0.003751562978375518\n",
      "15 0.00375153371835247\n",
      "16 0.0037577244543514224\n",
      "17 0.0037470229602966755\n",
      "18 0.0037519379975352787\n",
      "19 0.003767489301492647\n",
      "20 0.0037575907784021373\n",
      "21 0.003777388019342934\n",
      "22 0.0037597288519584287\n",
      "23 0.003762769848317175\n",
      "24 0.0037582598941672137\n",
      "25 0.003756622246049317\n",
      "26 0.003748162839900337\n",
      "27 0.003766099743963994\n",
      "28 0.003764612274598174\n",
      "29 0.0037423655869091134\n",
      "30 0.003762833374455783\n",
      "31 0.003760713552032722\n",
      "32 0.003768728620147305\n",
      "33 0.0037578253530309836\n",
      "34 0.0037475789140569817\n",
      "35 0.003760388153305762\n",
      "36 0.003767842523629758\n",
      "37 0.003754278004661539\n",
      "38 0.003760531509209455\n",
      "39 0.0037546842039390812\n",
      "40 0.0037467140386774267\n"
     ]
    }
   ],
   "source": [
    "k_list=[]\n",
    "error_list=[]\n",
    "for k in range(2,41):\n",
    "    kf = KFold(n_splits=k)\n",
    "    error_mean=[]\n",
    "    for train_index,test_index in kf.split(data):\n",
    "        X_train,X_test = data[train_index],data[test_index]\n",
    "        Y_train,Y_test = Y[train_index],Y[test_index]\n",
    "        theta_temp=gradientDescent_ridge(X_train,Y_train,theta,alpha,lambda_val)\n",
    "        pred=np.dot(theta_temp,X_test.T)\n",
    "        loss= np.sum(np.square(pred-Y_test))/(np.shape(X_test)[0])\n",
    "        error_mean.append(loss)\n",
    "    error_mean=np.array(error_mean)\n",
    "    mean_loss=np.mean(error_mean)\n",
    "    print(k,mean_loss)\n",
    "    k_list.append(k)\n",
    "    error_list.append(mean_loss)"
   ]
  },
  {
   "cell_type": "code",
   "execution_count": 67,
   "metadata": {},
   "outputs": [
    {
     "data": {
      "text/plain": [
       "[<matplotlib.lines.Line2D at 0x7fd0c258f8d0>]"
      ]
     },
     "execution_count": 67,
     "metadata": {},
     "output_type": "execute_result"
    },
    {
     "data": {
      "image/png": "[encoded data removed]",
      "text/plain": [
       "<Figure size 504x504 with 1 Axes>"
      ]
     },
     "metadata": {},
     "output_type": "display_data"
    }
   ],
   "source": [
    "plt.figure(figsize=(7,7))\n",
    "plt.title('Ridge: K-values v/s error')\n",
    "plt.xlabel('k-Folds', fontsize=18)\n",
    "plt.ylabel('error', fontsize=16)\n",
    "plt.plot(k_list,error_list)\n"
   ]
  },
  {
   "cell_type": "markdown",
   "metadata": {},
   "source": [
    "# Observation"
   ]
  },
  {
   "cell_type": "markdown",
   "metadata": {},
   "source": [
    "As the value of K increases, the error decreases.\n",
    "But after certain k value, the error tends to increase, as now increasing k reduces the number of data samples in each section, hence overfitting is observed."
   ]
  },
  {
   "cell_type": "markdown",
   "metadata": {},
   "source": [
    "# leave-one-out cross validation."
   ]
  },
  {
   "cell_type": "code",
   "execution_count": 69,
   "metadata": {},
   "outputs": [
    {
     "name": "stdout",
     "output_type": "stream",
     "text": [
      "LOOCV Error:  0.0018785453130037001\n"
     ]
    }
   ],
   "source": [
    "kf = KFold(n_splits=np.shape(X_test)[0])\n",
    "error_mean=[]\n",
    "for train_index,test_index in kf.split(data):\n",
    "    X_train,X_test = data[train_index],data[test_index]\n",
    "    Y_train,Y_test = Y[train_index],Y[test_index]\n",
    "    theta_temp=gradientDescent_ridge(X_train,Y_train,theta,alpha,lambda_val)\n",
    "    pred=np.dot(theta_temp,X_test.T)\n",
    "    loss= np.sum(np.square(pred-Y_test))/(2*np.shape(X_test)[0])\n",
    "    error_mean.append(loss)\n",
    "error_mean=np.array(error_mean)\n",
    "mean_loss=np.mean(error_mean)\n",
    "print(\"LOOCV Error: \",mean_loss)"
   ]
  }
 ],
 "metadata": {
  "kernelspec": {
   "display_name": "Python 3",
   "language": "python",
   "name": "python3"
  },
  "language_info": {
   "codemirror_mode": {
    "name": "ipython",
    "version": 3
   },
   "file_extension": ".py",
   "mimetype": "text/x-python",
   "name": "python",
   "nbconvert_exporter": "python",
   "pygments_lexer": "ipython3",
   "version": "3.6.6"
  }
 },
 "nbformat": 4,
 "nbformat_minor": 2
}
