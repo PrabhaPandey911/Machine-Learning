{
 "cells": [
  {
   "cell_type": "markdown",
   "metadata": {},
   "source": [
    "# Question 1: Part 1)\n",
    "Implement Lasso regression also known as L1 regularisation and plot graph between regularisation coefficient λ and error"
   ]
  },
  {
   "cell_type": "code",
   "execution_count": 199,
   "metadata": {},
   "outputs": [],
   "source": [
    "import numpy as np\n",
    "import pandas as pd\n",
    "import sys\n",
    "import matplotlib.pyplot as plt"
   ]
  },
  {
   "cell_type": "markdown",
   "metadata": {},
   "source": [
    "Read the data set, drop serial number and chance of admit from it and add column of all 1's.\n",
    "Create initial theta of size 8 (7 coulumns + 1 for interceot), initialized by all zeros. "
   ]
  },
  {
   "cell_type": "code",
   "execution_count": 200,
   "metadata": {},
   "outputs": [],
   "source": [
    "filename=\"./AdmissionDataset/data.csv\"\n",
    "data = pd.read_csv(filename)\n",
    "data = data.sample(frac=1)\n",
    "\n",
    "def normalise(data,columns):\n",
    "    for i in columns:\n",
    "        mean=data[i].mean()\n",
    "        std=data[i].std()\n",
    "        data[i]=(data[i]-mean)/std\n",
    "    return data\n",
    "\n",
    "columns=['GRE Score','TOEFL Score','University Rating','SOP','LOR ' ,'CGPA','Research']\n",
    "data=normalise(data,columns)\n",
    "\n",
    "data.insert(0,'all_ones',1)\n",
    "\n",
    "train, validate = np.split(data,[int(.8*len(data))])\n",
    "train=train.drop(['Serial No.'],axis=1)\n",
    "\n",
    "yactual=train['Chance of Admit ']\n",
    "\n",
    "temp_train=train\n",
    "train=train.drop(['Chance of Admit '],axis=1)\n",
    "\n",
    "y_validate=validate['Chance of Admit ']\n",
    "validate=validate.drop(['Serial No.'],axis=1)\n",
    "temp_validate=validate\n",
    "validate=validate.drop(['Chance of Admit '],axis=1)\n",
    "\n",
    "\n",
    "theta=np.zeros(8)#7 for columns + 1 for beta0"
   ]
  },
  {
   "cell_type": "markdown",
   "metadata": {},
   "source": [
    "For each labmda value ranging from 0.1 to 50, with step size 0.1, train the model using gradient decent for 1000 iterations using the formula: \n",
    "\n",
    "    "
   ]
  },
  {
   "cell_type": "markdown",
   "metadata": {},
   "source": [
    "$$\\theta_j := \\theta_j - \\alpha.1/m \\Sigma (h_\\theta (x ^ {(i)} ) - y ^{(i)} ) x_j ^ {(i)} - \\alpha *\\lambda *sign(w_j) /2m$$"
   ]
  },
  {
   "cell_type": "markdown",
   "metadata": {},
   "source": [
    "Find the error for each lambda, that this trained theta is causing using MSE formula:\n"
   ]
  },
  {
   "cell_type": "markdown",
   "metadata": {},
   "source": [
    "$$MSE = \\displaystyle\\frac{1}{n}\\sum_{t=1}^{n}e_t^2 $$"
   ]
  },
  {
   "cell_type": "code",
   "execution_count": 201,
   "metadata": {},
   "outputs": [],
   "source": [
    "def gradientDescent(x,yactual,theta,alpha):\n",
    "    num_of_rows,cols=np.shape(x)\n",
    "    col_length=np.shape(theta)\n",
    "    error_list=[]\n",
    "    lambda_list=[]\n",
    "    lambda_log=[]\n",
    "    theta_list=[] #store theta corresponding to each lambda value use it for validation\n",
    "    x=np.array(x)\n",
    "    lambda_val=0.1\n",
    "    while lambda_val<50:\n",
    "        theta=np.zeros(col_length[0])#for training, for each lambda value, theta would be made zero(start afresh for each lambda)\n",
    "        for i in range(0,1000):\n",
    "            pred=np.dot(x,theta.T)\n",
    "            loss_value = pred - yactual\n",
    "            gradient_0=np.dot(x[:,0],loss_value)\n",
    "            theta[0]=theta[0]-(alpha*(gradient_0/num_of_rows))\n",
    "            for j in range(1,col_length[0]):\n",
    "                gradient=np.dot(x[:,j],loss_value)\n",
    "                lamda_part=(lambda_val*np.sign(theta[j]))/2  #np.abs(theta[j]) due to lasso\n",
    "                theta[j]=theta[j] - (alpha * ((gradient+lamda_part)/(num_of_rows)))\n",
    "        theta_list.append(theta)#store the theta value you get after training over a lambda value\n",
    "        lamda_y_pred=np.dot(x,theta)\n",
    "        loss=np.sum((lamda_y_pred-yactual)**2)/(2*num_of_rows)\n",
    "        error_list.append(loss)\n",
    "        lambda_list.append(lambda_val)\n",
    "        lambda_log.append(np.log(lambda_val))\n",
    "        lambda_val+=0.1\n",
    "    return theta_list,error_list,lambda_list,lambda_log"
   ]
  },
  {
   "cell_type": "markdown",
   "metadata": {},
   "source": [
    "Call gradient decent for training data, and find theta corresponding to each lambda"
   ]
  },
  {
   "cell_type": "code",
   "execution_count": 202,
   "metadata": {},
   "outputs": [],
   "source": [
    "theta_list,error_list,lambda_list,lambda_log=gradientDescent(train,yactual,theta,0.001)"
   ]
  },
  {
   "cell_type": "markdown",
   "metadata": {},
   "source": [
    "Find the error for each lambda and corresponding theta values, over testing data."
   ]
  },
  {
   "cell_type": "code",
   "execution_count": 204,
   "metadata": {},
   "outputs": [],
   "source": [
    "def validate_error_list(theta_list,validate,y_validate,lambda_list):\n",
    "    error_list=[]\n",
    "    num_of_rows,cols=np.shape(validate)\n",
    "    for i in range(len(theta_list)):\n",
    "        theta=theta_list[i]\n",
    "        lamda_y_pred=np.dot(validate,theta)\n",
    "        loss = np.sum((lamda_y_pred-y_validate)**2)/(num_of_rows)#+(lambda_list[i]*np.sum(np.abs(theta)))/num_of_rows\n",
    "        error_list.append(loss)\n",
    "    return error_list\n",
    "\n",
    "error=validate_error_list(theta_list,validate,y_validate,lambda_list)\n"
   ]
  },
  {
   "cell_type": "markdown",
   "metadata": {},
   "source": [
    "Plot graph"
   ]
  },
  {
   "cell_type": "code",
   "execution_count": 209,
   "metadata": {
    "scrolled": false
   },
   "outputs": [
    {
     "data": {
      "text/plain": [
       "<matplotlib.legend.Legend at 0x7f977093fe48>"
      ]
     },
     "execution_count": 209,
     "metadata": {},
     "output_type": "execute_result"
    },
    {
     "data": {
      "image/png": "[encoded data removed]",
      "text/plain": [
       "<Figure size 504x504 with 1 Axes>"
      ]
     },
     "metadata": {},
     "output_type": "display_data"
    }
   ],
   "source": [
    "plt.figure(figsize=(7,7))\n",
    "plt.xlabel('lambda', fontsize=18)\n",
    "plt.ylabel('error', fontsize=16)\n",
    "plt.title(\"Lasso: Lambda v/s error\")\n",
    "plt.plot(lambda_log,error,label='Testing error')\n",
    "plt.plot(lambda_log,error_list,label='Training error')\n",
    "plt.legend(loc='best')"
   ]
  }
 ],
 "metadata": {
  "kernelspec": {
   "display_name": "Python 2",
   "language": "python",
   "name": "python2"
  },
  "language_info": {
   "codemirror_mode": {
    "name": "ipython",
    "version": 2
   },
   "file_extension": ".py",
   "mimetype": "text/x-python",
   "name": "python",
   "nbconvert_exporter": "python",
   "pygments_lexer": "ipython2",
   "version": "2.7.15rc1"
  }
 },
 "nbformat": 4,
 "nbformat_minor": 2
}
